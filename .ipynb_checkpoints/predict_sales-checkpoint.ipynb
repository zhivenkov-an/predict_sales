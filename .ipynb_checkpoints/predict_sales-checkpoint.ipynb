{
 "cells": [
  {
   "cell_type": "markdown",
   "metadata": {},
   "source": [
    "## Импорт библиотек"
   ]
  },
  {
   "cell_type": "code",
   "execution_count": 1,
   "metadata": {},
   "outputs": [],
   "source": [
    "import pandas as pd\n",
    "import seaborn as sns\n",
    "import matplotlib.pylab as plt\n",
    "from pylab import rcParams\n",
    "rcParams['figure.figsize'] = 20, 10"
   ]
  },
  {
   "cell_type": "code",
   "execution_count": 2,
   "metadata": {},
   "outputs": [
    {
     "data": {
      "text/html": [
       "<style>.container { width:95% !important; }</style>"
      ],
      "text/plain": [
       "<IPython.core.display.HTML object>"
      ]
     },
     "metadata": {},
     "output_type": "display_data"
    }
   ],
   "source": [
    "from IPython.core.display import display, HTML\n",
    "display(HTML(\"<style>.container { width:95% !important; }</style>\"))\n",
    "# параметры отображения pandas\n",
    "pd.set_option('display.max_colwidth', None)\n",
    "pd.set_option('display.float_format', '{:.2f}'.format)"
   ]
  },
  {
   "cell_type": "code",
   "execution_count": 3,
   "metadata": {},
   "outputs": [
    {
     "name": "stdout",
     "output_type": "stream",
     "text": [
      "Populating the interactive namespace from numpy and matplotlib\n"
     ]
    },
    {
     "name": "stderr",
     "output_type": "stream",
     "text": [
      "C:\\ProgramData\\Anaconda3\\lib\\site-packages\\IPython\\core\\magics\\pylab.py:160: UserWarning: pylab import has clobbered these variables: ['plt']\n",
      "`%matplotlib` prevents importing * from pylab and numpy\n",
      "  \"\\n`%matplotlib` prevents importing * from pylab and numpy\"\n"
     ]
    }
   ],
   "source": [
    "#увеличим дефолтный размер графиков\n",
    "from pylab import rcParams\n",
    "rcParams['figure.figsize'] = 8, 5\n",
    "%pylab inline"
   ]
  },
  {
   "cell_type": "code",
   "execution_count": 4,
   "metadata": {},
   "outputs": [],
   "source": [
    "import numpy as np\n",
    "from sklearn.preprocessing import OneHotEncoder"
   ]
  },
  {
   "cell_type": "code",
   "execution_count": 5,
   "metadata": {},
   "outputs": [],
   "source": [
    "from sklearn import metrics\n",
    "from sklearn.linear_model import LinearRegression\n",
    "from sklearn.metrics import mean_squared_error\n",
    "from sklearn.pipeline import Pipeline\n",
    "from sklearn.preprocessing import StandardScaler\n",
    "from sklearn.tree import DecisionTreeRegressor\n",
    "from sklearn.ensemble import RandomForestRegressor\n",
    "from sklearn.linear_model import LinearRegression\n",
    "#from xgboost import XGBRegressor # conda install -c conda-forge xgboost или # conda install -c anaconda py-xgboost\n",
    "from sklearn.ensemble import GradientBoostingClassifier, GradientBoostingRegressor\n",
    "from sklearn.neighbors import KNeighborsRegressor\n",
    "from sklearn.model_selection import cross_val_score\n"
   ]
  },
  {
   "cell_type": "code",
   "execution_count": 6,
   "metadata": {},
   "outputs": [],
   "source": [
    "# вспомогательная функция\n",
    "def code_mean(data, cat_feature, real_feature):\n",
    "    \"\"\"возвращает значение нового признака на основе вещественного значения другого\"\"\"\n",
    "    return (data[cat_feature].map(data.groupby(cat_feature)[real_feature].mean()))"
   ]
  },
  {
   "cell_type": "markdown",
   "metadata": {},
   "source": [
    "## Задача 1:\n",
    "- Проведите аналитику полученных данных \n",
    "- Подготовьте данные для регрессионной модели \n",
    "- Обучите регрессионную модель и осуществите прогноз на последний месяц для поля SALES \n",
    "- Оцените качество модели с помощью функции metric "
   ]
  },
  {
   "cell_type": "markdown",
   "metadata": {},
   "source": [
    "## Метрика для оценки Вашей модели"
   ]
  },
  {
   "cell_type": "code",
   "execution_count": 7,
   "metadata": {},
   "outputs": [],
   "source": [
    "def metric(y_true, y_pred):    \n",
    "    return np.sum(np.abs(y_true - y_pred)) / np.sum(y_pred) * 100"
   ]
  },
  {
   "cell_type": "markdown",
   "metadata": {},
   "source": [
    "## Данные"
   ]
  },
  {
   "cell_type": "code",
   "execution_count": 8,
   "metadata": {},
   "outputs": [],
   "source": [
    "df = pd.read_csv(r'.\\data\\data_regression_for_task.csv')"
   ]
  },
  {
   "cell_type": "code",
   "execution_count": 9,
   "metadata": {},
   "outputs": [
    {
     "data": {
      "text/html": [
       "<div>\n",
       "<style scoped>\n",
       "    .dataframe tbody tr th:only-of-type {\n",
       "        vertical-align: middle;\n",
       "    }\n",
       "\n",
       "    .dataframe tbody tr th {\n",
       "        vertical-align: top;\n",
       "    }\n",
       "\n",
       "    .dataframe thead th {\n",
       "        text-align: right;\n",
       "    }\n",
       "</style>\n",
       "<table border=\"1\" class=\"dataframe\">\n",
       "  <thead>\n",
       "    <tr style=\"text-align: right;\">\n",
       "      <th></th>\n",
       "      <th>YEAR</th>\n",
       "      <th>MONTH</th>\n",
       "      <th>CONTRAGENT</th>\n",
       "      <th>ARTICLE_CODE</th>\n",
       "      <th>ARTICLE_NAME</th>\n",
       "      <th>ARTICLE_GROUP</th>\n",
       "      <th>SALES</th>\n",
       "      <th>STORE_SALES</th>\n",
       "    </tr>\n",
       "  </thead>\n",
       "  <tbody>\n",
       "    <tr>\n",
       "      <th>0</th>\n",
       "      <td>2017</td>\n",
       "      <td>4</td>\n",
       "      <td>ROYAL WINE CORP</td>\n",
       "      <td>100200</td>\n",
       "      <td>GAMLA CAB - 750ML</td>\n",
       "      <td>WINE</td>\n",
       "      <td>0.00</td>\n",
       "      <td>0.00</td>\n",
       "    </tr>\n",
       "    <tr>\n",
       "      <th>1</th>\n",
       "      <td>2017</td>\n",
       "      <td>4</td>\n",
       "      <td>SANTA MARGHERITA USA INC</td>\n",
       "      <td>100749</td>\n",
       "      <td>SANTA MARGHERITA P/GRIG ALTO - 375ML</td>\n",
       "      <td>WINE</td>\n",
       "      <td>0.00</td>\n",
       "      <td>0.00</td>\n",
       "    </tr>\n",
       "    <tr>\n",
       "      <th>2</th>\n",
       "      <td>2017</td>\n",
       "      <td>4</td>\n",
       "      <td>JIM BEAM BRANDS CO</td>\n",
       "      <td>10103</td>\n",
       "      <td>KNOB CREEK BOURBON 9YR - 100P - 375ML</td>\n",
       "      <td>LIQUOR</td>\n",
       "      <td>0.00</td>\n",
       "      <td>0.00</td>\n",
       "    </tr>\n",
       "    <tr>\n",
       "      <th>3</th>\n",
       "      <td>2017</td>\n",
       "      <td>4</td>\n",
       "      <td>HEAVEN HILL DISTILLERIES INC</td>\n",
       "      <td>10120</td>\n",
       "      <td>J W DANT BOURBON 100P - 1.75L</td>\n",
       "      <td>LIQUOR</td>\n",
       "      <td>0.00</td>\n",
       "      <td>0.00</td>\n",
       "    </tr>\n",
       "    <tr>\n",
       "      <th>4</th>\n",
       "      <td>2017</td>\n",
       "      <td>4</td>\n",
       "      <td>ROYAL WINE CORP</td>\n",
       "      <td>101664</td>\n",
       "      <td>RAMON CORDOVA RIOJA - 750ML</td>\n",
       "      <td>WINE</td>\n",
       "      <td>0.00</td>\n",
       "      <td>0.00</td>\n",
       "    </tr>\n",
       "  </tbody>\n",
       "</table>\n",
       "</div>"
      ],
      "text/plain": [
       "   YEAR  MONTH                    CONTRAGENT ARTICLE_CODE  \\\n",
       "0  2017      4               ROYAL WINE CORP       100200   \n",
       "1  2017      4      SANTA MARGHERITA USA INC       100749   \n",
       "2  2017      4            JIM BEAM BRANDS CO        10103   \n",
       "3  2017      4  HEAVEN HILL DISTILLERIES INC        10120   \n",
       "4  2017      4               ROYAL WINE CORP       101664   \n",
       "\n",
       "                            ARTICLE_NAME ARTICLE_GROUP  SALES  STORE_SALES  \n",
       "0                      GAMLA CAB - 750ML          WINE   0.00         0.00  \n",
       "1   SANTA MARGHERITA P/GRIG ALTO - 375ML          WINE   0.00         0.00  \n",
       "2  KNOB CREEK BOURBON 9YR - 100P - 375ML        LIQUOR   0.00         0.00  \n",
       "3          J W DANT BOURBON 100P - 1.75L        LIQUOR   0.00         0.00  \n",
       "4            RAMON CORDOVA RIOJA - 750ML          WINE   0.00         0.00  "
      ]
     },
     "execution_count": 9,
     "metadata": {},
     "output_type": "execute_result"
    }
   ],
   "source": [
    "df.head(5)"
   ]
  },
  {
   "cell_type": "markdown",
   "metadata": {},
   "source": [
    "## Описание\n",
    "\n",
    "- YEAR: год продажи \n",
    "- MONTH: месяц продажи \n",
    "- CONTRAGENT: поставщик товарной позиции \n",
    "- ARTICLE_CODE: код товарной позиции \n",
    "- ARTICLE_NAME: название товарной позиции \n",
    "- ARTICLE_GROUP: название группы товарных позиций \n",
    "- SALES: продажи товарной позиции в этот месяц и год (целевая переменная) \n",
    "- STORE_SALES: продажи всего магазина \n"
   ]
  },
  {
   "cell_type": "markdown",
   "metadata": {},
   "source": [
    "## аналитика полученных данных"
   ]
  },
  {
   "cell_type": "code",
   "execution_count": 10,
   "metadata": {},
   "outputs": [
    {
     "name": "stdout",
     "output_type": "stream",
     "text": [
      "<class 'pandas.core.frame.DataFrame'>\n",
      "RangeIndex: 128355 entries, 0 to 128354\n",
      "Data columns (total 8 columns):\n",
      " #   Column         Non-Null Count   Dtype  \n",
      "---  ------         --------------   -----  \n",
      " 0   YEAR           128355 non-null  int64  \n",
      " 1   MONTH          128355 non-null  int64  \n",
      " 2   CONTRAGENT     128331 non-null  object \n",
      " 3   ARTICLE_CODE   128355 non-null  object \n",
      " 4   ARTICLE_NAME   128355 non-null  object \n",
      " 5   ARTICLE_GROUP  128354 non-null  object \n",
      " 6   SALES          128355 non-null  float64\n",
      " 7   STORE_SALES    128355 non-null  float64\n",
      "dtypes: float64(2), int64(2), object(4)\n",
      "memory usage: 7.8+ MB\n"
     ]
    }
   ],
   "source": [
    "df.info()"
   ]
  },
  {
   "cell_type": "code",
   "execution_count": 11,
   "metadata": {},
   "outputs": [
    {
     "data": {
      "text/html": [
       "<div>\n",
       "<style scoped>\n",
       "    .dataframe tbody tr th:only-of-type {\n",
       "        vertical-align: middle;\n",
       "    }\n",
       "\n",
       "    .dataframe tbody tr th {\n",
       "        vertical-align: top;\n",
       "    }\n",
       "\n",
       "    .dataframe thead th {\n",
       "        text-align: right;\n",
       "    }\n",
       "</style>\n",
       "<table border=\"1\" class=\"dataframe\">\n",
       "  <thead>\n",
       "    <tr style=\"text-align: right;\">\n",
       "      <th></th>\n",
       "      <th>YEAR</th>\n",
       "      <th>MONTH</th>\n",
       "      <th>CONTRAGENT</th>\n",
       "      <th>ARTICLE_CODE</th>\n",
       "      <th>ARTICLE_NAME</th>\n",
       "      <th>ARTICLE_GROUP</th>\n",
       "      <th>SALES</th>\n",
       "      <th>STORE_SALES</th>\n",
       "    </tr>\n",
       "  </thead>\n",
       "  <tbody>\n",
       "    <tr>\n",
       "      <th>count</th>\n",
       "      <td>128355.00</td>\n",
       "      <td>128355.00</td>\n",
       "      <td>128331</td>\n",
       "      <td>128355</td>\n",
       "      <td>128355</td>\n",
       "      <td>128354</td>\n",
       "      <td>128355.00</td>\n",
       "      <td>128355.00</td>\n",
       "    </tr>\n",
       "    <tr>\n",
       "      <th>unique</th>\n",
       "      <td>nan</td>\n",
       "      <td>nan</td>\n",
       "      <td>333</td>\n",
       "      <td>23556</td>\n",
       "      <td>23624</td>\n",
       "      <td>8</td>\n",
       "      <td>nan</td>\n",
       "      <td>nan</td>\n",
       "    </tr>\n",
       "    <tr>\n",
       "      <th>top</th>\n",
       "      <td>nan</td>\n",
       "      <td>nan</td>\n",
       "      <td>REPUBLIC NATIONAL DISTRIBUTING CO</td>\n",
       "      <td>70882</td>\n",
       "      <td>LA VIELLE FERME CDV RED - 750ML</td>\n",
       "      <td>WINE</td>\n",
       "      <td>nan</td>\n",
       "      <td>nan</td>\n",
       "    </tr>\n",
       "    <tr>\n",
       "      <th>freq</th>\n",
       "      <td>nan</td>\n",
       "      <td>nan</td>\n",
       "      <td>9847</td>\n",
       "      <td>10</td>\n",
       "      <td>19</td>\n",
       "      <td>79077</td>\n",
       "      <td>nan</td>\n",
       "      <td>nan</td>\n",
       "    </tr>\n",
       "    <tr>\n",
       "      <th>mean</th>\n",
       "      <td>2017.21</td>\n",
       "      <td>7.08</td>\n",
       "      <td>NaN</td>\n",
       "      <td>NaN</td>\n",
       "      <td>NaN</td>\n",
       "      <td>NaN</td>\n",
       "      <td>6563.04</td>\n",
       "      <td>22.62</td>\n",
       "    </tr>\n",
       "    <tr>\n",
       "      <th>std</th>\n",
       "      <td>0.40</td>\n",
       "      <td>3.65</td>\n",
       "      <td>NaN</td>\n",
       "      <td>NaN</td>\n",
       "      <td>NaN</td>\n",
       "      <td>NaN</td>\n",
       "      <td>28924.94</td>\n",
       "      <td>239.69</td>\n",
       "    </tr>\n",
       "    <tr>\n",
       "      <th>min</th>\n",
       "      <td>2017.00</td>\n",
       "      <td>1.00</td>\n",
       "      <td>NaN</td>\n",
       "      <td>NaN</td>\n",
       "      <td>NaN</td>\n",
       "      <td>NaN</td>\n",
       "      <td>-6490.00</td>\n",
       "      <td>-4996.00</td>\n",
       "    </tr>\n",
       "    <tr>\n",
       "      <th>25%</th>\n",
       "      <td>2017.00</td>\n",
       "      <td>5.00</td>\n",
       "      <td>NaN</td>\n",
       "      <td>NaN</td>\n",
       "      <td>NaN</td>\n",
       "      <td>NaN</td>\n",
       "      <td>0.00</td>\n",
       "      <td>0.00</td>\n",
       "    </tr>\n",
       "    <tr>\n",
       "      <th>50%</th>\n",
       "      <td>2017.00</td>\n",
       "      <td>8.00</td>\n",
       "      <td>NaN</td>\n",
       "      <td>NaN</td>\n",
       "      <td>NaN</td>\n",
       "      <td>NaN</td>\n",
       "      <td>330.00</td>\n",
       "      <td>1.00</td>\n",
       "    </tr>\n",
       "    <tr>\n",
       "      <th>75%</th>\n",
       "      <td>2017.00</td>\n",
       "      <td>10.00</td>\n",
       "      <td>NaN</td>\n",
       "      <td>NaN</td>\n",
       "      <td>NaN</td>\n",
       "      <td>NaN</td>\n",
       "      <td>3250.00</td>\n",
       "      <td>4.00</td>\n",
       "    </tr>\n",
       "    <tr>\n",
       "      <th>max</th>\n",
       "      <td>2018.00</td>\n",
       "      <td>12.00</td>\n",
       "      <td>NaN</td>\n",
       "      <td>NaN</td>\n",
       "      <td>NaN</td>\n",
       "      <td>NaN</td>\n",
       "      <td>1616600.00</td>\n",
       "      <td>16271.75</td>\n",
       "    </tr>\n",
       "  </tbody>\n",
       "</table>\n",
       "</div>"
      ],
      "text/plain": [
       "            YEAR     MONTH                         CONTRAGENT ARTICLE_CODE  \\\n",
       "count  128355.00 128355.00                             128331       128355   \n",
       "unique       nan       nan                                333        23556   \n",
       "top          nan       nan  REPUBLIC NATIONAL DISTRIBUTING CO        70882   \n",
       "freq         nan       nan                               9847           10   \n",
       "mean     2017.21      7.08                                NaN          NaN   \n",
       "std         0.40      3.65                                NaN          NaN   \n",
       "min      2017.00      1.00                                NaN          NaN   \n",
       "25%      2017.00      5.00                                NaN          NaN   \n",
       "50%      2017.00      8.00                                NaN          NaN   \n",
       "75%      2017.00     10.00                                NaN          NaN   \n",
       "max      2018.00     12.00                                NaN          NaN   \n",
       "\n",
       "                           ARTICLE_NAME ARTICLE_GROUP      SALES  STORE_SALES  \n",
       "count                            128355        128354  128355.00    128355.00  \n",
       "unique                            23624             8        nan          nan  \n",
       "top     LA VIELLE FERME CDV RED - 750ML          WINE        nan          nan  \n",
       "freq                                 19         79077        nan          nan  \n",
       "mean                                NaN           NaN    6563.04        22.62  \n",
       "std                                 NaN           NaN   28924.94       239.69  \n",
       "min                                 NaN           NaN   -6490.00     -4996.00  \n",
       "25%                                 NaN           NaN       0.00         0.00  \n",
       "50%                                 NaN           NaN     330.00         1.00  \n",
       "75%                                 NaN           NaN    3250.00         4.00  \n",
       "max                                 NaN           NaN 1616600.00     16271.75  "
      ]
     },
     "execution_count": 11,
     "metadata": {},
     "output_type": "execute_result"
    }
   ],
   "source": [
    "df.describe(include=['int64','float64','object'])"
   ]
  },
  {
   "cell_type": "markdown",
   "metadata": {},
   "source": [
    "#### <font color='red'> В исходном датасете есть выбросы и шумы. Есть пропуски в данных. Далее нужно будет посмотреть распределение по каждому признаку</font>"
   ]
  },
  {
   "cell_type": "markdown",
   "metadata": {},
   "source": [
    "### Ошибки в данных, которые виды из общего описания\n",
    "- 1 Есть отрицательные цены в продажах и магазинах\n",
    "- 2 Максимальные продажи, больше чем продажи магазина.\n",
    "- 3 Есть дубли в названиях ARTICLE_NAME для одинаковых ARTICLE_CODE"
   ]
  },
  {
   "cell_type": "code",
   "execution_count": 12,
   "metadata": {},
   "outputs": [
    {
     "data": {
      "text/html": [
       "<div>\n",
       "<style scoped>\n",
       "    .dataframe tbody tr th:only-of-type {\n",
       "        vertical-align: middle;\n",
       "    }\n",
       "\n",
       "    .dataframe tbody tr th {\n",
       "        vertical-align: top;\n",
       "    }\n",
       "\n",
       "    .dataframe thead th {\n",
       "        text-align: right;\n",
       "    }\n",
       "</style>\n",
       "<table border=\"1\" class=\"dataframe\">\n",
       "  <thead>\n",
       "    <tr style=\"text-align: right;\">\n",
       "      <th></th>\n",
       "      <th>YEAR</th>\n",
       "      <th>MONTH</th>\n",
       "    </tr>\n",
       "  </thead>\n",
       "  <tbody>\n",
       "    <tr>\n",
       "      <th>0</th>\n",
       "      <td>2017</td>\n",
       "      <td>4</td>\n",
       "    </tr>\n",
       "    <tr>\n",
       "      <th>2689</th>\n",
       "      <td>2017</td>\n",
       "      <td>5</td>\n",
       "    </tr>\n",
       "    <tr>\n",
       "      <th>18654</th>\n",
       "      <td>2017</td>\n",
       "      <td>6</td>\n",
       "    </tr>\n",
       "    <tr>\n",
       "      <th>19945</th>\n",
       "      <td>2017</td>\n",
       "      <td>8</td>\n",
       "    </tr>\n",
       "    <tr>\n",
       "      <th>41826</th>\n",
       "      <td>2017</td>\n",
       "      <td>9</td>\n",
       "    </tr>\n",
       "    <tr>\n",
       "      <th>2913</th>\n",
       "      <td>2017</td>\n",
       "      <td>10</td>\n",
       "    </tr>\n",
       "    <tr>\n",
       "      <th>72880</th>\n",
       "      <td>2017</td>\n",
       "      <td>11</td>\n",
       "    </tr>\n",
       "    <tr>\n",
       "      <th>3806</th>\n",
       "      <td>2017</td>\n",
       "      <td>12</td>\n",
       "    </tr>\n",
       "    <tr>\n",
       "      <th>101911</th>\n",
       "      <td>2018</td>\n",
       "      <td>1</td>\n",
       "    </tr>\n",
       "    <tr>\n",
       "      <th>4068</th>\n",
       "      <td>2018</td>\n",
       "      <td>2</td>\n",
       "    </tr>\n",
       "  </tbody>\n",
       "</table>\n",
       "</div>"
      ],
      "text/plain": [
       "        YEAR  MONTH\n",
       "0       2017      4\n",
       "2689    2017      5\n",
       "18654   2017      6\n",
       "19945   2017      8\n",
       "41826   2017      9\n",
       "2913    2017     10\n",
       "72880   2017     11\n",
       "3806    2017     12\n",
       "101911  2018      1\n",
       "4068    2018      2"
      ]
     },
     "execution_count": 12,
     "metadata": {},
     "output_type": "execute_result"
    }
   ],
   "source": [
    "df[['YEAR','MONTH']].drop_duplicates().sort_values(by=['YEAR','MONTH'])"
   ]
  },
  {
   "cell_type": "markdown",
   "metadata": {},
   "source": [
    "### Подготовка данных"
   ]
  },
  {
   "cell_type": "code",
   "execution_count": 13,
   "metadata": {},
   "outputs": [
    {
     "name": "stdout",
     "output_type": "stream",
     "text": [
      "Начальное кол-во строк 128355\n"
     ]
    }
   ],
   "source": [
    "print('Начальное кол-во строк', df.shape[0])"
   ]
  },
  {
   "cell_type": "code",
   "execution_count": 75,
   "metadata": {},
   "outputs": [
    {
     "name": "stdout",
     "output_type": "stream",
     "text": [
      "Убрали отрицательные продажи 127993\n",
      "Убрали отрицательные продажи в магазинах 78396\n"
     ]
    }
   ],
   "source": [
    "# Вопрос к заказчику - Почему отрицательные цены? Можем убрать эти продажи?\n",
    "df = df[df['SALES'] >= 0]\n",
    "print('Убрали отрицательные продажи', df.shape[0])\n",
    "\n",
    "df = df[df['STORE_SALES'] > 0]\n",
    "print('Убрали отрицательные продажи в магазинах', df.shape[0])"
   ]
  },
  {
   "cell_type": "markdown",
   "metadata": {},
   "source": [
    "### Визуальный анализ"
   ]
  },
  {
   "cell_type": "code",
   "execution_count": 15,
   "metadata": {},
   "outputs": [
    {
     "data": {
      "text/plain": [
       "<seaborn.axisgrid.PairGrid at 0xc115e08>"
      ]
     },
     "execution_count": 15,
     "metadata": {},
     "output_type": "execute_result"
    },
    {
     "data": {
      "image/png": "[encoded data removed]",
      "text/plain": [
       "<Figure size 720x720 with 20 Axes>"
      ]
     },
     "metadata": {
      "needs_background": "light"
     },
     "output_type": "display_data"
    }
   ],
   "source": [
    "# построим парные диаграммы зависимости вещественных признаков\n",
    "cols = df.select_dtypes(exclude=['object']).columns\n",
    "sns.pairplot(df[cols])"
   ]
  },
  {
   "cell_type": "markdown",
   "metadata": {},
   "source": [
    "### Выводы из парных графиков\n",
    "- При нулевых продажах SALES, магазин может продавать другие позиции\n",
    "- Есть сезонность продаж, по месяцам\n",
    "- нет данных по июню 7-ому месяцу, в 2017 \n"
   ]
  },
  {
   "cell_type": "code",
   "execution_count": 16,
   "metadata": {},
   "outputs": [
    {
     "data": {
      "text/html": [
       "<div>\n",
       "<style scoped>\n",
       "    .dataframe tbody tr th:only-of-type {\n",
       "        vertical-align: middle;\n",
       "    }\n",
       "\n",
       "    .dataframe tbody tr th {\n",
       "        vertical-align: top;\n",
       "    }\n",
       "\n",
       "    .dataframe thead th {\n",
       "        text-align: right;\n",
       "    }\n",
       "</style>\n",
       "<table border=\"1\" class=\"dataframe\">\n",
       "  <thead>\n",
       "    <tr style=\"text-align: right;\">\n",
       "      <th></th>\n",
       "      <th>YEAR</th>\n",
       "      <th>MONTH</th>\n",
       "      <th>CONTRAGENT</th>\n",
       "      <th>ARTICLE_CODE</th>\n",
       "      <th>ARTICLE_NAME</th>\n",
       "      <th>ARTICLE_GROUP</th>\n",
       "      <th>SALES</th>\n",
       "      <th>STORE_SALES</th>\n",
       "    </tr>\n",
       "  </thead>\n",
       "  <tbody>\n",
       "    <tr>\n",
       "      <th>0</th>\n",
       "      <td>2017</td>\n",
       "      <td>4</td>\n",
       "      <td>ROYAL WINE CORP</td>\n",
       "      <td>100200</td>\n",
       "      <td>GAMLA CAB - 750ML</td>\n",
       "      <td>WINE</td>\n",
       "      <td>0.00</td>\n",
       "      <td>0.00</td>\n",
       "    </tr>\n",
       "    <tr>\n",
       "      <th>1</th>\n",
       "      <td>2017</td>\n",
       "      <td>4</td>\n",
       "      <td>SANTA MARGHERITA USA INC</td>\n",
       "      <td>100749</td>\n",
       "      <td>SANTA MARGHERITA P/GRIG ALTO - 375ML</td>\n",
       "      <td>WINE</td>\n",
       "      <td>0.00</td>\n",
       "      <td>0.00</td>\n",
       "    </tr>\n",
       "    <tr>\n",
       "      <th>2</th>\n",
       "      <td>2017</td>\n",
       "      <td>4</td>\n",
       "      <td>JIM BEAM BRANDS CO</td>\n",
       "      <td>10103</td>\n",
       "      <td>KNOB CREEK BOURBON 9YR - 100P - 375ML</td>\n",
       "      <td>LIQUOR</td>\n",
       "      <td>0.00</td>\n",
       "      <td>0.00</td>\n",
       "    </tr>\n",
       "    <tr>\n",
       "      <th>3</th>\n",
       "      <td>2017</td>\n",
       "      <td>4</td>\n",
       "      <td>HEAVEN HILL DISTILLERIES INC</td>\n",
       "      <td>10120</td>\n",
       "      <td>J W DANT BOURBON 100P - 1.75L</td>\n",
       "      <td>LIQUOR</td>\n",
       "      <td>0.00</td>\n",
       "      <td>0.00</td>\n",
       "    </tr>\n",
       "    <tr>\n",
       "      <th>4</th>\n",
       "      <td>2017</td>\n",
       "      <td>4</td>\n",
       "      <td>ROYAL WINE CORP</td>\n",
       "      <td>101664</td>\n",
       "      <td>RAMON CORDOVA RIOJA - 750ML</td>\n",
       "      <td>WINE</td>\n",
       "      <td>0.00</td>\n",
       "      <td>0.00</td>\n",
       "    </tr>\n",
       "    <tr>\n",
       "      <th>...</th>\n",
       "      <td>...</td>\n",
       "      <td>...</td>\n",
       "      <td>...</td>\n",
       "      <td>...</td>\n",
       "      <td>...</td>\n",
       "      <td>...</td>\n",
       "      <td>...</td>\n",
       "      <td>...</td>\n",
       "    </tr>\n",
       "    <tr>\n",
       "      <th>128348</th>\n",
       "      <td>2018</td>\n",
       "      <td>2</td>\n",
       "      <td>LEGENDS LTD</td>\n",
       "      <td>99753</td>\n",
       "      <td>DUTCHESS DE BOURGOGNE NR - 750ML</td>\n",
       "      <td>BEER</td>\n",
       "      <td>0.00</td>\n",
       "      <td>2.00</td>\n",
       "    </tr>\n",
       "    <tr>\n",
       "      <th>128349</th>\n",
       "      <td>2018</td>\n",
       "      <td>2</td>\n",
       "      <td>COASTAL BREWING COMPANY LLC</td>\n",
       "      <td>99813</td>\n",
       "      <td>DOMINION OAK BARREL STOUT 1/2K</td>\n",
       "      <td>KEGS</td>\n",
       "      <td>0.00</td>\n",
       "      <td>2.00</td>\n",
       "    </tr>\n",
       "    <tr>\n",
       "      <th>128350</th>\n",
       "      <td>2018</td>\n",
       "      <td>2</td>\n",
       "      <td>ANHEUSER BUSCH INC</td>\n",
       "      <td>9997</td>\n",
       "      <td>HOEGAARDEN 4/6NR - 12OZ</td>\n",
       "      <td>BEER</td>\n",
       "      <td>66460.00</td>\n",
       "      <td>212.00</td>\n",
       "    </tr>\n",
       "    <tr>\n",
       "      <th>128351</th>\n",
       "      <td>2018</td>\n",
       "      <td>2</td>\n",
       "      <td>COASTAL BREWING COMPANY LLC</td>\n",
       "      <td>99970</td>\n",
       "      <td>DOMINION OAK BARREL STOUT 4/6 NR - 12OZ</td>\n",
       "      <td>BEER</td>\n",
       "      <td>9080.00</td>\n",
       "      <td>35.00</td>\n",
       "    </tr>\n",
       "    <tr>\n",
       "      <th>128352</th>\n",
       "      <td>2018</td>\n",
       "      <td>2</td>\n",
       "      <td>BOSTON BEER CORPORATION</td>\n",
       "      <td>99988</td>\n",
       "      <td>SAM ADAMS COLD SNAP 1/6 KG</td>\n",
       "      <td>KEGS</td>\n",
       "      <td>0.00</td>\n",
       "      <td>32.00</td>\n",
       "    </tr>\n",
       "  </tbody>\n",
       "</table>\n",
       "<p>127994 rows × 8 columns</p>\n",
       "</div>"
      ],
      "text/plain": [
       "        YEAR  MONTH                    CONTRAGENT ARTICLE_CODE  \\\n",
       "0       2017      4               ROYAL WINE CORP       100200   \n",
       "1       2017      4      SANTA MARGHERITA USA INC       100749   \n",
       "2       2017      4            JIM BEAM BRANDS CO        10103   \n",
       "3       2017      4  HEAVEN HILL DISTILLERIES INC        10120   \n",
       "4       2017      4               ROYAL WINE CORP       101664   \n",
       "...      ...    ...                           ...          ...   \n",
       "128348  2018      2                   LEGENDS LTD        99753   \n",
       "128349  2018      2   COASTAL BREWING COMPANY LLC        99813   \n",
       "128350  2018      2            ANHEUSER BUSCH INC         9997   \n",
       "128351  2018      2   COASTAL BREWING COMPANY LLC        99970   \n",
       "128352  2018      2       BOSTON BEER CORPORATION        99988   \n",
       "\n",
       "                                   ARTICLE_NAME ARTICLE_GROUP    SALES  \\\n",
       "0                             GAMLA CAB - 750ML          WINE     0.00   \n",
       "1          SANTA MARGHERITA P/GRIG ALTO - 375ML          WINE     0.00   \n",
       "2         KNOB CREEK BOURBON 9YR - 100P - 375ML        LIQUOR     0.00   \n",
       "3                 J W DANT BOURBON 100P - 1.75L        LIQUOR     0.00   \n",
       "4                   RAMON CORDOVA RIOJA - 750ML          WINE     0.00   \n",
       "...                                         ...           ...      ...   \n",
       "128348         DUTCHESS DE BOURGOGNE NR - 750ML          BEER     0.00   \n",
       "128349           DOMINION OAK BARREL STOUT 1/2K          KEGS     0.00   \n",
       "128350                  HOEGAARDEN 4/6NR - 12OZ          BEER 66460.00   \n",
       "128351  DOMINION OAK BARREL STOUT 4/6 NR - 12OZ          BEER  9080.00   \n",
       "128352               SAM ADAMS COLD SNAP 1/6 KG          KEGS     0.00   \n",
       "\n",
       "        STORE_SALES  \n",
       "0              0.00  \n",
       "1              0.00  \n",
       "2              0.00  \n",
       "3              0.00  \n",
       "4              0.00  \n",
       "...             ...  \n",
       "128348         2.00  \n",
       "128349         2.00  \n",
       "128350       212.00  \n",
       "128351        35.00  \n",
       "128352        32.00  \n",
       "\n",
       "[127994 rows x 8 columns]"
      ]
     },
     "execution_count": 16,
     "metadata": {},
     "output_type": "execute_result"
    }
   ],
   "source": [
    "df"
   ]
  },
  {
   "cell_type": "code",
   "execution_count": 17,
   "metadata": {},
   "outputs": [
    {
     "data": {
      "text/plain": [
       "<seaborn.axisgrid.JointGrid at 0xe758ac8>"
      ]
     },
     "execution_count": 17,
     "metadata": {},
     "output_type": "execute_result"
    },
    {
     "data": {
      "image/png": "[encoded data removed]",
      "text/plain": [
       "<Figure size 432x432 with 3 Axes>"
      ]
     },
     "metadata": {
      "needs_background": "light"
     },
     "output_type": "display_data"
    }
   ],
   "source": [
    "sns.jointplot(data=df[df['YEAR'] == 2017], x=\"MONTH\", y=\"STORE_SALES\")"
   ]
  },
  {
   "cell_type": "markdown",
   "metadata": {},
   "source": [
    "### зависимость категориальных признаков "
   ]
  },
  {
   "cell_type": "code",
   "execution_count": 18,
   "metadata": {},
   "outputs": [
    {
     "data": {
      "text/plain": [
       "Text(0.5, 1.0, 'Зависимость продаж от группы')"
      ]
     },
     "execution_count": 18,
     "metadata": {},
     "output_type": "execute_result"
    },
    {
     "data": {
      "image/png": "[encoded data removed]",
      "text/plain": [
       "<Figure size 432x288 with 1 Axes>"
      ]
     },
     "metadata": {
      "needs_background": "light"
     },
     "output_type": "display_data"
    }
   ],
   "source": [
    "sns.boxplot(y='ARTICLE_GROUP', x='SALES', data=df, orient='h').set_title(\"Зависимость продаж от группы\")"
   ]
  },
  {
   "cell_type": "code",
   "execution_count": 19,
   "metadata": {},
   "outputs": [],
   "source": [
    "df.dropna(inplace=True)"
   ]
  },
  {
   "cell_type": "code",
   "execution_count": 20,
   "metadata": {},
   "outputs": [
    {
     "data": {
      "text/html": [
       "<div>\n",
       "<style scoped>\n",
       "    .dataframe tbody tr th:only-of-type {\n",
       "        vertical-align: middle;\n",
       "    }\n",
       "\n",
       "    .dataframe tbody tr th {\n",
       "        vertical-align: top;\n",
       "    }\n",
       "\n",
       "    .dataframe thead th {\n",
       "        text-align: right;\n",
       "    }\n",
       "</style>\n",
       "<table border=\"1\" class=\"dataframe\">\n",
       "  <thead>\n",
       "    <tr style=\"text-align: right;\">\n",
       "      <th></th>\n",
       "      <th>YEAR</th>\n",
       "      <th>MONTH</th>\n",
       "      <th>CONTRAGENT</th>\n",
       "      <th>ARTICLE_CODE</th>\n",
       "      <th>ARTICLE_NAME</th>\n",
       "      <th>ARTICLE_GROUP</th>\n",
       "      <th>SALES</th>\n",
       "      <th>STORE_SALES</th>\n",
       "    </tr>\n",
       "  </thead>\n",
       "  <tbody>\n",
       "    <tr>\n",
       "      <th>0</th>\n",
       "      <td>2017</td>\n",
       "      <td>4</td>\n",
       "      <td>ROYAL WINE CORP</td>\n",
       "      <td>100200</td>\n",
       "      <td>GAMLA CAB - 750ML</td>\n",
       "      <td>WINE</td>\n",
       "      <td>0.00</td>\n",
       "      <td>0.00</td>\n",
       "    </tr>\n",
       "    <tr>\n",
       "      <th>1</th>\n",
       "      <td>2017</td>\n",
       "      <td>4</td>\n",
       "      <td>SANTA MARGHERITA USA INC</td>\n",
       "      <td>100749</td>\n",
       "      <td>SANTA MARGHERITA P/GRIG ALTO - 375ML</td>\n",
       "      <td>WINE</td>\n",
       "      <td>0.00</td>\n",
       "      <td>0.00</td>\n",
       "    </tr>\n",
       "    <tr>\n",
       "      <th>2</th>\n",
       "      <td>2017</td>\n",
       "      <td>4</td>\n",
       "      <td>JIM BEAM BRANDS CO</td>\n",
       "      <td>10103</td>\n",
       "      <td>KNOB CREEK BOURBON 9YR - 100P - 375ML</td>\n",
       "      <td>LIQUOR</td>\n",
       "      <td>0.00</td>\n",
       "      <td>0.00</td>\n",
       "    </tr>\n",
       "  </tbody>\n",
       "</table>\n",
       "</div>"
      ],
      "text/plain": [
       "   YEAR  MONTH                CONTRAGENT ARTICLE_CODE  \\\n",
       "0  2017      4           ROYAL WINE CORP       100200   \n",
       "1  2017      4  SANTA MARGHERITA USA INC       100749   \n",
       "2  2017      4        JIM BEAM BRANDS CO        10103   \n",
       "\n",
       "                            ARTICLE_NAME ARTICLE_GROUP  SALES  STORE_SALES  \n",
       "0                      GAMLA CAB - 750ML          WINE   0.00         0.00  \n",
       "1   SANTA MARGHERITA P/GRIG ALTO - 375ML          WINE   0.00         0.00  \n",
       "2  KNOB CREEK BOURBON 9YR - 100P - 375ML        LIQUOR   0.00         0.00  "
      ]
     },
     "execution_count": 20,
     "metadata": {},
     "output_type": "execute_result"
    }
   ],
   "source": [
    "df.head(3)"
   ]
  },
  {
   "cell_type": "code",
   "execution_count": 21,
   "metadata": {},
   "outputs": [],
   "source": [
    "# Переводим категориальные признаки ARTICLE_GROUP Группа товаров и CONTRAGENT контрагент в бинарные признаки. 1 да, 0 нет.\n",
    "onehot_df = pd.get_dummies(df[['ARTICLE_GROUP']])\n",
    "df = pd.concat([df,onehot_df], axis = 1)"
   ]
  },
  {
   "cell_type": "code",
   "execution_count": 22,
   "metadata": {},
   "outputs": [
    {
     "data": {
      "text/html": [
       "<div>\n",
       "<style scoped>\n",
       "    .dataframe tbody tr th:only-of-type {\n",
       "        vertical-align: middle;\n",
       "    }\n",
       "\n",
       "    .dataframe tbody tr th {\n",
       "        vertical-align: top;\n",
       "    }\n",
       "\n",
       "    .dataframe thead th {\n",
       "        text-align: right;\n",
       "    }\n",
       "</style>\n",
       "<table border=\"1\" class=\"dataframe\">\n",
       "  <thead>\n",
       "    <tr style=\"text-align: right;\">\n",
       "      <th></th>\n",
       "      <th>YEAR</th>\n",
       "      <th>MONTH</th>\n",
       "      <th>CONTRAGENT</th>\n",
       "      <th>ARTICLE_CODE</th>\n",
       "      <th>ARTICLE_NAME</th>\n",
       "      <th>ARTICLE_GROUP</th>\n",
       "      <th>SALES</th>\n",
       "      <th>STORE_SALES</th>\n",
       "      <th>ARTICLE_GROUP_BEER</th>\n",
       "      <th>ARTICLE_GROUP_KEGS</th>\n",
       "      <th>ARTICLE_GROUP_LIQUOR</th>\n",
       "      <th>ARTICLE_GROUP_NON-ALCOHOL</th>\n",
       "      <th>ARTICLE_GROUP_REF</th>\n",
       "      <th>ARTICLE_GROUP_STR_SUPPLIES</th>\n",
       "      <th>ARTICLE_GROUP_WINE</th>\n",
       "    </tr>\n",
       "  </thead>\n",
       "  <tbody>\n",
       "    <tr>\n",
       "      <th>0</th>\n",
       "      <td>2017</td>\n",
       "      <td>4</td>\n",
       "      <td>ROYAL WINE CORP</td>\n",
       "      <td>100200</td>\n",
       "      <td>GAMLA CAB - 750ML</td>\n",
       "      <td>WINE</td>\n",
       "      <td>0.00</td>\n",
       "      <td>0.00</td>\n",
       "      <td>0</td>\n",
       "      <td>0</td>\n",
       "      <td>0</td>\n",
       "      <td>0</td>\n",
       "      <td>0</td>\n",
       "      <td>0</td>\n",
       "      <td>1</td>\n",
       "    </tr>\n",
       "    <tr>\n",
       "      <th>1</th>\n",
       "      <td>2017</td>\n",
       "      <td>4</td>\n",
       "      <td>SANTA MARGHERITA USA INC</td>\n",
       "      <td>100749</td>\n",
       "      <td>SANTA MARGHERITA P/GRIG ALTO - 375ML</td>\n",
       "      <td>WINE</td>\n",
       "      <td>0.00</td>\n",
       "      <td>0.00</td>\n",
       "      <td>0</td>\n",
       "      <td>0</td>\n",
       "      <td>0</td>\n",
       "      <td>0</td>\n",
       "      <td>0</td>\n",
       "      <td>0</td>\n",
       "      <td>1</td>\n",
       "    </tr>\n",
       "  </tbody>\n",
       "</table>\n",
       "</div>"
      ],
      "text/plain": [
       "   YEAR  MONTH                CONTRAGENT ARTICLE_CODE  \\\n",
       "0  2017      4           ROYAL WINE CORP       100200   \n",
       "1  2017      4  SANTA MARGHERITA USA INC       100749   \n",
       "\n",
       "                           ARTICLE_NAME ARTICLE_GROUP  SALES  STORE_SALES  \\\n",
       "0                     GAMLA CAB - 750ML          WINE   0.00         0.00   \n",
       "1  SANTA MARGHERITA P/GRIG ALTO - 375ML          WINE   0.00         0.00   \n",
       "\n",
       "   ARTICLE_GROUP_BEER  ARTICLE_GROUP_KEGS  ARTICLE_GROUP_LIQUOR  \\\n",
       "0                   0                   0                     0   \n",
       "1                   0                   0                     0   \n",
       "\n",
       "   ARTICLE_GROUP_NON-ALCOHOL  ARTICLE_GROUP_REF  ARTICLE_GROUP_STR_SUPPLIES  \\\n",
       "0                          0                  0                           0   \n",
       "1                          0                  0                           0   \n",
       "\n",
       "   ARTICLE_GROUP_WINE  \n",
       "0                   1  \n",
       "1                   1  "
      ]
     },
     "execution_count": 22,
     "metadata": {},
     "output_type": "execute_result"
    }
   ],
   "source": [
    "df.head(2)"
   ]
  },
  {
   "cell_type": "code",
   "execution_count": 23,
   "metadata": {},
   "outputs": [],
   "source": [
    "# Переводим признак кода товара (или наименование товара в вещественный признак, привязанный к средней цене товара)\n",
    "# Если заполнять признаковую матрицу для каждого товара, то получается слишком большая матрица. Возможное решение - закодировать средней ценой товара. Новый признак будет упорядочивать товары по дороговизне \n",
    "df['ARTICLE_CODE_digitized'] = code_mean(df, 'ARTICLE_CODE' , 'SALES')\n",
    "df['CONTRAGENT_digitized'] = code_mean(df, 'CONTRAGENT', 'SALES')"
   ]
  },
  {
   "cell_type": "code",
   "execution_count": 24,
   "metadata": {},
   "outputs": [
    {
     "name": "stdout",
     "output_type": "stream",
     "text": [
      "<class 'pandas.core.frame.DataFrame'>\n",
      "Int64Index: 127993 entries, 0 to 128352\n",
      "Data columns (total 17 columns):\n",
      " #   Column                      Non-Null Count   Dtype  \n",
      "---  ------                      --------------   -----  \n",
      " 0   YEAR                        127993 non-null  int64  \n",
      " 1   MONTH                       127993 non-null  int64  \n",
      " 2   CONTRAGENT                  127993 non-null  object \n",
      " 3   ARTICLE_CODE                127993 non-null  object \n",
      " 4   ARTICLE_NAME                127993 non-null  object \n",
      " 5   ARTICLE_GROUP               127993 non-null  object \n",
      " 6   SALES                       127993 non-null  float64\n",
      " 7   STORE_SALES                 127993 non-null  float64\n",
      " 8   ARTICLE_GROUP_BEER          127993 non-null  uint8  \n",
      " 9   ARTICLE_GROUP_KEGS          127993 non-null  uint8  \n",
      " 10  ARTICLE_GROUP_LIQUOR        127993 non-null  uint8  \n",
      " 11  ARTICLE_GROUP_NON-ALCOHOL   127993 non-null  uint8  \n",
      " 12  ARTICLE_GROUP_REF           127993 non-null  uint8  \n",
      " 13  ARTICLE_GROUP_STR_SUPPLIES  127993 non-null  uint8  \n",
      " 14  ARTICLE_GROUP_WINE          127993 non-null  uint8  \n",
      " 15  ARTICLE_CODE_digitized      127993 non-null  float64\n",
      " 16  CONTRAGENT_digitized        127993 non-null  float64\n",
      "dtypes: float64(4), int64(2), object(4), uint8(7)\n",
      "memory usage: 11.6+ MB\n"
     ]
    }
   ],
   "source": [
    "df.info()"
   ]
  },
  {
   "cell_type": "code",
   "execution_count": 76,
   "metadata": {},
   "outputs": [
    {
     "name": "stdout",
     "output_type": "stream",
     "text": [
      "<class 'pandas.core.frame.DataFrame'>\n",
      "Int64Index: 78396 entries, 2689 to 128352\n",
      "Data columns (total 13 columns):\n",
      " #   Column                      Non-Null Count  Dtype  \n",
      "---  ------                      --------------  -----  \n",
      " 0   YEAR                        78396 non-null  int64  \n",
      " 1   MONTH                       78396 non-null  int64  \n",
      " 2   SALES                       78396 non-null  float64\n",
      " 3   STORE_SALES                 78396 non-null  float64\n",
      " 4   ARTICLE_GROUP_BEER          78396 non-null  uint8  \n",
      " 5   ARTICLE_GROUP_KEGS          78396 non-null  uint8  \n",
      " 6   ARTICLE_GROUP_LIQUOR        78396 non-null  uint8  \n",
      " 7   ARTICLE_GROUP_NON-ALCOHOL   78396 non-null  uint8  \n",
      " 8   ARTICLE_GROUP_REF           78396 non-null  uint8  \n",
      " 9   ARTICLE_GROUP_STR_SUPPLIES  78396 non-null  uint8  \n",
      " 10  ARTICLE_GROUP_WINE          78396 non-null  uint8  \n",
      " 11  ARTICLE_CODE_digitized      78396 non-null  float64\n",
      " 12  CONTRAGENT_digitized        78396 non-null  float64\n",
      "dtypes: float64(4), int64(2), uint8(7)\n",
      "memory usage: 4.7 MB\n"
     ]
    }
   ],
   "source": [
    "# Берём все колонки, кроме object (текстовых категориальных признаков)\n",
    "df_sales = df.select_dtypes(exclude=['object'])\n",
    "df_sales.info()"
   ]
  },
  {
   "cell_type": "code",
   "execution_count": 77,
   "metadata": {},
   "outputs": [
    {
     "data": {
      "text/html": [
       "<div>\n",
       "<style scoped>\n",
       "    .dataframe tbody tr th:only-of-type {\n",
       "        vertical-align: middle;\n",
       "    }\n",
       "\n",
       "    .dataframe tbody tr th {\n",
       "        vertical-align: top;\n",
       "    }\n",
       "\n",
       "    .dataframe thead th {\n",
       "        text-align: right;\n",
       "    }\n",
       "</style>\n",
       "<table border=\"1\" class=\"dataframe\">\n",
       "  <thead>\n",
       "    <tr style=\"text-align: right;\">\n",
       "      <th></th>\n",
       "      <th>YEAR</th>\n",
       "      <th>MONTH</th>\n",
       "    </tr>\n",
       "  </thead>\n",
       "  <tbody>\n",
       "    <tr>\n",
       "      <th>2689</th>\n",
       "      <td>2017</td>\n",
       "      <td>5</td>\n",
       "    </tr>\n",
       "    <tr>\n",
       "      <th>2989</th>\n",
       "      <td>2017</td>\n",
       "      <td>10</td>\n",
       "    </tr>\n",
       "    <tr>\n",
       "      <th>3806</th>\n",
       "      <td>2017</td>\n",
       "      <td>12</td>\n",
       "    </tr>\n",
       "    <tr>\n",
       "      <th>4068</th>\n",
       "      <td>2018</td>\n",
       "      <td>2</td>\n",
       "    </tr>\n",
       "    <tr>\n",
       "      <th>18654</th>\n",
       "      <td>2017</td>\n",
       "      <td>6</td>\n",
       "    </tr>\n",
       "    <tr>\n",
       "      <th>32284</th>\n",
       "      <td>2017</td>\n",
       "      <td>8</td>\n",
       "    </tr>\n",
       "    <tr>\n",
       "      <th>45873</th>\n",
       "      <td>2017</td>\n",
       "      <td>9</td>\n",
       "    </tr>\n",
       "    <tr>\n",
       "      <th>72880</th>\n",
       "      <td>2017</td>\n",
       "      <td>11</td>\n",
       "    </tr>\n",
       "    <tr>\n",
       "      <th>101911</th>\n",
       "      <td>2018</td>\n",
       "      <td>1</td>\n",
       "    </tr>\n",
       "  </tbody>\n",
       "</table>\n",
       "</div>"
      ],
      "text/plain": [
       "        YEAR  MONTH\n",
       "2689    2017      5\n",
       "2989    2017     10\n",
       "3806    2017     12\n",
       "4068    2018      2\n",
       "18654   2017      6\n",
       "32284   2017      8\n",
       "45873   2017      9\n",
       "72880   2017     11\n",
       "101911  2018      1"
      ]
     },
     "execution_count": 77,
     "metadata": {},
     "output_type": "execute_result"
    }
   ],
   "source": [
    "df_sales[['YEAR','MONTH']].drop_duplicates()"
   ]
  },
  {
   "cell_type": "code",
   "execution_count": 78,
   "metadata": {
    "scrolled": true
   },
   "outputs": [
    {
     "name": "stderr",
     "output_type": "stream",
     "text": [
      "C:\\ProgramData\\Anaconda3\\lib\\site-packages\\ipykernel_launcher.py:1: SettingWithCopyWarning: \n",
      "A value is trying to be set on a copy of a slice from a DataFrame.\n",
      "Try using .loc[row_indexer,col_indexer] = value instead\n",
      "\n",
      "See the caveats in the documentation: https://pandas.pydata.org/pandas-docs/stable/user_guide/indexing.html#returning-a-view-versus-a-copy\n",
      "  \"\"\"Entry point for launching an IPython kernel.\n"
     ]
    }
   ],
   "source": [
    "df_sales['PERIOD_SORT'] = (df_sales['YEAR'].sub(2016).mul(100) + df_sales['MONTH']) "
   ]
  },
  {
   "cell_type": "code",
   "execution_count": 98,
   "metadata": {},
   "outputs": [
    {
     "data": {
      "text/plain": [
       "YEAR  MONTH\n",
       "2017  5        8544\n",
       "      6        8707\n",
       "      8        8859\n",
       "      9        8466\n",
       "      10       8732\n",
       "      11       9475\n",
       "      12       8895\n",
       "2018  1        8386\n",
       "      2        8332\n",
       "Name: SALES, dtype: int64"
      ]
     },
     "execution_count": 98,
     "metadata": {},
     "output_type": "execute_result"
    }
   ],
   "source": [
    "df_sales.groupby(['YEAR','MONTH'])['SALES'].count()"
   ]
  },
  {
   "cell_type": "code",
   "execution_count": 80,
   "metadata": {},
   "outputs": [],
   "source": [
    "def train_test_split_manual(X, target, columns_sort, values_sort):\n",
    "    X_test = X[X[columns_sort[0]].isin(values_sort[0])][X[columns_sort[1]].isin(values_sort[1])]\n",
    "    y_test = X_test[[target]] \n",
    "    X_test.drop(columns=[target], inplace=True)\n",
    "    \n",
    "    X_train = X[~X[columns_sort[1]].isin(values_sort[1])]\n",
    "    y_train = X_train[[target]]\n",
    "    X_train.drop(columns=[target], inplace=True)\n",
    "    return  X_train, X_test, y_train, y_test"
   ]
  },
  {
   "cell_type": "code",
   "execution_count": 99,
   "metadata": {},
   "outputs": [
    {
     "name": "stderr",
     "output_type": "stream",
     "text": [
      "C:\\ProgramData\\Anaconda3\\lib\\site-packages\\pandas\\core\\frame.py:3997: SettingWithCopyWarning: \n",
      "A value is trying to be set on a copy of a slice from a DataFrame\n",
      "\n",
      "See the caveats in the documentation: https://pandas.pydata.org/pandas-docs/stable/user_guide/indexing.html#returning-a-view-versus-a-copy\n",
      "  errors=errors,\n"
     ]
    }
   ],
   "source": [
    "# Разделение выборки на train и test с сортировкой по дате\n",
    "# 'STORE_SALES',\n",
    "X_train, X_test, y_train, y_test = train_test_split_manual(df_sales.drop(columns=['PERIOD_SORT','STORE_SALES'], axis=1), 'SALES', ['YEAR','MONTH'], [[2017,2018],[1,2,12]])"
   ]
  },
  {
   "cell_type": "code",
   "execution_count": 100,
   "metadata": {},
   "outputs": [
    {
     "data": {
      "text/plain": [
       "Index(['YEAR', 'MONTH', 'ARTICLE_GROUP_BEER', 'ARTICLE_GROUP_KEGS',\n",
       "       'ARTICLE_GROUP_LIQUOR', 'ARTICLE_GROUP_NON-ALCOHOL',\n",
       "       'ARTICLE_GROUP_REF', 'ARTICLE_GROUP_STR_SUPPLIES', 'ARTICLE_GROUP_WINE',\n",
       "       'ARTICLE_CODE_digitized', 'CONTRAGENT_digitized'],\n",
       "      dtype='object')"
      ]
     },
     "execution_count": 100,
     "metadata": {},
     "output_type": "execute_result"
    }
   ],
   "source": [
    "X_train.columns"
   ]
  },
  {
   "cell_type": "code",
   "execution_count": 101,
   "metadata": {},
   "outputs": [
    {
     "data": {
      "text/plain": [
       "YEAR  MONTH\n",
       "2017  12       8895\n",
       "2018  1        8386\n",
       "      2        8332\n",
       "Name: ARTICLE_GROUP_BEER, dtype: int64"
      ]
     },
     "execution_count": 101,
     "metadata": {},
     "output_type": "execute_result"
    }
   ],
   "source": [
    "X_test.groupby(['YEAR','MONTH'])['ARTICLE_GROUP_BEER'].count()"
   ]
  },
  {
   "cell_type": "code",
   "execution_count": 102,
   "metadata": {},
   "outputs": [
    {
     "name": "stdout",
     "output_type": "stream",
     "text": [
      "<class 'pandas.core.frame.DataFrame'>\n",
      "Int64Index: 25613 entries, 3806 to 128352\n",
      "Data columns (total 1 columns):\n",
      " #   Column  Non-Null Count  Dtype  \n",
      "---  ------  --------------  -----  \n",
      " 0   SALES   25613 non-null  float64\n",
      "dtypes: float64(1)\n",
      "memory usage: 400.2 KB\n"
     ]
    }
   ],
   "source": [
    "y_test.info()"
   ]
  },
  {
   "cell_type": "code",
   "execution_count": 103,
   "metadata": {},
   "outputs": [
    {
     "data": {
      "text/plain": [
       "LinearRegression(copy_X=True, fit_intercept=True, n_jobs=None, normalize=False)"
      ]
     },
     "execution_count": 103,
     "metadata": {},
     "output_type": "execute_result"
    }
   ],
   "source": [
    "# предсказание продаж линейной регрессией\n",
    "lm = LinearRegression()\n",
    "lm.fit(X_train, y_train)"
   ]
  },
  {
   "cell_type": "code",
   "execution_count": 104,
   "metadata": {},
   "outputs": [
    {
     "data": {
      "text/plain": [
       "7499.9049368333535"
      ]
     },
     "execution_count": 104,
     "metadata": {},
     "output_type": "execute_result"
    }
   ],
   "source": [
    "np.sqrt(mean_squared_error(lm.predict(X_train), y_train))"
   ]
  },
  {
   "cell_type": "code",
   "execution_count": 105,
   "metadata": {},
   "outputs": [
    {
     "data": {
      "text/plain": [
       "8588.701475853968"
      ]
     },
     "execution_count": 105,
     "metadata": {},
     "output_type": "execute_result"
    }
   ],
   "source": [
    "lm.predict(X_train).mean()"
   ]
  },
  {
   "cell_type": "code",
   "execution_count": 106,
   "metadata": {},
   "outputs": [
    {
     "data": {
      "text/plain": [
       "SALES   8588.70\n",
       "dtype: float64"
      ]
     },
     "execution_count": 106,
     "metadata": {},
     "output_type": "execute_result"
    }
   ],
   "source": [
    "y_train.mean()"
   ]
  },
  {
   "cell_type": "code",
   "execution_count": 107,
   "metadata": {},
   "outputs": [
    {
     "data": {
      "text/plain": [
       "13866.043859695636"
      ]
     },
     "execution_count": 107,
     "metadata": {},
     "output_type": "execute_result"
    }
   ],
   "source": [
    "np.sqrt(mean_squared_error(lm.predict(X_test), y_test))"
   ]
  },
  {
   "cell_type": "code",
   "execution_count": 108,
   "metadata": {},
   "outputs": [
    {
     "data": {
      "text/plain": [
       "8926.662723710835"
      ]
     },
     "execution_count": 108,
     "metadata": {},
     "output_type": "execute_result"
    }
   ],
   "source": [
    "lm.predict(X_test).mean()"
   ]
  },
  {
   "cell_type": "code",
   "execution_count": 109,
   "metadata": {},
   "outputs": [
    {
     "data": {
      "text/plain": [
       "SALES   8796.14\n",
       "dtype: float64"
      ]
     },
     "execution_count": 109,
     "metadata": {},
     "output_type": "execute_result"
    }
   ],
   "source": [
    "y_test.mean()"
   ]
  },
  {
   "cell_type": "markdown",
   "metadata": {},
   "source": [
    "## Истинные продажи и их предсказания линейной моделью:"
   ]
  },
  {
   "cell_type": "code",
   "execution_count": 110,
   "metadata": {},
   "outputs": [
    {
     "data": {
      "text/plain": [
       "Text(0, 0.5, 'Estimated sales')"
      ]
     },
     "execution_count": 110,
     "metadata": {},
     "output_type": "execute_result"
    },
    {
     "data": {
      "image/png": "[encoded data removed]",
      "text/plain": [
       "<Figure size 1008x504 with 2 Axes>"
      ]
     },
     "metadata": {
      "needs_background": "light"
     },
     "output_type": "display_data"
    }
   ],
   "source": [
    "plt.figure(figsize(14,7))\n",
    "plt.subplot(121)\n",
    "pyplot.scatter(y_train, lm.predict(X_train), color=\"red\", alpha=0.1)\n",
    "#pyplot.xlim(2.5,9.5)\n",
    "#pyplot.ylim(2.5,9.5)\n",
    "plot(range(500000), color='black')\n",
    "grid()\n",
    "pyplot.title('Train set', fontsize=20)\n",
    "pyplot.xlabel('Sales', fontsize=14)\n",
    "pyplot.ylabel('Estimated sales', fontsize=14)\n",
    "\n",
    "plt.subplot(122)\n",
    "pyplot.scatter(y_test, lm.predict(X_test), color=\"red\", alpha=0.1)\n",
    "#pyplot.xlim(2.5,9.5)\n",
    "#pyplot.ylim(2.5,9.5)\n",
    "plot(range(500000), color='black')\n",
    "grid()\n",
    "pyplot.title('Test set', fontsize=20)\n",
    "pyplot.xlabel('Sales', fontsize=14)\n",
    "pyplot.ylabel('Estimated sales', fontsize=14)"
   ]
  },
  {
   "cell_type": "code",
   "execution_count": 111,
   "metadata": {},
   "outputs": [
    {
     "name": "stderr",
     "output_type": "stream",
     "text": [
      "C:\\ProgramData\\Anaconda3\\lib\\site-packages\\sklearn\\pipeline.py:354: DataConversionWarning: A column-vector y was passed when a 1d array was expected. Please change the shape of y to (n_samples,), for example using ravel().\n",
      "  self._final_estimator.fit(Xt, y, **fit_params)\n",
      "C:\\ProgramData\\Anaconda3\\lib\\site-packages\\sklearn\\ensemble\\_gb.py:1454: DataConversionWarning: A column-vector y was passed when a 1d array was expected. Please change the shape of y to (n_samples, ), for example using ravel().\n",
      "  y = column_or_1d(y, warn=True)\n"
     ]
    }
   ],
   "source": [
    "# Список моделей\n",
    "pipeline_lr=Pipeline([(\"scalar1\",StandardScaler()),\n",
    "                     (\"lr_classifier\",LinearRegression())])\n",
    "\n",
    "pipeline_dt=Pipeline([(\"scalar2\",StandardScaler()),\n",
    "                     (\"dt_classifier\",DecisionTreeRegressor())])\n",
    "\n",
    "pipeline_rf=Pipeline([(\"scalar3\",StandardScaler()),\n",
    "                     (\"rf_classifier\",RandomForestRegressor())])\n",
    "\n",
    "\n",
    "pipeline_kn=Pipeline([(\"scalar4\",StandardScaler()),\n",
    "                     (\"kn_classifier\",KNeighborsRegressor())])\n",
    "\n",
    "\n",
    "pipeline_gb=Pipeline([(\"scalar5\",StandardScaler()),\n",
    "                     (\"gb_classifier\",GradientBoostingRegressor())])\n",
    "\n",
    "\n",
    "pipelines = [pipeline_lr, pipeline_dt, pipeline_rf, pipeline_kn, pipeline_gb]\n",
    "\n",
    "# Dictionary of pipelines and model types for ease of reference\n",
    "pipe_dict = {0: \"LinearRegression\", 1: \"DecisionTree\", 2: \"RandomForest\",3: \"KNeighbors\",4: \"GradientBoosting\"}\n",
    "\n",
    "# Обучаем каждую модель\n",
    "for pipe in pipelines:\n",
    "    pipe.fit(X_train, y_train)"
   ]
  },
  {
   "cell_type": "code",
   "execution_count": 112,
   "metadata": {},
   "outputs": [
    {
     "name": "stdout",
     "output_type": "stream",
     "text": [
      "LinearRegression:\t -61 578 746.02871957 \n",
      "DecisionTree:\t -92 901 146.46250477 \n"
     ]
    },
    {
     "name": "stderr",
     "output_type": "stream",
     "text": [
      "C:\\ProgramData\\Anaconda3\\lib\\site-packages\\sklearn\\pipeline.py:354: DataConversionWarning: A column-vector y was passed when a 1d array was expected. Please change the shape of y to (n_samples,), for example using ravel().\n",
      "  self._final_estimator.fit(Xt, y, **fit_params)\n",
      "C:\\ProgramData\\Anaconda3\\lib\\site-packages\\sklearn\\pipeline.py:354: DataConversionWarning: A column-vector y was passed when a 1d array was expected. Please change the shape of y to (n_samples,), for example using ravel().\n",
      "  self._final_estimator.fit(Xt, y, **fit_params)\n"
     ]
    },
    {
     "name": "stdout",
     "output_type": "stream",
     "text": [
      "RandomForest:\t -78 633 489.72115204 \n",
      "KNeighbors:\t -86 049 771.48338145 \n"
     ]
    },
    {
     "name": "stderr",
     "output_type": "stream",
     "text": [
      "C:\\ProgramData\\Anaconda3\\lib\\site-packages\\sklearn\\ensemble\\_gb.py:1454: DataConversionWarning: A column-vector y was passed when a 1d array was expected. Please change the shape of y to (n_samples, ), for example using ravel().\n",
      "  y = column_or_1d(y, warn=True)\n",
      "C:\\ProgramData\\Anaconda3\\lib\\site-packages\\sklearn\\ensemble\\_gb.py:1454: DataConversionWarning: A column-vector y was passed when a 1d array was expected. Please change the shape of y to (n_samples, ), for example using ravel().\n",
      "  y = column_or_1d(y, warn=True)\n"
     ]
    },
    {
     "name": "stdout",
     "output_type": "stream",
     "text": [
      "GradientBoosting:\t -72 061 172.02957606 \n"
     ]
    }
   ],
   "source": [
    "cv_results_rms = []\n",
    "for i, model in enumerate(pipelines):\n",
    "    cv_score = cross_val_score(model, X_train,y_train,scoring=\"neg_mean_squared_error\", cv=2)\n",
    "    cv_results_rms.append(cv_score)\n",
    "    print(\"%s:\\t %s \" % (pipe_dict[i], '{0:,}'.format(cv_score.mean()).replace(',', ' ')))"
   ]
  },
  {
   "cell_type": "code",
   "execution_count": 113,
   "metadata": {},
   "outputs": [],
   "source": [
    "pred = pipeline_gb.predict(X_test)"
   ]
  },
  {
   "cell_type": "code",
   "execution_count": 114,
   "metadata": {},
   "outputs": [
    {
     "name": "stdout",
     "output_type": "stream",
     "text": [
      "Коэффициент детерминации R^2: 0.8125143234072647\n",
      "Скорректированный R^2: 0.8124337663023656\n",
      "Средняя абсолютная ошибка MAE: 3322.4247363549794\n",
      "Средняя квадратическая ошибка MSE: 242416386.58954263\n",
      "Корень RMSE: 15569.726606127117\n"
     ]
    }
   ],
   "source": [
    "# Оценки модели\n",
    "print(\"Коэффициент детерминации R^2:\",metrics.r2_score(y_test, pred))\n",
    "print(\"Скорректированный R^2:\",1 - (1-metrics.r2_score(y_test, pred))*(len(y_test)-1)/(len(y_test)-X_test.shape[1]-1))\n",
    "print(\"Средняя абсолютная ошибка MAE:\",metrics.mean_absolute_error(y_test, pred))\n",
    "print(\"Средняя квадратическая ошибка MSE:\",metrics.mean_squared_error(y_test, pred))\n",
    "print(\"Корень RMSE:\",np.sqrt(metrics.mean_squared_error(y_test, pred)))"
   ]
  },
  {
   "cell_type": "code",
   "execution_count": 116,
   "metadata": {},
   "outputs": [
    {
     "data": {
      "text/plain": [
       "Text(0, 0.5, 'Estimated sales')"
      ]
     },
     "execution_count": 116,
     "metadata": {},
     "output_type": "execute_result"
    },
    {
     "data": {
      "image/png": "[encoded data removed]",
      "text/plain": [
       "<Figure size 1008x504 with 2 Axes>"
      ]
     },
     "metadata": {
      "needs_background": "light"
     },
     "output_type": "display_data"
    }
   ],
   "source": [
    "plt.figure(figsize(14,7))\n",
    "plt.subplot(121)\n",
    "pyplot.scatter(y_train, pipeline_gb.predict(X_train), color=\"red\", alpha=0.1)\n",
    "#pyplot.xlim(2.5,9.5)\n",
    "#pyplot.ylim(2.5,9.5)\n",
    "plot(range(1200000), color='black')\n",
    "grid()\n",
    "pyplot.title('Train set', fontsize=20)\n",
    "pyplot.xlabel('Sales', fontsize=14)\n",
    "pyplot.ylabel('Estimated sales', fontsize=14)\n",
    "\n",
    "plt.subplot(122)\n",
    "pyplot.scatter(y_test, pipeline_gb.predict(X_test), color=\"red\", alpha=0.1)\n",
    "#pyplot.xlim(2.5,9.5)\n",
    "#pyplot.ylim(2.5,9.5)\n",
    "plot(range(1200000), color='black')\n",
    "grid()\n",
    "pyplot.title('Test set', fontsize=20)\n",
    "pyplot.xlabel('Sales', fontsize=14)\n",
    "pyplot.ylabel('Estimated sales', fontsize=14)"
   ]
  },
  {
   "cell_type": "code",
   "execution_count": null,
   "metadata": {},
   "outputs": [],
   "source": []
  }
 ],
 "metadata": {
  "kernelspec": {
   "display_name": "Python 3",
   "language": "python",
   "name": "python3"
  },
  "language_info": {
   "codemirror_mode": {
    "name": "ipython",
    "version": 3
   },
   "file_extension": ".py",
   "mimetype": "text/x-python",
   "name": "python",
   "nbconvert_exporter": "python",
   "pygments_lexer": "ipython3",
   "version": "3.7.6"
  }
 },
 "nbformat": 4,
 "nbformat_minor": 4
}
