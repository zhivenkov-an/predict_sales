{
 "cells": [
  {
   "cell_type": "markdown",
   "metadata": {},
   "source": [
    "### Оглавление"
   ]
  },
  {
   "cell_type": "markdown",
   "metadata": {},
   "source": [
    "[1 Постановка задачи](#task_cell)"
   ]
  },
  {
   "cell_type": "markdown",
   "metadata": {},
   "source": [
    "[2 Аналитика полученных данных](#first_analyze_cell)"
   ]
  },
  {
   "cell_type": "markdown",
   "metadata": {},
   "source": [
    "[3 Подготовка данных](#prepare_cell)"
   ]
  },
  {
   "cell_type": "markdown",
   "metadata": {},
   "source": [
    "[4 Выбор модели](#other_model_cell)"
   ]
  },
  {
   "cell_type": "markdown",
   "metadata": {},
   "source": [
    "[5 Оценки модели](#score_cell)"
   ]
  },
  {
   "cell_type": "markdown",
   "metadata": {},
   "source": [
    "## Импорт библиотек"
   ]
  },
  {
   "cell_type": "code",
   "execution_count": 1,
   "metadata": {},
   "outputs": [],
   "source": [
    "import pandas as pd\n",
    "import seaborn as sns\n",
    "import matplotlib.pylab as plt\n",
    "from pylab import rcParams\n",
    "rcParams['figure.figsize'] = 20, 10"
   ]
  },
  {
   "cell_type": "code",
   "execution_count": 2,
   "metadata": {},
   "outputs": [
    {
     "data": {
      "text/html": [
       "<style>.container { width:95% !important; }</style>"
      ],
      "text/plain": [
       "<IPython.core.display.HTML object>"
      ]
     },
     "metadata": {},
     "output_type": "display_data"
    }
   ],
   "source": [
    "from IPython.core.display import display, HTML\n",
    "display(HTML(\"<style>.container { width:95% !important; }</style>\"))\n",
    "# параметры отображения pandas\n",
    "pd.set_option('display.max_colwidth', None)\n",
    "pd.set_option('display.float_format', '{:.2f}'.format)\n",
    "import warnings\n",
    "warnings.filterwarnings('ignore')"
   ]
  },
  {
   "cell_type": "code",
   "execution_count": 3,
   "metadata": {},
   "outputs": [
    {
     "name": "stdout",
     "output_type": "stream",
     "text": [
      "Populating the interactive namespace from numpy and matplotlib\n"
     ]
    }
   ],
   "source": [
    "#увеличим дефолтный размер графиков\n",
    "from pylab import rcParams\n",
    "rcParams['figure.figsize'] = 8, 5\n",
    "%pylab inline"
   ]
  },
  {
   "cell_type": "code",
   "execution_count": 4,
   "metadata": {},
   "outputs": [],
   "source": [
    "import numpy as np\n",
    "from sklearn.preprocessing import OneHotEncoder"
   ]
  },
  {
   "cell_type": "code",
   "execution_count": 5,
   "metadata": {},
   "outputs": [],
   "source": [
    "from sklearn import metrics\n",
    "from sklearn.linear_model import LinearRegression\n",
    "from sklearn.metrics import mean_squared_error\n",
    "from sklearn.pipeline import Pipeline\n",
    "from sklearn.preprocessing import StandardScaler\n",
    "from sklearn.tree import DecisionTreeRegressor\n",
    "from sklearn.ensemble import RandomForestRegressor\n",
    "from sklearn.linear_model import LinearRegression\n",
    "#from xgboost import XGBRegressor # conda install -c conda-forge xgboost или # conda install -c anaconda py-xgboost\n",
    "from sklearn.ensemble import GradientBoostingClassifier, GradientBoostingRegressor\n",
    "from sklearn.neighbors import KNeighborsRegressor\n",
    "from sklearn.model_selection import cross_val_score\n"
   ]
  },
  {
   "cell_type": "code",
   "execution_count": 6,
   "metadata": {},
   "outputs": [],
   "source": [
    "# вспомогательная функция\n",
    "def code_mean(data, cat_feature, real_feature):\n",
    "    \"\"\"возвращает значение нового признака на основе вещественного значения другого\"\"\"\n",
    "    return (data[cat_feature].map(data.groupby(cat_feature)[real_feature].mean()))"
   ]
  },
  {
   "cell_type": "markdown",
   "metadata": {},
   "source": [
    "<a id='task_cell'>==========================================================</a>"
   ]
  },
  {
   "cell_type": "markdown",
   "metadata": {},
   "source": [
    "## Задача 1:\n",
    "- Проведите аналитику полученных данных \n",
    "- Подготовьте данные для регрессионной модели \n",
    "- Обучите регрессионную модель и осуществите прогноз на последний месяц для поля SALES \n",
    "- Оцените качество модели с помощью функции metric "
   ]
  },
  {
   "cell_type": "markdown",
   "metadata": {},
   "source": [
    "## Метрика для оценки Вашей модели"
   ]
  },
  {
   "cell_type": "code",
   "execution_count": 7,
   "metadata": {},
   "outputs": [],
   "source": [
    "def metric(y_true, y_pred):    \n",
    "    return np.sum(np.abs(y_true - y_pred)) / np.sum(y_pred) * 100"
   ]
  },
  {
   "cell_type": "markdown",
   "metadata": {},
   "source": [
    "## Данные"
   ]
  },
  {
   "cell_type": "code",
   "execution_count": 8,
   "metadata": {},
   "outputs": [],
   "source": [
    "df = pd.read_csv(r'.\\data\\data_regression_for_task.csv')"
   ]
  },
  {
   "cell_type": "code",
   "execution_count": 9,
   "metadata": {},
   "outputs": [
    {
     "data": {
      "text/html": [
       "<div>\n",
       "<style scoped>\n",
       "    .dataframe tbody tr th:only-of-type {\n",
       "        vertical-align: middle;\n",
       "    }\n",
       "\n",
       "    .dataframe tbody tr th {\n",
       "        vertical-align: top;\n",
       "    }\n",
       "\n",
       "    .dataframe thead th {\n",
       "        text-align: right;\n",
       "    }\n",
       "</style>\n",
       "<table border=\"1\" class=\"dataframe\">\n",
       "  <thead>\n",
       "    <tr style=\"text-align: right;\">\n",
       "      <th></th>\n",
       "      <th>YEAR</th>\n",
       "      <th>MONTH</th>\n",
       "      <th>CONTRAGENT</th>\n",
       "      <th>ARTICLE_CODE</th>\n",
       "      <th>ARTICLE_NAME</th>\n",
       "      <th>ARTICLE_GROUP</th>\n",
       "      <th>SALES</th>\n",
       "      <th>STORE_SALES</th>\n",
       "    </tr>\n",
       "  </thead>\n",
       "  <tbody>\n",
       "    <tr>\n",
       "      <th>0</th>\n",
       "      <td>2017</td>\n",
       "      <td>4</td>\n",
       "      <td>ROYAL WINE CORP</td>\n",
       "      <td>100200</td>\n",
       "      <td>GAMLA CAB - 750ML</td>\n",
       "      <td>WINE</td>\n",
       "      <td>0.00</td>\n",
       "      <td>0.00</td>\n",
       "    </tr>\n",
       "    <tr>\n",
       "      <th>1</th>\n",
       "      <td>2017</td>\n",
       "      <td>4</td>\n",
       "      <td>SANTA MARGHERITA USA INC</td>\n",
       "      <td>100749</td>\n",
       "      <td>SANTA MARGHERITA P/GRIG ALTO - 375ML</td>\n",
       "      <td>WINE</td>\n",
       "      <td>0.00</td>\n",
       "      <td>0.00</td>\n",
       "    </tr>\n",
       "    <tr>\n",
       "      <th>2</th>\n",
       "      <td>2017</td>\n",
       "      <td>4</td>\n",
       "      <td>JIM BEAM BRANDS CO</td>\n",
       "      <td>10103</td>\n",
       "      <td>KNOB CREEK BOURBON 9YR - 100P - 375ML</td>\n",
       "      <td>LIQUOR</td>\n",
       "      <td>0.00</td>\n",
       "      <td>0.00</td>\n",
       "    </tr>\n",
       "    <tr>\n",
       "      <th>3</th>\n",
       "      <td>2017</td>\n",
       "      <td>4</td>\n",
       "      <td>HEAVEN HILL DISTILLERIES INC</td>\n",
       "      <td>10120</td>\n",
       "      <td>J W DANT BOURBON 100P - 1.75L</td>\n",
       "      <td>LIQUOR</td>\n",
       "      <td>0.00</td>\n",
       "      <td>0.00</td>\n",
       "    </tr>\n",
       "    <tr>\n",
       "      <th>4</th>\n",
       "      <td>2017</td>\n",
       "      <td>4</td>\n",
       "      <td>ROYAL WINE CORP</td>\n",
       "      <td>101664</td>\n",
       "      <td>RAMON CORDOVA RIOJA - 750ML</td>\n",
       "      <td>WINE</td>\n",
       "      <td>0.00</td>\n",
       "      <td>0.00</td>\n",
       "    </tr>\n",
       "  </tbody>\n",
       "</table>\n",
       "</div>"
      ],
      "text/plain": [
       "   YEAR  MONTH                    CONTRAGENT ARTICLE_CODE  \\\n",
       "0  2017      4               ROYAL WINE CORP       100200   \n",
       "1  2017      4      SANTA MARGHERITA USA INC       100749   \n",
       "2  2017      4            JIM BEAM BRANDS CO        10103   \n",
       "3  2017      4  HEAVEN HILL DISTILLERIES INC        10120   \n",
       "4  2017      4               ROYAL WINE CORP       101664   \n",
       "\n",
       "                            ARTICLE_NAME ARTICLE_GROUP  SALES  STORE_SALES  \n",
       "0                      GAMLA CAB - 750ML          WINE   0.00         0.00  \n",
       "1   SANTA MARGHERITA P/GRIG ALTO - 375ML          WINE   0.00         0.00  \n",
       "2  KNOB CREEK BOURBON 9YR - 100P - 375ML        LIQUOR   0.00         0.00  \n",
       "3          J W DANT BOURBON 100P - 1.75L        LIQUOR   0.00         0.00  \n",
       "4            RAMON CORDOVA RIOJA - 750ML          WINE   0.00         0.00  "
      ]
     },
     "execution_count": 9,
     "metadata": {},
     "output_type": "execute_result"
    }
   ],
   "source": [
    "df.head(5)"
   ]
  },
  {
   "cell_type": "markdown",
   "metadata": {},
   "source": [
    "## Описание\n",
    "\n",
    "- YEAR: год продажи \n",
    "- MONTH: месяц продажи \n",
    "- CONTRAGENT: поставщик товарной позиции \n",
    "- ARTICLE_CODE: код товарной позиции \n",
    "- ARTICLE_NAME: название товарной позиции \n",
    "- ARTICLE_GROUP: название группы товарных позиций \n",
    "- SALES: продажи товарной позиции в этот месяц и год (целевая переменная) \n",
    "- STORE_SALES: продажи всего магазина \n"
   ]
  },
  {
   "cell_type": "markdown",
   "metadata": {},
   "source": [
    "<a id='first_analyze_cell'>==========================================================</a>"
   ]
  },
  {
   "cell_type": "markdown",
   "metadata": {},
   "source": [
    "# Аналитика полученных данных"
   ]
  },
  {
   "cell_type": "code",
   "execution_count": 10,
   "metadata": {},
   "outputs": [
    {
     "name": "stdout",
     "output_type": "stream",
     "text": [
      "<class 'pandas.core.frame.DataFrame'>\n",
      "RangeIndex: 128355 entries, 0 to 128354\n",
      "Data columns (total 8 columns):\n",
      " #   Column         Non-Null Count   Dtype  \n",
      "---  ------         --------------   -----  \n",
      " 0   YEAR           128355 non-null  int64  \n",
      " 1   MONTH          128355 non-null  int64  \n",
      " 2   CONTRAGENT     128331 non-null  object \n",
      " 3   ARTICLE_CODE   128355 non-null  object \n",
      " 4   ARTICLE_NAME   128355 non-null  object \n",
      " 5   ARTICLE_GROUP  128354 non-null  object \n",
      " 6   SALES          128355 non-null  float64\n",
      " 7   STORE_SALES    128355 non-null  float64\n",
      "dtypes: float64(2), int64(2), object(4)\n",
      "memory usage: 7.8+ MB\n"
     ]
    }
   ],
   "source": [
    "df.info()"
   ]
  },
  {
   "cell_type": "code",
   "execution_count": 11,
   "metadata": {},
   "outputs": [
    {
     "data": {
      "text/html": [
       "<div>\n",
       "<style scoped>\n",
       "    .dataframe tbody tr th:only-of-type {\n",
       "        vertical-align: middle;\n",
       "    }\n",
       "\n",
       "    .dataframe tbody tr th {\n",
       "        vertical-align: top;\n",
       "    }\n",
       "\n",
       "    .dataframe thead th {\n",
       "        text-align: right;\n",
       "    }\n",
       "</style>\n",
       "<table border=\"1\" class=\"dataframe\">\n",
       "  <thead>\n",
       "    <tr style=\"text-align: right;\">\n",
       "      <th></th>\n",
       "      <th>YEAR</th>\n",
       "      <th>MONTH</th>\n",
       "      <th>CONTRAGENT</th>\n",
       "      <th>ARTICLE_CODE</th>\n",
       "      <th>ARTICLE_NAME</th>\n",
       "      <th>ARTICLE_GROUP</th>\n",
       "      <th>SALES</th>\n",
       "      <th>STORE_SALES</th>\n",
       "    </tr>\n",
       "  </thead>\n",
       "  <tbody>\n",
       "    <tr>\n",
       "      <th>count</th>\n",
       "      <td>128355.00</td>\n",
       "      <td>128355.00</td>\n",
       "      <td>128331</td>\n",
       "      <td>128355</td>\n",
       "      <td>128355</td>\n",
       "      <td>128354</td>\n",
       "      <td>128355.00</td>\n",
       "      <td>128355.00</td>\n",
       "    </tr>\n",
       "    <tr>\n",
       "      <th>unique</th>\n",
       "      <td>nan</td>\n",
       "      <td>nan</td>\n",
       "      <td>333</td>\n",
       "      <td>23556</td>\n",
       "      <td>23624</td>\n",
       "      <td>8</td>\n",
       "      <td>nan</td>\n",
       "      <td>nan</td>\n",
       "    </tr>\n",
       "    <tr>\n",
       "      <th>top</th>\n",
       "      <td>nan</td>\n",
       "      <td>nan</td>\n",
       "      <td>REPUBLIC NATIONAL DISTRIBUTING CO</td>\n",
       "      <td>95524</td>\n",
       "      <td>LA VIELLE FERME CDV RED - 750ML</td>\n",
       "      <td>WINE</td>\n",
       "      <td>nan</td>\n",
       "      <td>nan</td>\n",
       "    </tr>\n",
       "    <tr>\n",
       "      <th>freq</th>\n",
       "      <td>nan</td>\n",
       "      <td>nan</td>\n",
       "      <td>9847</td>\n",
       "      <td>10</td>\n",
       "      <td>19</td>\n",
       "      <td>79077</td>\n",
       "      <td>nan</td>\n",
       "      <td>nan</td>\n",
       "    </tr>\n",
       "    <tr>\n",
       "      <th>mean</th>\n",
       "      <td>2017.21</td>\n",
       "      <td>7.08</td>\n",
       "      <td>NaN</td>\n",
       "      <td>NaN</td>\n",
       "      <td>NaN</td>\n",
       "      <td>NaN</td>\n",
       "      <td>6563.04</td>\n",
       "      <td>22.62</td>\n",
       "    </tr>\n",
       "    <tr>\n",
       "      <th>std</th>\n",
       "      <td>0.40</td>\n",
       "      <td>3.65</td>\n",
       "      <td>NaN</td>\n",
       "      <td>NaN</td>\n",
       "      <td>NaN</td>\n",
       "      <td>NaN</td>\n",
       "      <td>28924.94</td>\n",
       "      <td>239.69</td>\n",
       "    </tr>\n",
       "    <tr>\n",
       "      <th>min</th>\n",
       "      <td>2017.00</td>\n",
       "      <td>1.00</td>\n",
       "      <td>NaN</td>\n",
       "      <td>NaN</td>\n",
       "      <td>NaN</td>\n",
       "      <td>NaN</td>\n",
       "      <td>-6490.00</td>\n",
       "      <td>-4996.00</td>\n",
       "    </tr>\n",
       "    <tr>\n",
       "      <th>25%</th>\n",
       "      <td>2017.00</td>\n",
       "      <td>5.00</td>\n",
       "      <td>NaN</td>\n",
       "      <td>NaN</td>\n",
       "      <td>NaN</td>\n",
       "      <td>NaN</td>\n",
       "      <td>0.00</td>\n",
       "      <td>0.00</td>\n",
       "    </tr>\n",
       "    <tr>\n",
       "      <th>50%</th>\n",
       "      <td>2017.00</td>\n",
       "      <td>8.00</td>\n",
       "      <td>NaN</td>\n",
       "      <td>NaN</td>\n",
       "      <td>NaN</td>\n",
       "      <td>NaN</td>\n",
       "      <td>330.00</td>\n",
       "      <td>1.00</td>\n",
       "    </tr>\n",
       "    <tr>\n",
       "      <th>75%</th>\n",
       "      <td>2017.00</td>\n",
       "      <td>10.00</td>\n",
       "      <td>NaN</td>\n",
       "      <td>NaN</td>\n",
       "      <td>NaN</td>\n",
       "      <td>NaN</td>\n",
       "      <td>3250.00</td>\n",
       "      <td>4.00</td>\n",
       "    </tr>\n",
       "    <tr>\n",
       "      <th>max</th>\n",
       "      <td>2018.00</td>\n",
       "      <td>12.00</td>\n",
       "      <td>NaN</td>\n",
       "      <td>NaN</td>\n",
       "      <td>NaN</td>\n",
       "      <td>NaN</td>\n",
       "      <td>1616600.00</td>\n",
       "      <td>16271.75</td>\n",
       "    </tr>\n",
       "  </tbody>\n",
       "</table>\n",
       "</div>"
      ],
      "text/plain": [
       "            YEAR     MONTH                         CONTRAGENT ARTICLE_CODE  \\\n",
       "count  128355.00 128355.00                             128331       128355   \n",
       "unique       nan       nan                                333        23556   \n",
       "top          nan       nan  REPUBLIC NATIONAL DISTRIBUTING CO        95524   \n",
       "freq         nan       nan                               9847           10   \n",
       "mean     2017.21      7.08                                NaN          NaN   \n",
       "std         0.40      3.65                                NaN          NaN   \n",
       "min      2017.00      1.00                                NaN          NaN   \n",
       "25%      2017.00      5.00                                NaN          NaN   \n",
       "50%      2017.00      8.00                                NaN          NaN   \n",
       "75%      2017.00     10.00                                NaN          NaN   \n",
       "max      2018.00     12.00                                NaN          NaN   \n",
       "\n",
       "                           ARTICLE_NAME ARTICLE_GROUP      SALES  STORE_SALES  \n",
       "count                            128355        128354  128355.00    128355.00  \n",
       "unique                            23624             8        nan          nan  \n",
       "top     LA VIELLE FERME CDV RED - 750ML          WINE        nan          nan  \n",
       "freq                                 19         79077        nan          nan  \n",
       "mean                                NaN           NaN    6563.04        22.62  \n",
       "std                                 NaN           NaN   28924.94       239.69  \n",
       "min                                 NaN           NaN   -6490.00     -4996.00  \n",
       "25%                                 NaN           NaN       0.00         0.00  \n",
       "50%                                 NaN           NaN     330.00         1.00  \n",
       "75%                                 NaN           NaN    3250.00         4.00  \n",
       "max                                 NaN           NaN 1616600.00     16271.75  "
      ]
     },
     "execution_count": 11,
     "metadata": {},
     "output_type": "execute_result"
    }
   ],
   "source": [
    "df.describe(include=['int64','float64','object'])"
   ]
  },
  {
   "cell_type": "markdown",
   "metadata": {},
   "source": [
    "#### <font color='red'> В исходном датасете есть выбросы и шумы. Есть пропуски в данных. Далее нужно будет посмотреть распределение по каждому признаку</font>"
   ]
  },
  {
   "cell_type": "markdown",
   "metadata": {},
   "source": [
    "### Ошибки в данных, которые виды из общего описания\n",
    "- 1 Есть отрицательные цены в продажах и магазинах\n",
    "- 2 Есть дубли в названиях ARTICLE_NAME для одинаковых ARTICLE_CODE"
   ]
  },
  {
   "cell_type": "code",
   "execution_count": 12,
   "metadata": {},
   "outputs": [
    {
     "data": {
      "text/html": [
       "<div>\n",
       "<style scoped>\n",
       "    .dataframe tbody tr th:only-of-type {\n",
       "        vertical-align: middle;\n",
       "    }\n",
       "\n",
       "    .dataframe tbody tr th {\n",
       "        vertical-align: top;\n",
       "    }\n",
       "\n",
       "    .dataframe thead th {\n",
       "        text-align: right;\n",
       "    }\n",
       "</style>\n",
       "<table border=\"1\" class=\"dataframe\">\n",
       "  <thead>\n",
       "    <tr style=\"text-align: right;\">\n",
       "      <th></th>\n",
       "      <th>YEAR</th>\n",
       "      <th>MONTH</th>\n",
       "      <th>CONTRAGENT</th>\n",
       "      <th>ARTICLE_CODE</th>\n",
       "      <th>ARTICLE_NAME</th>\n",
       "      <th>ARTICLE_GROUP</th>\n",
       "      <th>SALES</th>\n",
       "      <th>STORE_SALES</th>\n",
       "    </tr>\n",
       "  </thead>\n",
       "  <tbody>\n",
       "    <tr>\n",
       "      <th>128210</th>\n",
       "      <td>2018</td>\n",
       "      <td>2</td>\n",
       "      <td>CROWN IMPORTS</td>\n",
       "      <td>96741</td>\n",
       "      <td>CORONA EXTRA 4/6 NR - 12OZ</td>\n",
       "      <td>BEER</td>\n",
       "      <td>434480.00</td>\n",
       "      <td>4305.46</td>\n",
       "    </tr>\n",
       "    <tr>\n",
       "      <th>122167</th>\n",
       "      <td>2018</td>\n",
       "      <td>2</td>\n",
       "      <td>SAZERAC CO</td>\n",
       "      <td>35840</td>\n",
       "      <td>BOWMAN'S VODKA - 1.75L</td>\n",
       "      <td>LIQUOR</td>\n",
       "      <td>583890.00</td>\n",
       "      <td>4.00</td>\n",
       "    </tr>\n",
       "    <tr>\n",
       "      <th>117267</th>\n",
       "      <td>2018</td>\n",
       "      <td>2</td>\n",
       "      <td>HEINEKEN USA</td>\n",
       "      <td>23886</td>\n",
       "      <td>HEINEKEN LOOSE NR - 12OZ</td>\n",
       "      <td>BEER</td>\n",
       "      <td>615000.00</td>\n",
       "      <td>6111.88</td>\n",
       "    </tr>\n",
       "    <tr>\n",
       "      <th>117026</th>\n",
       "      <td>2018</td>\n",
       "      <td>2</td>\n",
       "      <td>CROWN IMPORTS</td>\n",
       "      <td>23445</td>\n",
       "      <td>CORONA EXTRA LOOSE NR - 12OZ</td>\n",
       "      <td>BEER</td>\n",
       "      <td>973000.00</td>\n",
       "      <td>9518.88</td>\n",
       "    </tr>\n",
       "    <tr>\n",
       "      <th>124541</th>\n",
       "      <td>2018</td>\n",
       "      <td>2</td>\n",
       "      <td>FIFTH GENERATION INC</td>\n",
       "      <td>53929</td>\n",
       "      <td>TITO'S HANDMADE VODKA - 1.75L</td>\n",
       "      <td>LIQUOR</td>\n",
       "      <td>983020.00</td>\n",
       "      <td>18.00</td>\n",
       "    </tr>\n",
       "  </tbody>\n",
       "</table>\n",
       "</div>"
      ],
      "text/plain": [
       "        YEAR  MONTH            CONTRAGENT ARTICLE_CODE  \\\n",
       "128210  2018      2         CROWN IMPORTS        96741   \n",
       "122167  2018      2            SAZERAC CO        35840   \n",
       "117267  2018      2          HEINEKEN USA        23886   \n",
       "117026  2018      2         CROWN IMPORTS        23445   \n",
       "124541  2018      2  FIFTH GENERATION INC        53929   \n",
       "\n",
       "                         ARTICLE_NAME ARTICLE_GROUP     SALES  STORE_SALES  \n",
       "128210     CORONA EXTRA 4/6 NR - 12OZ          BEER 434480.00      4305.46  \n",
       "122167         BOWMAN'S VODKA - 1.75L        LIQUOR 583890.00         4.00  \n",
       "117267       HEINEKEN LOOSE NR - 12OZ          BEER 615000.00      6111.88  \n",
       "117026   CORONA EXTRA LOOSE NR - 12OZ          BEER 973000.00      9518.88  \n",
       "124541  TITO'S HANDMADE VODKA - 1.75L        LIQUOR 983020.00        18.00  "
      ]
     },
     "execution_count": 12,
     "metadata": {},
     "output_type": "execute_result"
    }
   ],
   "source": [
    "# 5 самых продаваемых товаров. В последнем периоде\n",
    "df[df['YEAR'] == 2018][df['MONTH'] == 2].sort_values(by=['SALES']).tail(5)"
   ]
  },
  {
   "cell_type": "code",
   "execution_count": 13,
   "metadata": {},
   "outputs": [
    {
     "data": {
      "text/html": [
       "<div>\n",
       "<style scoped>\n",
       "    .dataframe tbody tr th:only-of-type {\n",
       "        vertical-align: middle;\n",
       "    }\n",
       "\n",
       "    .dataframe tbody tr th {\n",
       "        vertical-align: top;\n",
       "    }\n",
       "\n",
       "    .dataframe thead th {\n",
       "        text-align: right;\n",
       "    }\n",
       "</style>\n",
       "<table border=\"1\" class=\"dataframe\">\n",
       "  <thead>\n",
       "    <tr style=\"text-align: right;\">\n",
       "      <th></th>\n",
       "      <th>YEAR</th>\n",
       "      <th>MONTH</th>\n",
       "      <th>SALES</th>\n",
       "      <th>STORE_SALES</th>\n",
       "    </tr>\n",
       "  </thead>\n",
       "  <tbody>\n",
       "    <tr>\n",
       "      <th>YEAR</th>\n",
       "      <td>1.00</td>\n",
       "      <td>-0.78</td>\n",
       "      <td>-0.01</td>\n",
       "      <td>-0.01</td>\n",
       "    </tr>\n",
       "    <tr>\n",
       "      <th>MONTH</th>\n",
       "      <td>-0.78</td>\n",
       "      <td>1.00</td>\n",
       "      <td>0.03</td>\n",
       "      <td>0.01</td>\n",
       "    </tr>\n",
       "    <tr>\n",
       "      <th>SALES</th>\n",
       "      <td>-0.01</td>\n",
       "      <td>0.03</td>\n",
       "      <td>1.00</td>\n",
       "      <td>0.46</td>\n",
       "    </tr>\n",
       "    <tr>\n",
       "      <th>STORE_SALES</th>\n",
       "      <td>-0.01</td>\n",
       "      <td>0.01</td>\n",
       "      <td>0.46</td>\n",
       "      <td>1.00</td>\n",
       "    </tr>\n",
       "  </tbody>\n",
       "</table>\n",
       "</div>"
      ],
      "text/plain": [
       "             YEAR  MONTH  SALES  STORE_SALES\n",
       "YEAR         1.00  -0.78  -0.01        -0.01\n",
       "MONTH       -0.78   1.00   0.03         0.01\n",
       "SALES       -0.01   0.03   1.00         0.46\n",
       "STORE_SALES -0.01   0.01   0.46         1.00"
      ]
     },
     "execution_count": 13,
     "metadata": {},
     "output_type": "execute_result"
    }
   ],
   "source": [
    "df.corr()"
   ]
  },
  {
   "cell_type": "markdown",
   "metadata": {},
   "source": [
    "### Продажи товаров коррелируют с общей продажей магазина. В реальности мы не будем знать продажи магазина в следующем периоде. Поэтому данную переменную использовать не сможем. <font color='green'>Но мы будем знать продажи магазина в предыдущих периодах.</font>"
   ]
  },
  {
   "cell_type": "code",
   "execution_count": 14,
   "metadata": {},
   "outputs": [
    {
     "data": {
      "text/plain": [
       "<seaborn.axisgrid.PairGrid at 0xc508a48>"
      ]
     },
     "execution_count": 14,
     "metadata": {},
     "output_type": "execute_result"
    },
    {
     "data": {
      "image/png": "[encoded data removed]",
      "text/plain": [
       "<Figure size 720x720 with 20 Axes>"
      ]
     },
     "metadata": {
      "needs_background": "light"
     },
     "output_type": "display_data"
    }
   ],
   "source": [
    "# построим парные диаграммы зависимости вещественных признаков\n",
    "cols = df.select_dtypes(exclude=['object']).columns\n",
    "sns.pairplot(df[cols])"
   ]
  },
  {
   "cell_type": "markdown",
   "metadata": {},
   "source": [
    "### Выводы из парных графиков\n",
    "- При нулевых продажах SALES, магазин может продавать другие позиции\n",
    "- Есть сезонность продаж, по месяцам\n",
    "- нет данных по июню 7-ому месяцу, в 2017 \n"
   ]
  },
  {
   "cell_type": "code",
   "execution_count": 15,
   "metadata": {},
   "outputs": [
    {
     "data": {
      "text/plain": [
       "<seaborn.axisgrid.JointGrid at 0xdad3ac8>"
      ]
     },
     "execution_count": 15,
     "metadata": {},
     "output_type": "execute_result"
    },
    {
     "data": {
      "image/png": "[encoded data removed]",
      "text/plain": [
       "<Figure size 432x432 with 3 Axes>"
      ]
     },
     "metadata": {
      "needs_background": "light"
     },
     "output_type": "display_data"
    }
   ],
   "source": [
    "sns.jointplot(data=df[df['YEAR'] == 2017], x=\"MONTH\", y=\"STORE_SALES\")"
   ]
  },
  {
   "cell_type": "code",
   "execution_count": 16,
   "metadata": {},
   "outputs": [
    {
     "data": {
      "text/plain": [
       "Text(0.5, 1.0, 'Распределение продаж магазинов')"
      ]
     },
     "execution_count": 16,
     "metadata": {},
     "output_type": "execute_result"
    },
    {
     "data": {
      "image/png": "[encoded data removed]",
      "text/plain": [
       "<Figure size 432x288 with 1 Axes>"
      ]
     },
     "metadata": {
      "needs_background": "light"
     },
     "output_type": "display_data"
    }
   ],
   "source": [
    "sns.distplot(df[df['STORE_SALES']< 1000]['STORE_SALES'], kde=False).set_title(\"Распределение продаж магазинов\")"
   ]
  },
  {
   "cell_type": "markdown",
   "metadata": {},
   "source": [
    "### зависимость категориальных признаков "
   ]
  },
  {
   "cell_type": "code",
   "execution_count": 67,
   "metadata": {},
   "outputs": [
    {
     "data": {
      "text/plain": [
       "Text(0.5, 1.0, 'Зависимость продаж от группы')"
      ]
     },
     "execution_count": 67,
     "metadata": {},
     "output_type": "execute_result"
    },
    {
     "data": {
      "image/png": "[encoded data removed]",
      "text/plain": [
       "<Figure size 1296x504 with 1 Axes>"
      ]
     },
     "metadata": {
      "needs_background": "light"
     },
     "output_type": "display_data"
    }
   ],
   "source": [
    "plt.figure(figsize(18,7))\n",
    "sns.boxplot(y='ARTICLE_GROUP', x='SALES', data=df, orient='h').set_title(\"Зависимость продаж от группы\")"
   ]
  },
  {
   "cell_type": "markdown",
   "metadata": {},
   "source": [
    "#### Из распрделения видно, что в основном покупают пиво. При этом очень большой разброс между разными марками."
   ]
  },
  {
   "cell_type": "markdown",
   "metadata": {},
   "source": [
    "<a id='prepare_cell'>==========================================================</a>"
   ]
  },
  {
   "cell_type": "markdown",
   "metadata": {},
   "source": [
    "# Подготовка данных"
   ]
  },
  {
   "cell_type": "code",
   "execution_count": 18,
   "metadata": {},
   "outputs": [
    {
     "name": "stdout",
     "output_type": "stream",
     "text": [
      "Убрали отрицательные продажи 128300\n",
      "Убрали пустые продажи в магазинах 78397\n",
      "Убрали не заполненные данные 78396\n"
     ]
    }
   ],
   "source": [
    "# Вопрос к заказчику - Почему отрицательные цены? Почему при наличие продаж по товару, в целом по магазину стоит 0 ? Похоже на ошибку в данных.\n",
    "df = df[df['SALES'] >= 0]\n",
    "print('Убрали отрицательные продажи', df.shape[0])\n",
    "\n",
    "df = df[df['STORE_SALES'] > 0]\n",
    "print('Убрали пустые продажи в магазинах', df.shape[0])\n",
    "\n",
    "df.dropna(inplace=True)\n",
    "print('Убрали не заполненные данные', df.shape[0])"
   ]
  },
  {
   "cell_type": "code",
   "execution_count": 19,
   "metadata": {},
   "outputs": [],
   "source": [
    "# дополним данными по продажам за последние 3 месяца\n",
    "df_before = df[df['MONTH'] == 5]\n",
    "df_before['MONTH'] = 4\n",
    "df = df.append(df_before)\n",
    "df_before = df[df['MONTH'] == 5]\n",
    "df_before['MONTH'] = 3\n",
    "df = df.append(df_before)\n",
    "df_before = df[df['MONTH'] == 5]\n",
    "df_before['MONTH'] = 2\n",
    "df = df.append(df_before)"
   ]
  },
  {
   "cell_type": "code",
   "execution_count": 20,
   "metadata": {},
   "outputs": [],
   "source": [
    "# сортируем по товару и периоду\n",
    "df.sort_values(by=['ARTICLE_CODE','YEAR','MONTH'], inplace=True)\n",
    "df['MONTH'] = np.where(df['YEAR'] == 2018, df['MONTH'] + 12 , df['MONTH'])\n",
    "# временный сдвиг, чтобы соблюсти последовательность\n",
    "df['MONTH'] = np.where(df['MONTH'] < 8, df['MONTH'] + 1 , df['MONTH'])"
   ]
  },
  {
   "cell_type": "code",
   "execution_count": 21,
   "metadata": {},
   "outputs": [],
   "source": [
    "# вспомогательная функция по расчёту продаж в предыдущих периодах\n",
    "def calc_prev(df_calc, COLUMNS_NAME,  n_period = 1,):\n",
    "    df_calc['PREV_' + COLUMNS_NAME + '_' + str(n_period) ] = np.where(((df_calc['ARTICLE_CODE'] == df_calc['ARTICLE_CODE'].shift(n_period))\n",
    "                             & ((df_calc['MONTH'] == (df_calc['MONTH'].shift(n_period) + n_period ))   )\n",
    "                            ), df_calc[COLUMNS_NAME].shift(n_period), 0)\n",
    "    return df_calc\n",
    "df = calc_prev(df, 'SALES', 1)\n",
    "df = calc_prev(df, 'SALES', 2)\n",
    "df = calc_prev(df, 'SALES', 3)\n",
    "df = calc_prev(df, 'STORE_SALES', 1)\n",
    "df = calc_prev(df, 'STORE_SALES', 2)\n",
    "df = calc_prev(df, 'STORE_SALES', 3)"
   ]
  },
  {
   "cell_type": "code",
   "execution_count": 22,
   "metadata": {},
   "outputs": [],
   "source": [
    "# обратный сдвиг\n",
    "df['MONTH'] = np.where(df['MONTH'] < 8, df['MONTH'] - 1 , df['MONTH'])\n",
    "df['MONTH'] = np.where(df['YEAR'] == 2018, df['MONTH'] - 12 , df['MONTH'])"
   ]
  },
  {
   "cell_type": "code",
   "execution_count": 23,
   "metadata": {},
   "outputs": [],
   "source": [
    "# убираем добавленный месяцы\n",
    "df = df[~((df['YEAR'] == 2017) & (df['MONTH'].isin([2,3,4])))]\n",
    "#.groupby(['YEAR','MONTH'])[['SALES','STORE_SALES','PREV_SALES_1','PREV_SALES_2','PREV_SALES_3','PREV_STORE_SALES_1','PREV_STORE_SALES_2','PREV_STORE_SALES_3']].sum()"
   ]
  },
  {
   "cell_type": "code",
   "execution_count": 24,
   "metadata": {},
   "outputs": [
    {
     "data": {
      "text/html": [
       "<div>\n",
       "<style scoped>\n",
       "    .dataframe tbody tr th:only-of-type {\n",
       "        vertical-align: middle;\n",
       "    }\n",
       "\n",
       "    .dataframe tbody tr th {\n",
       "        vertical-align: top;\n",
       "    }\n",
       "\n",
       "    .dataframe thead th {\n",
       "        text-align: right;\n",
       "    }\n",
       "</style>\n",
       "<table border=\"1\" class=\"dataframe\">\n",
       "  <thead>\n",
       "    <tr style=\"text-align: right;\">\n",
       "      <th></th>\n",
       "      <th></th>\n",
       "      <th>SALES</th>\n",
       "      <th>STORE_SALES</th>\n",
       "      <th>PREV_SALES_1</th>\n",
       "      <th>PREV_SALES_2</th>\n",
       "      <th>PREV_SALES_3</th>\n",
       "      <th>PREV_STORE_SALES_1</th>\n",
       "      <th>PREV_STORE_SALES_2</th>\n",
       "      <th>PREV_STORE_SALES_3</th>\n",
       "    </tr>\n",
       "    <tr>\n",
       "      <th>YEAR</th>\n",
       "      <th>MONTH</th>\n",
       "      <th></th>\n",
       "      <th></th>\n",
       "      <th></th>\n",
       "      <th></th>\n",
       "      <th></th>\n",
       "      <th></th>\n",
       "      <th></th>\n",
       "      <th></th>\n",
       "    </tr>\n",
       "  </thead>\n",
       "  <tbody>\n",
       "    <tr>\n",
       "      <th rowspan=\"7\" valign=\"top\">2017</th>\n",
       "      <th>5</th>\n",
       "      <td>77621100.00</td>\n",
       "      <td>367468.39</td>\n",
       "      <td>77621100.00</td>\n",
       "      <td>77621100.00</td>\n",
       "      <td>77621100.00</td>\n",
       "      <td>367468.39</td>\n",
       "      <td>367468.39</td>\n",
       "      <td>367468.39</td>\n",
       "    </tr>\n",
       "    <tr>\n",
       "      <th>6</th>\n",
       "      <td>78729830.00</td>\n",
       "      <td>385859.83</td>\n",
       "      <td>72755900.00</td>\n",
       "      <td>72755900.00</td>\n",
       "      <td>72755900.00</td>\n",
       "      <td>361398.37</td>\n",
       "      <td>361398.37</td>\n",
       "      <td>361398.37</td>\n",
       "    </tr>\n",
       "    <tr>\n",
       "      <th>8</th>\n",
       "      <td>70696990.00</td>\n",
       "      <td>388848.98</td>\n",
       "      <td>74453930.00</td>\n",
       "      <td>70427280.00</td>\n",
       "      <td>70427280.00</td>\n",
       "      <td>376871.27</td>\n",
       "      <td>355942.91</td>\n",
       "      <td>355942.91</td>\n",
       "    </tr>\n",
       "    <tr>\n",
       "      <th>9</th>\n",
       "      <td>73831850.00</td>\n",
       "      <td>311549.28</td>\n",
       "      <td>67032420.00</td>\n",
       "      <td>71822540.00</td>\n",
       "      <td>68573010.00</td>\n",
       "      <td>382491.70</td>\n",
       "      <td>371725.55</td>\n",
       "      <td>351394.31</td>\n",
       "    </tr>\n",
       "    <tr>\n",
       "      <th>10</th>\n",
       "      <td>72740100.00</td>\n",
       "      <td>311674.41</td>\n",
       "      <td>70045740.00</td>\n",
       "      <td>65118580.00</td>\n",
       "      <td>70087140.00</td>\n",
       "      <td>305935.86</td>\n",
       "      <td>377932.31</td>\n",
       "      <td>368363.79</td>\n",
       "    </tr>\n",
       "    <tr>\n",
       "      <th>11</th>\n",
       "      <td>79717560.00</td>\n",
       "      <td>347056.66</td>\n",
       "      <td>68136490.00</td>\n",
       "      <td>67503150.00</td>\n",
       "      <td>64090460.00</td>\n",
       "      <td>302740.09</td>\n",
       "      <td>297815.23</td>\n",
       "      <td>371938.55</td>\n",
       "    </tr>\n",
       "    <tr>\n",
       "      <th>12</th>\n",
       "      <td>101861530.00</td>\n",
       "      <td>313711.55</td>\n",
       "      <td>74367530.00</td>\n",
       "      <td>65585470.00</td>\n",
       "      <td>65456860.00</td>\n",
       "      <td>339288.99</td>\n",
       "      <td>298871.44</td>\n",
       "      <td>295030.15</td>\n",
       "    </tr>\n",
       "    <tr>\n",
       "      <th rowspan=\"2\" valign=\"top\">2018</th>\n",
       "      <th>1</th>\n",
       "      <td>60685250.00</td>\n",
       "      <td>260233.91</td>\n",
       "      <td>95900340.00</td>\n",
       "      <td>71142650.00</td>\n",
       "      <td>64128640.00</td>\n",
       "      <td>305270.00</td>\n",
       "      <td>329973.73</td>\n",
       "      <td>294924.52</td>\n",
       "    </tr>\n",
       "    <tr>\n",
       "      <th>2</th>\n",
       "      <td>62748870.00</td>\n",
       "      <td>269917.60</td>\n",
       "      <td>57933090.00</td>\n",
       "      <td>93005670.00</td>\n",
       "      <td>69743190.00</td>\n",
       "      <td>255176.92</td>\n",
       "      <td>301294.92</td>\n",
       "      <td>326286.39</td>\n",
       "    </tr>\n",
       "  </tbody>\n",
       "</table>\n",
       "</div>"
      ],
      "text/plain": [
       "                  SALES  STORE_SALES  PREV_SALES_1  PREV_SALES_2  \\\n",
       "YEAR MONTH                                                         \n",
       "2017 5      77621100.00    367468.39   77621100.00   77621100.00   \n",
       "     6      78729830.00    385859.83   72755900.00   72755900.00   \n",
       "     8      70696990.00    388848.98   74453930.00   70427280.00   \n",
       "     9      73831850.00    311549.28   67032420.00   71822540.00   \n",
       "     10     72740100.00    311674.41   70045740.00   65118580.00   \n",
       "     11     79717560.00    347056.66   68136490.00   67503150.00   \n",
       "     12    101861530.00    313711.55   74367530.00   65585470.00   \n",
       "2018 1      60685250.00    260233.91   95900340.00   71142650.00   \n",
       "     2      62748870.00    269917.60   57933090.00   93005670.00   \n",
       "\n",
       "            PREV_SALES_3  PREV_STORE_SALES_1  PREV_STORE_SALES_2  \\\n",
       "YEAR MONTH                                                         \n",
       "2017 5       77621100.00           367468.39           367468.39   \n",
       "     6       72755900.00           361398.37           361398.37   \n",
       "     8       70427280.00           376871.27           355942.91   \n",
       "     9       68573010.00           382491.70           371725.55   \n",
       "     10      70087140.00           305935.86           377932.31   \n",
       "     11      64090460.00           302740.09           297815.23   \n",
       "     12      65456860.00           339288.99           298871.44   \n",
       "2018 1       64128640.00           305270.00           329973.73   \n",
       "     2       69743190.00           255176.92           301294.92   \n",
       "\n",
       "            PREV_STORE_SALES_3  \n",
       "YEAR MONTH                      \n",
       "2017 5               367468.39  \n",
       "     6               361398.37  \n",
       "     8               355942.91  \n",
       "     9               351394.31  \n",
       "     10              368363.79  \n",
       "     11              371938.55  \n",
       "     12              295030.15  \n",
       "2018 1               294924.52  \n",
       "     2               326286.39  "
      ]
     },
     "execution_count": 24,
     "metadata": {},
     "output_type": "execute_result"
    }
   ],
   "source": [
    "df.groupby(['YEAR','MONTH'])[['SALES','STORE_SALES','PREV_SALES_1','PREV_SALES_2','PREV_SALES_3','PREV_STORE_SALES_1','PREV_STORE_SALES_2','PREV_STORE_SALES_3']].sum()"
   ]
  },
  {
   "cell_type": "code",
   "execution_count": 25,
   "metadata": {},
   "outputs": [],
   "source": [
    "#df[df['STORE_SALES'] == 4].mean()"
   ]
  },
  {
   "cell_type": "code",
   "execution_count": 26,
   "metadata": {},
   "outputs": [
    {
     "data": {
      "text/html": [
       "<div>\n",
       "<style scoped>\n",
       "    .dataframe tbody tr th:only-of-type {\n",
       "        vertical-align: middle;\n",
       "    }\n",
       "\n",
       "    .dataframe tbody tr th {\n",
       "        vertical-align: top;\n",
       "    }\n",
       "\n",
       "    .dataframe thead th {\n",
       "        text-align: right;\n",
       "    }\n",
       "</style>\n",
       "<table border=\"1\" class=\"dataframe\">\n",
       "  <thead>\n",
       "    <tr style=\"text-align: right;\">\n",
       "      <th></th>\n",
       "      <th>YEAR</th>\n",
       "      <th>MONTH</th>\n",
       "      <th>CONTRAGENT</th>\n",
       "      <th>ARTICLE_CODE</th>\n",
       "      <th>ARTICLE_NAME</th>\n",
       "      <th>ARTICLE_GROUP</th>\n",
       "      <th>SALES</th>\n",
       "      <th>STORE_SALES</th>\n",
       "      <th>PREV_SALES_1</th>\n",
       "      <th>PREV_SALES_2</th>\n",
       "      <th>PREV_SALES_3</th>\n",
       "      <th>PREV_STORE_SALES_1</th>\n",
       "      <th>PREV_STORE_SALES_2</th>\n",
       "      <th>PREV_STORE_SALES_3</th>\n",
       "    </tr>\n",
       "  </thead>\n",
       "  <tbody>\n",
       "    <tr>\n",
       "      <th>5202</th>\n",
       "      <td>2017</td>\n",
       "      <td>5</td>\n",
       "      <td>CONSTANTINE WINES INC</td>\n",
       "      <td>100003</td>\n",
       "      <td>LA CETTO ZINFANDEL - 750ML</td>\n",
       "      <td>WINE</td>\n",
       "      <td>0.00</td>\n",
       "      <td>1.00</td>\n",
       "      <td>0.00</td>\n",
       "      <td>0.00</td>\n",
       "      <td>0.00</td>\n",
       "      <td>1.00</td>\n",
       "      <td>1.00</td>\n",
       "      <td>1.00</td>\n",
       "    </tr>\n",
       "    <tr>\n",
       "      <th>5203</th>\n",
       "      <td>2017</td>\n",
       "      <td>5</td>\n",
       "      <td>CONSTANTINE WINES INC</td>\n",
       "      <td>100007</td>\n",
       "      <td>LA CETTO CAB SAUV - 750ML</td>\n",
       "      <td>WINE</td>\n",
       "      <td>0.00</td>\n",
       "      <td>1.00</td>\n",
       "      <td>0.00</td>\n",
       "      <td>0.00</td>\n",
       "      <td>0.00</td>\n",
       "      <td>1.00</td>\n",
       "      <td>1.00</td>\n",
       "      <td>1.00</td>\n",
       "    </tr>\n",
       "    <tr>\n",
       "      <th>59261</th>\n",
       "      <td>2017</td>\n",
       "      <td>10</td>\n",
       "      <td>CONSTANTINE WINES INC</td>\n",
       "      <td>100008</td>\n",
       "      <td>AMITY VINEYARDS P/NOIR 2013 - 750ML</td>\n",
       "      <td>WINE</td>\n",
       "      <td>0.00</td>\n",
       "      <td>1.00</td>\n",
       "      <td>0.00</td>\n",
       "      <td>0.00</td>\n",
       "      <td>0.00</td>\n",
       "      <td>0.00</td>\n",
       "      <td>0.00</td>\n",
       "      <td>0.00</td>\n",
       "    </tr>\n",
       "  </tbody>\n",
       "</table>\n",
       "</div>"
      ],
      "text/plain": [
       "       YEAR  MONTH             CONTRAGENT ARTICLE_CODE  \\\n",
       "5202   2017      5  CONSTANTINE WINES INC       100003   \n",
       "5203   2017      5  CONSTANTINE WINES INC       100007   \n",
       "59261  2017     10  CONSTANTINE WINES INC       100008   \n",
       "\n",
       "                              ARTICLE_NAME ARTICLE_GROUP  SALES  STORE_SALES  \\\n",
       "5202            LA CETTO ZINFANDEL - 750ML          WINE   0.00         1.00   \n",
       "5203             LA CETTO CAB SAUV - 750ML          WINE   0.00         1.00   \n",
       "59261  AMITY VINEYARDS P/NOIR 2013 - 750ML          WINE   0.00         1.00   \n",
       "\n",
       "       PREV_SALES_1  PREV_SALES_2  PREV_SALES_3  PREV_STORE_SALES_1  \\\n",
       "5202           0.00          0.00          0.00                1.00   \n",
       "5203           0.00          0.00          0.00                1.00   \n",
       "59261          0.00          0.00          0.00                0.00   \n",
       "\n",
       "       PREV_STORE_SALES_2  PREV_STORE_SALES_3  \n",
       "5202                 1.00                1.00  \n",
       "5203                 1.00                1.00  \n",
       "59261                0.00                0.00  "
      ]
     },
     "execution_count": 26,
     "metadata": {},
     "output_type": "execute_result"
    }
   ],
   "source": [
    "df.head(3)"
   ]
  },
  {
   "cell_type": "code",
   "execution_count": 27,
   "metadata": {},
   "outputs": [],
   "source": [
    "# Переводим категориальные признаки ARTICLE_GROUP Группа товаров и CONTRAGENT контрагент в бинарные признаки. 1 да, 0 нет.\n",
    "onehot_df = pd.get_dummies(df[['ARTICLE_GROUP']])\n",
    "df = pd.concat([df,onehot_df], axis = 1)"
   ]
  },
  {
   "cell_type": "code",
   "execution_count": 28,
   "metadata": {},
   "outputs": [
    {
     "data": {
      "text/html": [
       "<div>\n",
       "<style scoped>\n",
       "    .dataframe tbody tr th:only-of-type {\n",
       "        vertical-align: middle;\n",
       "    }\n",
       "\n",
       "    .dataframe tbody tr th {\n",
       "        vertical-align: top;\n",
       "    }\n",
       "\n",
       "    .dataframe thead th {\n",
       "        text-align: right;\n",
       "    }\n",
       "</style>\n",
       "<table border=\"1\" class=\"dataframe\">\n",
       "  <thead>\n",
       "    <tr style=\"text-align: right;\">\n",
       "      <th></th>\n",
       "      <th>YEAR</th>\n",
       "      <th>MONTH</th>\n",
       "      <th>CONTRAGENT</th>\n",
       "      <th>ARTICLE_CODE</th>\n",
       "      <th>ARTICLE_NAME</th>\n",
       "      <th>ARTICLE_GROUP</th>\n",
       "      <th>SALES</th>\n",
       "      <th>STORE_SALES</th>\n",
       "      <th>PREV_SALES_1</th>\n",
       "      <th>PREV_SALES_2</th>\n",
       "      <th>PREV_SALES_3</th>\n",
       "      <th>PREV_STORE_SALES_1</th>\n",
       "      <th>PREV_STORE_SALES_2</th>\n",
       "      <th>PREV_STORE_SALES_3</th>\n",
       "      <th>ARTICLE_GROUP_BEER</th>\n",
       "      <th>ARTICLE_GROUP_KEGS</th>\n",
       "      <th>ARTICLE_GROUP_LIQUOR</th>\n",
       "      <th>ARTICLE_GROUP_NON-ALCOHOL</th>\n",
       "      <th>ARTICLE_GROUP_WINE</th>\n",
       "    </tr>\n",
       "  </thead>\n",
       "  <tbody>\n",
       "    <tr>\n",
       "      <th>5202</th>\n",
       "      <td>2017</td>\n",
       "      <td>5</td>\n",
       "      <td>CONSTANTINE WINES INC</td>\n",
       "      <td>100003</td>\n",
       "      <td>LA CETTO ZINFANDEL - 750ML</td>\n",
       "      <td>WINE</td>\n",
       "      <td>0.00</td>\n",
       "      <td>1.00</td>\n",
       "      <td>0.00</td>\n",
       "      <td>0.00</td>\n",
       "      <td>0.00</td>\n",
       "      <td>1.00</td>\n",
       "      <td>1.00</td>\n",
       "      <td>1.00</td>\n",
       "      <td>0</td>\n",
       "      <td>0</td>\n",
       "      <td>0</td>\n",
       "      <td>0</td>\n",
       "      <td>1</td>\n",
       "    </tr>\n",
       "    <tr>\n",
       "      <th>5203</th>\n",
       "      <td>2017</td>\n",
       "      <td>5</td>\n",
       "      <td>CONSTANTINE WINES INC</td>\n",
       "      <td>100007</td>\n",
       "      <td>LA CETTO CAB SAUV - 750ML</td>\n",
       "      <td>WINE</td>\n",
       "      <td>0.00</td>\n",
       "      <td>1.00</td>\n",
       "      <td>0.00</td>\n",
       "      <td>0.00</td>\n",
       "      <td>0.00</td>\n",
       "      <td>1.00</td>\n",
       "      <td>1.00</td>\n",
       "      <td>1.00</td>\n",
       "      <td>0</td>\n",
       "      <td>0</td>\n",
       "      <td>0</td>\n",
       "      <td>0</td>\n",
       "      <td>1</td>\n",
       "    </tr>\n",
       "  </tbody>\n",
       "</table>\n",
       "</div>"
      ],
      "text/plain": [
       "      YEAR  MONTH             CONTRAGENT ARTICLE_CODE  \\\n",
       "5202  2017      5  CONSTANTINE WINES INC       100003   \n",
       "5203  2017      5  CONSTANTINE WINES INC       100007   \n",
       "\n",
       "                    ARTICLE_NAME ARTICLE_GROUP  SALES  STORE_SALES  \\\n",
       "5202  LA CETTO ZINFANDEL - 750ML          WINE   0.00         1.00   \n",
       "5203   LA CETTO CAB SAUV - 750ML          WINE   0.00         1.00   \n",
       "\n",
       "      PREV_SALES_1  PREV_SALES_2  PREV_SALES_3  PREV_STORE_SALES_1  \\\n",
       "5202          0.00          0.00          0.00                1.00   \n",
       "5203          0.00          0.00          0.00                1.00   \n",
       "\n",
       "      PREV_STORE_SALES_2  PREV_STORE_SALES_3  ARTICLE_GROUP_BEER  \\\n",
       "5202                1.00                1.00                   0   \n",
       "5203                1.00                1.00                   0   \n",
       "\n",
       "      ARTICLE_GROUP_KEGS  ARTICLE_GROUP_LIQUOR  ARTICLE_GROUP_NON-ALCOHOL  \\\n",
       "5202                   0                     0                          0   \n",
       "5203                   0                     0                          0   \n",
       "\n",
       "      ARTICLE_GROUP_WINE  \n",
       "5202                   1  \n",
       "5203                   1  "
      ]
     },
     "execution_count": 28,
     "metadata": {},
     "output_type": "execute_result"
    }
   ],
   "source": [
    "df.head(2)"
   ]
  },
  {
   "cell_type": "code",
   "execution_count": 29,
   "metadata": {},
   "outputs": [],
   "source": [
    "# Переводим признак кода товара (или наименование товара в вещественный признак, привязанный к средней цене товара)\n",
    "# Если заполнять признаковую матрицу для каждого товара, то получается слишком большая матрица. Возможное решение - закодировать средней ценой товара. Новый признак будет упорядочивать товары по дороговизне \n",
    "df['ARTICLE_CODE_digitized'] = code_mean(df, 'ARTICLE_CODE' , 'SALES')\n",
    "df['CONTRAGENT_digitized'] = code_mean(df, 'CONTRAGENT', 'SALES')"
   ]
  },
  {
   "cell_type": "code",
   "execution_count": 30,
   "metadata": {},
   "outputs": [],
   "source": [
    "#df.drop(columns=['PREV_SALES'],inplace = True)"
   ]
  },
  {
   "cell_type": "code",
   "execution_count": 31,
   "metadata": {},
   "outputs": [
    {
     "name": "stdout",
     "output_type": "stream",
     "text": [
      "<class 'pandas.core.frame.DataFrame'>\n",
      "Int64Index: 78396 entries, 5202 to 45870\n",
      "Data columns (total 21 columns):\n",
      " #   Column                     Non-Null Count  Dtype  \n",
      "---  ------                     --------------  -----  \n",
      " 0   YEAR                       78396 non-null  int64  \n",
      " 1   MONTH                      78396 non-null  int64  \n",
      " 2   CONTRAGENT                 78396 non-null  object \n",
      " 3   ARTICLE_CODE               78396 non-null  object \n",
      " 4   ARTICLE_NAME               78396 non-null  object \n",
      " 5   ARTICLE_GROUP              78396 non-null  object \n",
      " 6   SALES                      78396 non-null  float64\n",
      " 7   STORE_SALES                78396 non-null  float64\n",
      " 8   PREV_SALES_1               78396 non-null  float64\n",
      " 9   PREV_SALES_2               78396 non-null  float64\n",
      " 10  PREV_SALES_3               78396 non-null  float64\n",
      " 11  PREV_STORE_SALES_1         78396 non-null  float64\n",
      " 12  PREV_STORE_SALES_2         78396 non-null  float64\n",
      " 13  PREV_STORE_SALES_3         78396 non-null  float64\n",
      " 14  ARTICLE_GROUP_BEER         78396 non-null  uint8  \n",
      " 15  ARTICLE_GROUP_KEGS         78396 non-null  uint8  \n",
      " 16  ARTICLE_GROUP_LIQUOR       78396 non-null  uint8  \n",
      " 17  ARTICLE_GROUP_NON-ALCOHOL  78396 non-null  uint8  \n",
      " 18  ARTICLE_GROUP_WINE         78396 non-null  uint8  \n",
      " 19  ARTICLE_CODE_digitized     78396 non-null  float64\n",
      " 20  CONTRAGENT_digitized       78396 non-null  float64\n",
      "dtypes: float64(10), int64(2), object(4), uint8(5)\n",
      "memory usage: 10.5+ MB\n"
     ]
    }
   ],
   "source": [
    "df.info()"
   ]
  },
  {
   "cell_type": "code",
   "execution_count": 32,
   "metadata": {},
   "outputs": [
    {
     "name": "stdout",
     "output_type": "stream",
     "text": [
      "<class 'pandas.core.frame.DataFrame'>\n",
      "Int64Index: 78396 entries, 5202 to 45870\n",
      "Data columns (total 17 columns):\n",
      " #   Column                     Non-Null Count  Dtype  \n",
      "---  ------                     --------------  -----  \n",
      " 0   YEAR                       78396 non-null  int64  \n",
      " 1   MONTH                      78396 non-null  int64  \n",
      " 2   SALES                      78396 non-null  float64\n",
      " 3   STORE_SALES                78396 non-null  float64\n",
      " 4   PREV_SALES_1               78396 non-null  float64\n",
      " 5   PREV_SALES_2               78396 non-null  float64\n",
      " 6   PREV_SALES_3               78396 non-null  float64\n",
      " 7   PREV_STORE_SALES_1         78396 non-null  float64\n",
      " 8   PREV_STORE_SALES_2         78396 non-null  float64\n",
      " 9   PREV_STORE_SALES_3         78396 non-null  float64\n",
      " 10  ARTICLE_GROUP_BEER         78396 non-null  uint8  \n",
      " 11  ARTICLE_GROUP_KEGS         78396 non-null  uint8  \n",
      " 12  ARTICLE_GROUP_LIQUOR       78396 non-null  uint8  \n",
      " 13  ARTICLE_GROUP_NON-ALCOHOL  78396 non-null  uint8  \n",
      " 14  ARTICLE_GROUP_WINE         78396 non-null  uint8  \n",
      " 15  ARTICLE_CODE_digitized     78396 non-null  float64\n",
      " 16  CONTRAGENT_digitized       78396 non-null  float64\n",
      "dtypes: float64(10), int64(2), uint8(5)\n",
      "memory usage: 8.1 MB\n"
     ]
    }
   ],
   "source": [
    "# Берём все колонки, кроме object (текстовых категориальных признаков)\n",
    "df_sales = df.select_dtypes(exclude=['object'])\n",
    "df_sales.info()"
   ]
  },
  {
   "cell_type": "code",
   "execution_count": 33,
   "metadata": {
    "scrolled": true
   },
   "outputs": [
    {
     "data": {
      "text/html": [
       "<div>\n",
       "<style scoped>\n",
       "    .dataframe tbody tr th:only-of-type {\n",
       "        vertical-align: middle;\n",
       "    }\n",
       "\n",
       "    .dataframe tbody tr th {\n",
       "        vertical-align: top;\n",
       "    }\n",
       "\n",
       "    .dataframe thead th {\n",
       "        text-align: right;\n",
       "    }\n",
       "</style>\n",
       "<table border=\"1\" class=\"dataframe\">\n",
       "  <thead>\n",
       "    <tr style=\"text-align: right;\">\n",
       "      <th></th>\n",
       "      <th>YEAR</th>\n",
       "      <th>MONTH</th>\n",
       "      <th>SALES</th>\n",
       "      <th>STORE_SALES</th>\n",
       "      <th>PREV_SALES_1</th>\n",
       "      <th>PREV_SALES_2</th>\n",
       "      <th>PREV_SALES_3</th>\n",
       "      <th>PREV_STORE_SALES_1</th>\n",
       "      <th>PREV_STORE_SALES_2</th>\n",
       "      <th>PREV_STORE_SALES_3</th>\n",
       "      <th>ARTICLE_GROUP_BEER</th>\n",
       "      <th>ARTICLE_GROUP_KEGS</th>\n",
       "      <th>ARTICLE_GROUP_LIQUOR</th>\n",
       "      <th>ARTICLE_GROUP_NON-ALCOHOL</th>\n",
       "      <th>ARTICLE_GROUP_WINE</th>\n",
       "      <th>ARTICLE_CODE_digitized</th>\n",
       "      <th>CONTRAGENT_digitized</th>\n",
       "    </tr>\n",
       "  </thead>\n",
       "  <tbody>\n",
       "    <tr>\n",
       "      <th>5202</th>\n",
       "      <td>2017</td>\n",
       "      <td>5</td>\n",
       "      <td>0.00</td>\n",
       "      <td>1.00</td>\n",
       "      <td>0.00</td>\n",
       "      <td>0.00</td>\n",
       "      <td>0.00</td>\n",
       "      <td>1.00</td>\n",
       "      <td>1.00</td>\n",
       "      <td>1.00</td>\n",
       "      <td>0</td>\n",
       "      <td>0</td>\n",
       "      <td>0</td>\n",
       "      <td>0</td>\n",
       "      <td>1</td>\n",
       "      <td>0.00</td>\n",
       "      <td>1207.36</td>\n",
       "    </tr>\n",
       "    <tr>\n",
       "      <th>5203</th>\n",
       "      <td>2017</td>\n",
       "      <td>5</td>\n",
       "      <td>0.00</td>\n",
       "      <td>1.00</td>\n",
       "      <td>0.00</td>\n",
       "      <td>0.00</td>\n",
       "      <td>0.00</td>\n",
       "      <td>1.00</td>\n",
       "      <td>1.00</td>\n",
       "      <td>1.00</td>\n",
       "      <td>0</td>\n",
       "      <td>0</td>\n",
       "      <td>0</td>\n",
       "      <td>0</td>\n",
       "      <td>1</td>\n",
       "      <td>0.00</td>\n",
       "      <td>1207.36</td>\n",
       "    </tr>\n",
       "    <tr>\n",
       "      <th>59261</th>\n",
       "      <td>2017</td>\n",
       "      <td>10</td>\n",
       "      <td>0.00</td>\n",
       "      <td>1.00</td>\n",
       "      <td>0.00</td>\n",
       "      <td>0.00</td>\n",
       "      <td>0.00</td>\n",
       "      <td>0.00</td>\n",
       "      <td>0.00</td>\n",
       "      <td>0.00</td>\n",
       "      <td>0</td>\n",
       "      <td>0</td>\n",
       "      <td>0</td>\n",
       "      <td>0</td>\n",
       "      <td>1</td>\n",
       "      <td>0.00</td>\n",
       "      <td>1207.36</td>\n",
       "    </tr>\n",
       "    <tr>\n",
       "      <th>72880</th>\n",
       "      <td>2017</td>\n",
       "      <td>11</td>\n",
       "      <td>0.00</td>\n",
       "      <td>1.00</td>\n",
       "      <td>0.00</td>\n",
       "      <td>0.00</td>\n",
       "      <td>0.00</td>\n",
       "      <td>0.00</td>\n",
       "      <td>0.00</td>\n",
       "      <td>0.00</td>\n",
       "      <td>0</td>\n",
       "      <td>0</td>\n",
       "      <td>0</td>\n",
       "      <td>0</td>\n",
       "      <td>1</td>\n",
       "      <td>0.00</td>\n",
       "      <td>1624.62</td>\n",
       "    </tr>\n",
       "    <tr>\n",
       "      <th>87412</th>\n",
       "      <td>2017</td>\n",
       "      <td>12</td>\n",
       "      <td>0.00</td>\n",
       "      <td>1.00</td>\n",
       "      <td>0.00</td>\n",
       "      <td>0.00</td>\n",
       "      <td>0.00</td>\n",
       "      <td>1.00</td>\n",
       "      <td>0.00</td>\n",
       "      <td>0.00</td>\n",
       "      <td>0</td>\n",
       "      <td>0</td>\n",
       "      <td>0</td>\n",
       "      <td>0</td>\n",
       "      <td>1</td>\n",
       "      <td>0.00</td>\n",
       "      <td>1624.62</td>\n",
       "    </tr>\n",
       "  </tbody>\n",
       "</table>\n",
       "</div>"
      ],
      "text/plain": [
       "       YEAR  MONTH  SALES  STORE_SALES  PREV_SALES_1  PREV_SALES_2  \\\n",
       "5202   2017      5   0.00         1.00          0.00          0.00   \n",
       "5203   2017      5   0.00         1.00          0.00          0.00   \n",
       "59261  2017     10   0.00         1.00          0.00          0.00   \n",
       "72880  2017     11   0.00         1.00          0.00          0.00   \n",
       "87412  2017     12   0.00         1.00          0.00          0.00   \n",
       "\n",
       "       PREV_SALES_3  PREV_STORE_SALES_1  PREV_STORE_SALES_2  \\\n",
       "5202           0.00                1.00                1.00   \n",
       "5203           0.00                1.00                1.00   \n",
       "59261          0.00                0.00                0.00   \n",
       "72880          0.00                0.00                0.00   \n",
       "87412          0.00                1.00                0.00   \n",
       "\n",
       "       PREV_STORE_SALES_3  ARTICLE_GROUP_BEER  ARTICLE_GROUP_KEGS  \\\n",
       "5202                 1.00                   0                   0   \n",
       "5203                 1.00                   0                   0   \n",
       "59261                0.00                   0                   0   \n",
       "72880                0.00                   0                   0   \n",
       "87412                0.00                   0                   0   \n",
       "\n",
       "       ARTICLE_GROUP_LIQUOR  ARTICLE_GROUP_NON-ALCOHOL  ARTICLE_GROUP_WINE  \\\n",
       "5202                      0                          0                   1   \n",
       "5203                      0                          0                   1   \n",
       "59261                     0                          0                   1   \n",
       "72880                     0                          0                   1   \n",
       "87412                     0                          0                   1   \n",
       "\n",
       "       ARTICLE_CODE_digitized  CONTRAGENT_digitized  \n",
       "5202                     0.00               1207.36  \n",
       "5203                     0.00               1207.36  \n",
       "59261                    0.00               1207.36  \n",
       "72880                    0.00               1624.62  \n",
       "87412                    0.00               1624.62  "
      ]
     },
     "execution_count": 33,
     "metadata": {},
     "output_type": "execute_result"
    }
   ],
   "source": [
    "#df_sales['PERIOD_SORT'] = (df_sales['YEAR'].sub(2016).mul(100) + df_sales['MONTH']) \n",
    "df_sales.head()"
   ]
  },
  {
   "cell_type": "code",
   "execution_count": 34,
   "metadata": {},
   "outputs": [],
   "source": [
    "#df_sales.groupby(['YEAR','MONTH'])[['SALES','STORE_SALES']].sum().reset_index()"
   ]
  },
  {
   "cell_type": "markdown",
   "metadata": {},
   "source": [
    "<a id='other_model_cell'>==========================================================</a>"
   ]
  },
  {
   "cell_type": "markdown",
   "metadata": {},
   "source": [
    "# Выбор модели"
   ]
  },
  {
   "cell_type": "code",
   "execution_count": 35,
   "metadata": {},
   "outputs": [],
   "source": [
    "def train_test_split_manual(X, target, columns_sort, values_sort):\n",
    "    X_test = X[X[columns_sort[0]].isin(values_sort[0])][X[columns_sort[1]].isin(values_sort[1])]\n",
    "    y_test = X_test[[target]] \n",
    "    X_test.drop(columns=[target], inplace=True)\n",
    "    \n",
    "    X_train = X[~X[columns_sort[1]].isin(values_sort[1])]\n",
    "    y_train = X_train[[target]]\n",
    "    X_train.drop(columns=[target], inplace=True)\n",
    "    return  X_train, X_test, y_train, y_test"
   ]
  },
  {
   "cell_type": "code",
   "execution_count": 36,
   "metadata": {},
   "outputs": [],
   "source": [
    "# Разделение выборки на train и test с сортировкой по дате\n",
    "# 'STORE_SALES',\n",
    "X_train, X_test, y_train, y_test = train_test_split_manual(df_sales.drop(columns=['STORE_SALES'], axis=1), 'SALES', ['YEAR','MONTH'], [[2018],[2]])"
   ]
  },
  {
   "cell_type": "code",
   "execution_count": 37,
   "metadata": {},
   "outputs": [
    {
     "name": "stdout",
     "output_type": "stream",
     "text": [
      "<class 'pandas.core.frame.DataFrame'>\n",
      "Int64Index: 70064 entries, 5202 to 45870\n",
      "Data columns (total 15 columns):\n",
      " #   Column                     Non-Null Count  Dtype  \n",
      "---  ------                     --------------  -----  \n",
      " 0   YEAR                       70064 non-null  int64  \n",
      " 1   MONTH                      70064 non-null  int64  \n",
      " 2   PREV_SALES_1               70064 non-null  float64\n",
      " 3   PREV_SALES_2               70064 non-null  float64\n",
      " 4   PREV_SALES_3               70064 non-null  float64\n",
      " 5   PREV_STORE_SALES_1         70064 non-null  float64\n",
      " 6   PREV_STORE_SALES_2         70064 non-null  float64\n",
      " 7   PREV_STORE_SALES_3         70064 non-null  float64\n",
      " 8   ARTICLE_GROUP_BEER         70064 non-null  uint8  \n",
      " 9   ARTICLE_GROUP_KEGS         70064 non-null  uint8  \n",
      " 10  ARTICLE_GROUP_LIQUOR       70064 non-null  uint8  \n",
      " 11  ARTICLE_GROUP_NON-ALCOHOL  70064 non-null  uint8  \n",
      " 12  ARTICLE_GROUP_WINE         70064 non-null  uint8  \n",
      " 13  ARTICLE_CODE_digitized     70064 non-null  float64\n",
      " 14  CONTRAGENT_digitized       70064 non-null  float64\n",
      "dtypes: float64(8), int64(2), uint8(5)\n",
      "memory usage: 6.2 MB\n"
     ]
    }
   ],
   "source": [
    "X_train.info()"
   ]
  },
  {
   "cell_type": "code",
   "execution_count": 38,
   "metadata": {},
   "outputs": [
    {
     "data": {
      "text/html": [
       "<div>\n",
       "<style scoped>\n",
       "    .dataframe tbody tr th:only-of-type {\n",
       "        vertical-align: middle;\n",
       "    }\n",
       "\n",
       "    .dataframe tbody tr th {\n",
       "        vertical-align: top;\n",
       "    }\n",
       "\n",
       "    .dataframe thead th {\n",
       "        text-align: right;\n",
       "    }\n",
       "</style>\n",
       "<table border=\"1\" class=\"dataframe\">\n",
       "  <thead>\n",
       "    <tr style=\"text-align: right;\">\n",
       "      <th></th>\n",
       "      <th>YEAR</th>\n",
       "      <th>MONTH</th>\n",
       "      <th>PREV_SALES_1</th>\n",
       "      <th>PREV_SALES_2</th>\n",
       "      <th>PREV_SALES_3</th>\n",
       "      <th>PREV_STORE_SALES_1</th>\n",
       "      <th>PREV_STORE_SALES_2</th>\n",
       "      <th>PREV_STORE_SALES_3</th>\n",
       "      <th>ARTICLE_CODE_digitized</th>\n",
       "      <th>CONTRAGENT_digitized</th>\n",
       "    </tr>\n",
       "  </thead>\n",
       "  <tbody>\n",
       "    <tr>\n",
       "      <th>count</th>\n",
       "      <td>70064.00</td>\n",
       "      <td>70064.00</td>\n",
       "      <td>70064.00</td>\n",
       "      <td>70064.00</td>\n",
       "      <td>70064.00</td>\n",
       "      <td>70064.00</td>\n",
       "      <td>70064.00</td>\n",
       "      <td>70064.00</td>\n",
       "      <td>70064.00</td>\n",
       "      <td>70064.00</td>\n",
       "    </tr>\n",
       "    <tr>\n",
       "      <th>mean</th>\n",
       "      <td>2017.12</td>\n",
       "      <td>7.83</td>\n",
       "      <td>8568.07</td>\n",
       "      <td>8020.90</td>\n",
       "      <td>7894.79</td>\n",
       "      <td>39.13</td>\n",
       "      <td>39.41</td>\n",
       "      <td>39.48</td>\n",
       "      <td>8627.55</td>\n",
       "      <td>8609.02</td>\n",
       "    </tr>\n",
       "    <tr>\n",
       "      <th>std</th>\n",
       "      <td>0.32</td>\n",
       "      <td>3.36</td>\n",
       "      <td>37061.56</td>\n",
       "      <td>35356.49</td>\n",
       "      <td>35482.74</td>\n",
       "      <td>322.45</td>\n",
       "      <td>330.15</td>\n",
       "      <td>335.46</td>\n",
       "      <td>34303.54</td>\n",
       "      <td>14871.49</td>\n",
       "    </tr>\n",
       "    <tr>\n",
       "      <th>min</th>\n",
       "      <td>2017.00</td>\n",
       "      <td>1.00</td>\n",
       "      <td>0.00</td>\n",
       "      <td>0.00</td>\n",
       "      <td>0.00</td>\n",
       "      <td>0.00</td>\n",
       "      <td>0.00</td>\n",
       "      <td>0.00</td>\n",
       "      <td>0.00</td>\n",
       "      <td>0.00</td>\n",
       "    </tr>\n",
       "    <tr>\n",
       "      <th>25%</th>\n",
       "      <td>2017.00</td>\n",
       "      <td>6.00</td>\n",
       "      <td>0.00</td>\n",
       "      <td>0.00</td>\n",
       "      <td>0.00</td>\n",
       "      <td>0.00</td>\n",
       "      <td>0.00</td>\n",
       "      <td>0.00</td>\n",
       "      <td>0.00</td>\n",
       "      <td>642.65</td>\n",
       "    </tr>\n",
       "    <tr>\n",
       "      <th>50%</th>\n",
       "      <td>2017.00</td>\n",
       "      <td>9.00</td>\n",
       "      <td>0.00</td>\n",
       "      <td>0.00</td>\n",
       "      <td>0.00</td>\n",
       "      <td>2.00</td>\n",
       "      <td>2.00</td>\n",
       "      <td>2.00</td>\n",
       "      <td>82.00</td>\n",
       "      <td>1624.62</td>\n",
       "    </tr>\n",
       "    <tr>\n",
       "      <th>75%</th>\n",
       "      <td>2017.00</td>\n",
       "      <td>11.00</td>\n",
       "      <td>4050.00</td>\n",
       "      <td>3320.00</td>\n",
       "      <td>2820.00</td>\n",
       "      <td>9.00</td>\n",
       "      <td>9.00</td>\n",
       "      <td>8.00</td>\n",
       "      <td>5222.22</td>\n",
       "      <td>16952.28</td>\n",
       "    </tr>\n",
       "    <tr>\n",
       "      <th>max</th>\n",
       "      <td>2018.00</td>\n",
       "      <td>12.00</td>\n",
       "      <td>1616600.00</td>\n",
       "      <td>1249000.00</td>\n",
       "      <td>1249000.00</td>\n",
       "      <td>16271.75</td>\n",
       "      <td>16271.75</td>\n",
       "      <td>16271.75</td>\n",
       "      <td>995666.67</td>\n",
       "      <td>403314.84</td>\n",
       "    </tr>\n",
       "  </tbody>\n",
       "</table>\n",
       "</div>"
      ],
      "text/plain": [
       "          YEAR    MONTH  PREV_SALES_1  PREV_SALES_2  PREV_SALES_3  \\\n",
       "count 70064.00 70064.00      70064.00      70064.00      70064.00   \n",
       "mean   2017.12     7.83       8568.07       8020.90       7894.79   \n",
       "std       0.32     3.36      37061.56      35356.49      35482.74   \n",
       "min    2017.00     1.00          0.00          0.00          0.00   \n",
       "25%    2017.00     6.00          0.00          0.00          0.00   \n",
       "50%    2017.00     9.00          0.00          0.00          0.00   \n",
       "75%    2017.00    11.00       4050.00       3320.00       2820.00   \n",
       "max    2018.00    12.00    1616600.00    1249000.00    1249000.00   \n",
       "\n",
       "       PREV_STORE_SALES_1  PREV_STORE_SALES_2  PREV_STORE_SALES_3  \\\n",
       "count            70064.00            70064.00            70064.00   \n",
       "mean                39.13               39.41               39.48   \n",
       "std                322.45              330.15              335.46   \n",
       "min                  0.00                0.00                0.00   \n",
       "25%                  0.00                0.00                0.00   \n",
       "50%                  2.00                2.00                2.00   \n",
       "75%                  9.00                9.00                8.00   \n",
       "max              16271.75            16271.75            16271.75   \n",
       "\n",
       "       ARTICLE_CODE_digitized  CONTRAGENT_digitized  \n",
       "count                70064.00              70064.00  \n",
       "mean                  8627.55               8609.02  \n",
       "std                  34303.54              14871.49  \n",
       "min                      0.00                  0.00  \n",
       "25%                      0.00                642.65  \n",
       "50%                     82.00               1624.62  \n",
       "75%                   5222.22              16952.28  \n",
       "max                 995666.67             403314.84  "
      ]
     },
     "execution_count": 38,
     "metadata": {},
     "output_type": "execute_result"
    }
   ],
   "source": [
    "X_train.describe(include=['int64','float64','object'])"
   ]
  },
  {
   "cell_type": "code",
   "execution_count": 39,
   "metadata": {},
   "outputs": [
    {
     "data": {
      "text/plain": [
       "YEAR  MONTH\n",
       "2018  2        8332\n",
       "Name: ARTICLE_GROUP_BEER, dtype: int64"
      ]
     },
     "execution_count": 39,
     "metadata": {},
     "output_type": "execute_result"
    }
   ],
   "source": [
    "X_test.groupby(['YEAR','MONTH'])['ARTICLE_GROUP_BEER'].count()"
   ]
  },
  {
   "cell_type": "code",
   "execution_count": 40,
   "metadata": {},
   "outputs": [
    {
     "name": "stdout",
     "output_type": "stream",
     "text": [
      "<class 'pandas.core.frame.DataFrame'>\n",
      "Int64Index: 8332 entries, 115256 to 128352\n",
      "Data columns (total 1 columns):\n",
      " #   Column  Non-Null Count  Dtype  \n",
      "---  ------  --------------  -----  \n",
      " 0   SALES   8332 non-null   float64\n",
      "dtypes: float64(1)\n",
      "memory usage: 130.2 KB\n"
     ]
    }
   ],
   "source": [
    "y_test.info()"
   ]
  },
  {
   "cell_type": "code",
   "execution_count": 41,
   "metadata": {},
   "outputs": [
    {
     "data": {
      "text/plain": [
       "LinearRegression(copy_X=True, fit_intercept=True, n_jobs=None, normalize=False)"
      ]
     },
     "execution_count": 41,
     "metadata": {},
     "output_type": "execute_result"
    }
   ],
   "source": [
    "# предсказание продаж линейной регрессией\n",
    "lm = LinearRegression()\n",
    "lm.fit(X_train, y_train)"
   ]
  },
  {
   "cell_type": "code",
   "execution_count": 42,
   "metadata": {},
   "outputs": [
    {
     "data": {
      "text/plain": [
       "9629.735678421777"
      ]
     },
     "execution_count": 42,
     "metadata": {},
     "output_type": "execute_result"
    }
   ],
   "source": [
    "np.sqrt(mean_squared_error(lm.predict(X_train), y_train))"
   ]
  },
  {
   "cell_type": "code",
   "execution_count": 43,
   "metadata": {},
   "outputs": [
    {
     "data": {
      "text/plain": [
       "8790.309003197131"
      ]
     },
     "execution_count": 43,
     "metadata": {},
     "output_type": "execute_result"
    }
   ],
   "source": [
    "lm.predict(X_train).mean()"
   ]
  },
  {
   "cell_type": "code",
   "execution_count": 44,
   "metadata": {},
   "outputs": [
    {
     "data": {
      "text/plain": [
       "SALES   8790.31\n",
       "dtype: float64"
      ]
     },
     "execution_count": 44,
     "metadata": {},
     "output_type": "execute_result"
    }
   ],
   "source": [
    "y_train.mean()"
   ]
  },
  {
   "cell_type": "code",
   "execution_count": 45,
   "metadata": {},
   "outputs": [
    {
     "data": {
      "text/plain": [
       "11888.888874824033"
      ]
     },
     "execution_count": 45,
     "metadata": {},
     "output_type": "execute_result"
    }
   ],
   "source": [
    "np.sqrt(mean_squared_error(lm.predict(X_test), y_test))"
   ]
  },
  {
   "cell_type": "code",
   "execution_count": 46,
   "metadata": {},
   "outputs": [
    {
     "data": {
      "text/plain": [
       "8343.392803096342"
      ]
     },
     "execution_count": 46,
     "metadata": {},
     "output_type": "execute_result"
    }
   ],
   "source": [
    "lm.predict(X_test).mean()"
   ]
  },
  {
   "cell_type": "code",
   "execution_count": 47,
   "metadata": {},
   "outputs": [
    {
     "data": {
      "text/plain": [
       "SALES   7531.07\n",
       "dtype: float64"
      ]
     },
     "execution_count": 47,
     "metadata": {},
     "output_type": "execute_result"
    }
   ],
   "source": [
    "y_test.mean()"
   ]
  },
  {
   "cell_type": "markdown",
   "metadata": {},
   "source": [
    "## Истинные продажи и их предсказания линейной моделью:"
   ]
  },
  {
   "cell_type": "code",
   "execution_count": 48,
   "metadata": {},
   "outputs": [
    {
     "data": {
      "text/plain": [
       "Text(0, 0.5, 'Estimated sales')"
      ]
     },
     "execution_count": 48,
     "metadata": {},
     "output_type": "execute_result"
    },
    {
     "data": {
      "image/png": "[encoded data removed]",
      "text/plain": [
       "<Figure size 1008x504 with 2 Axes>"
      ]
     },
     "metadata": {
      "needs_background": "light"
     },
     "output_type": "display_data"
    }
   ],
   "source": [
    "plt.figure(figsize(14,7))\n",
    "plt.subplot(121)\n",
    "pyplot.scatter(y_train, lm.predict(X_train), color=\"red\", alpha=0.1)\n",
    "#pyplot.xlim(2.5,9.5)\n",
    "#pyplot.ylim(2.5,9.5)\n",
    "plot(range(1200000), color='black')\n",
    "grid()\n",
    "pyplot.title('Train set', fontsize=20)\n",
    "pyplot.xlabel('Sales', fontsize=14)\n",
    "pyplot.ylabel('Estimated sales', fontsize=14)\n",
    "\n",
    "plt.subplot(122)\n",
    "pyplot.scatter(y_test, lm.predict(X_test), color=\"red\", alpha=0.1)\n",
    "#pyplot.xlim(2.5,9.5)\n",
    "#pyplot.ylim(2.5,9.5)\n",
    "plot(range(1200000), color='black')\n",
    "grid()\n",
    "pyplot.title('Test set', fontsize=20)\n",
    "pyplot.xlabel('Sales', fontsize=14)\n",
    "pyplot.ylabel('Estimated sales', fontsize=14)"
   ]
  },
  {
   "cell_type": "code",
   "execution_count": 49,
   "metadata": {},
   "outputs": [],
   "source": [
    "# Список моделей\n",
    "pipeline_lr=Pipeline([(\"scalar1\",StandardScaler()),\n",
    "                     (\"lr_classifier\",LinearRegression())])\n",
    "\n",
    "pipeline_dt=Pipeline([(\"scalar2\",StandardScaler()),\n",
    "                     (\"dt_classifier\",DecisionTreeRegressor())])\n",
    "\n",
    "pipeline_rf=Pipeline([(\"scalar3\",StandardScaler()),\n",
    "                     (\"rf_classifier\",RandomForestRegressor())])\n",
    "\n",
    "\n",
    "pipeline_kn=Pipeline([(\"scalar4\",StandardScaler()),\n",
    "                     (\"kn_classifier\",KNeighborsRegressor())])\n",
    "\n",
    "\n",
    "pipeline_gb=Pipeline([(\"scalar5\",StandardScaler()),\n",
    "                     (\"gb_classifier\",GradientBoostingRegressor())])\n",
    "\n",
    "\n",
    "pipelines = [pipeline_lr, pipeline_dt, pipeline_rf, pipeline_kn, pipeline_gb]\n",
    "\n",
    "# Dictionary of pipelines and model types for ease of reference\n",
    "pipe_dict = {0: \"LinearRegression\", 1: \"DecisionTree\", 2: \"RandomForest\",3: \"KNeighbors\",4: \"GradientBoosting\"}\n",
    "\n",
    "# Обучаем каждую модель\n",
    "for pipe in pipelines:\n",
    "    pipe.fit(X_train, y_train)"
   ]
  },
  {
   "cell_type": "code",
   "execution_count": 50,
   "metadata": {},
   "outputs": [
    {
     "name": "stdout",
     "output_type": "stream",
     "text": [
      "LinearRegression:\t -101 779 739.9715632 \n",
      "DecisionTree:\t -163 482 598.5974728 \n",
      "RandomForest:\t -93 809 075.05410138 \n",
      "KNeighbors:\t -156 292 291.69290936 \n",
      "GradientBoosting:\t -90 162 744.99018228 \n"
     ]
    }
   ],
   "source": [
    "cv_results_rms = []\n",
    "for i, model in enumerate(pipelines):\n",
    "    cv_score = cross_val_score(model, X_train,y_train,scoring=\"neg_mean_squared_error\", cv=2)\n",
    "    cv_results_rms.append(cv_score)\n",
    "    print(\"%s:\\t %s \" % (pipe_dict[i], '{0:,}'.format(cv_score.mean()).replace(',', ' ')))"
   ]
  },
  {
   "cell_type": "markdown",
   "metadata": {},
   "source": [
    "#### <font color='green'> Модель Гадиентного бустинга показала лучшие результаты. Для прогноза будем использовать её.</font>"
   ]
  },
  {
   "cell_type": "code",
   "execution_count": 51,
   "metadata": {},
   "outputs": [],
   "source": [
    "pred = pipeline_gb.predict(X_test)"
   ]
  },
  {
   "cell_type": "code",
   "execution_count": 52,
   "metadata": {},
   "outputs": [
    {
     "data": {
      "text/html": [
       "<div>\n",
       "<style scoped>\n",
       "    .dataframe tbody tr th:only-of-type {\n",
       "        vertical-align: middle;\n",
       "    }\n",
       "\n",
       "    .dataframe tbody tr th {\n",
       "        vertical-align: top;\n",
       "    }\n",
       "\n",
       "    .dataframe thead th {\n",
       "        text-align: right;\n",
       "    }\n",
       "</style>\n",
       "<table border=\"1\" class=\"dataframe\">\n",
       "  <thead>\n",
       "    <tr style=\"text-align: right;\">\n",
       "      <th></th>\n",
       "      <th>YEAR</th>\n",
       "      <th>MONTH</th>\n",
       "      <th>PREV_SALES_1</th>\n",
       "      <th>PREV_SALES_2</th>\n",
       "      <th>PREV_SALES_3</th>\n",
       "      <th>PREV_STORE_SALES_1</th>\n",
       "      <th>PREV_STORE_SALES_2</th>\n",
       "      <th>PREV_STORE_SALES_3</th>\n",
       "      <th>ARTICLE_GROUP_BEER</th>\n",
       "      <th>ARTICLE_GROUP_KEGS</th>\n",
       "      <th>ARTICLE_GROUP_LIQUOR</th>\n",
       "      <th>ARTICLE_GROUP_NON-ALCOHOL</th>\n",
       "      <th>ARTICLE_GROUP_WINE</th>\n",
       "      <th>ARTICLE_CODE_digitized</th>\n",
       "      <th>CONTRAGENT_digitized</th>\n",
       "      <th>SALES</th>\n",
       "    </tr>\n",
       "  </thead>\n",
       "  <tbody>\n",
       "    <tr>\n",
       "      <th>122167</th>\n",
       "      <td>2018</td>\n",
       "      <td>2</td>\n",
       "      <td>514130.00</td>\n",
       "      <td>673400.00</td>\n",
       "      <td>636350.00</td>\n",
       "      <td>6.00</td>\n",
       "      <td>8.00</td>\n",
       "      <td>2.00</td>\n",
       "      <td>0</td>\n",
       "      <td>0</td>\n",
       "      <td>1</td>\n",
       "      <td>0</td>\n",
       "      <td>0</td>\n",
       "      <td>582275.56</td>\n",
       "      <td>52591.14</td>\n",
       "      <td>493220.08</td>\n",
       "    </tr>\n",
       "    <tr>\n",
       "      <th>128210</th>\n",
       "      <td>2018</td>\n",
       "      <td>2</td>\n",
       "      <td>362770.00</td>\n",
       "      <td>765850.00</td>\n",
       "      <td>621790.00</td>\n",
       "      <td>3942.75</td>\n",
       "      <td>4701.79</td>\n",
       "      <td>5568.96</td>\n",
       "      <td>1</td>\n",
       "      <td>0</td>\n",
       "      <td>0</td>\n",
       "      <td>0</td>\n",
       "      <td>0</td>\n",
       "      <td>719292.22</td>\n",
       "      <td>69191.27</td>\n",
       "      <td>502003.37</td>\n",
       "    </tr>\n",
       "    <tr>\n",
       "      <th>117267</th>\n",
       "      <td>2018</td>\n",
       "      <td>2</td>\n",
       "      <td>485000.00</td>\n",
       "      <td>851000.00</td>\n",
       "      <td>814000.00</td>\n",
       "      <td>5888.79</td>\n",
       "      <td>7909.79</td>\n",
       "      <td>7220.00</td>\n",
       "      <td>1</td>\n",
       "      <td>0</td>\n",
       "      <td>0</td>\n",
       "      <td>0</td>\n",
       "      <td>0</td>\n",
       "      <td>697000.00</td>\n",
       "      <td>45763.68</td>\n",
       "      <td>507941.66</td>\n",
       "    </tr>\n",
       "    <tr>\n",
       "      <th>124541</th>\n",
       "      <td>2018</td>\n",
       "      <td>2</td>\n",
       "      <td>634760.00</td>\n",
       "      <td>1616600.00</td>\n",
       "      <td>830900.00</td>\n",
       "      <td>17.00</td>\n",
       "      <td>15.00</td>\n",
       "      <td>22.00</td>\n",
       "      <td>0</td>\n",
       "      <td>0</td>\n",
       "      <td>1</td>\n",
       "      <td>0</td>\n",
       "      <td>0</td>\n",
       "      <td>964950.00</td>\n",
       "      <td>403314.84</td>\n",
       "      <td>724975.50</td>\n",
       "    </tr>\n",
       "    <tr>\n",
       "      <th>117026</th>\n",
       "      <td>2018</td>\n",
       "      <td>2</td>\n",
       "      <td>665000.00</td>\n",
       "      <td>1170000.00</td>\n",
       "      <td>992000.00</td>\n",
       "      <td>8644.75</td>\n",
       "      <td>11932.79</td>\n",
       "      <td>16079.12</td>\n",
       "      <td>1</td>\n",
       "      <td>0</td>\n",
       "      <td>0</td>\n",
       "      <td>0</td>\n",
       "      <td>0</td>\n",
       "      <td>995666.67</td>\n",
       "      <td>69191.27</td>\n",
       "      <td>758181.01</td>\n",
       "    </tr>\n",
       "  </tbody>\n",
       "</table>\n",
       "</div>"
      ],
      "text/plain": [
       "        YEAR  MONTH  PREV_SALES_1  PREV_SALES_2  PREV_SALES_3  \\\n",
       "122167  2018      2     514130.00     673400.00     636350.00   \n",
       "128210  2018      2     362770.00     765850.00     621790.00   \n",
       "117267  2018      2     485000.00     851000.00     814000.00   \n",
       "124541  2018      2     634760.00    1616600.00     830900.00   \n",
       "117026  2018      2     665000.00    1170000.00     992000.00   \n",
       "\n",
       "        PREV_STORE_SALES_1  PREV_STORE_SALES_2  PREV_STORE_SALES_3  \\\n",
       "122167                6.00                8.00                2.00   \n",
       "128210             3942.75             4701.79             5568.96   \n",
       "117267             5888.79             7909.79             7220.00   \n",
       "124541               17.00               15.00               22.00   \n",
       "117026             8644.75            11932.79            16079.12   \n",
       "\n",
       "        ARTICLE_GROUP_BEER  ARTICLE_GROUP_KEGS  ARTICLE_GROUP_LIQUOR  \\\n",
       "122167                   0                   0                     1   \n",
       "128210                   1                   0                     0   \n",
       "117267                   1                   0                     0   \n",
       "124541                   0                   0                     1   \n",
       "117026                   1                   0                     0   \n",
       "\n",
       "        ARTICLE_GROUP_NON-ALCOHOL  ARTICLE_GROUP_WINE  ARTICLE_CODE_digitized  \\\n",
       "122167                          0                   0               582275.56   \n",
       "128210                          0                   0               719292.22   \n",
       "117267                          0                   0               697000.00   \n",
       "124541                          0                   0               964950.00   \n",
       "117026                          0                   0               995666.67   \n",
       "\n",
       "        CONTRAGENT_digitized     SALES  \n",
       "122167              52591.14 493220.08  \n",
       "128210              69191.27 502003.37  \n",
       "117267              45763.68 507941.66  \n",
       "124541             403314.84 724975.50  \n",
       "117026              69191.27 758181.01  "
      ]
     },
     "execution_count": 52,
     "metadata": {},
     "output_type": "execute_result"
    }
   ],
   "source": [
    "# Прогноз по 5-ти самых продаваемым товаров\n",
    "df_result = X_test\n",
    "df_result['SALES'] = None\n",
    "df_result = df_result.assign(SALES=pred)\n",
    "#pd.concat([X_test,pd.DataFrame(data=pred, columns=['SALES'])], axis = 0).head(5)\n",
    "df_result.sort_values(by=['SALES']).tail(5)"
   ]
  },
  {
   "cell_type": "code",
   "execution_count": 63,
   "metadata": {},
   "outputs": [
    {
     "data": {
      "text/html": [
       "<div>\n",
       "<style scoped>\n",
       "    .dataframe tbody tr th:only-of-type {\n",
       "        vertical-align: middle;\n",
       "    }\n",
       "\n",
       "    .dataframe tbody tr th {\n",
       "        vertical-align: top;\n",
       "    }\n",
       "\n",
       "    .dataframe thead th {\n",
       "        text-align: right;\n",
       "    }\n",
       "</style>\n",
       "<table border=\"1\" class=\"dataframe\">\n",
       "  <thead>\n",
       "    <tr style=\"text-align: right;\">\n",
       "      <th></th>\n",
       "      <th>ARTICLE_NAME</th>\n",
       "      <th>ARTICLE_GROUP</th>\n",
       "      <th>SALES</th>\n",
       "    </tr>\n",
       "  </thead>\n",
       "  <tbody>\n",
       "    <tr>\n",
       "      <th>122167</th>\n",
       "      <td>BOWMAN'S VODKA - 1.75L</td>\n",
       "      <td>LIQUOR</td>\n",
       "      <td>583890.00</td>\n",
       "    </tr>\n",
       "    <tr>\n",
       "      <th>128210</th>\n",
       "      <td>CORONA EXTRA 4/6 NR - 12OZ</td>\n",
       "      <td>BEER</td>\n",
       "      <td>434480.00</td>\n",
       "    </tr>\n",
       "    <tr>\n",
       "      <th>117267</th>\n",
       "      <td>HEINEKEN LOOSE NR - 12OZ</td>\n",
       "      <td>BEER</td>\n",
       "      <td>615000.00</td>\n",
       "    </tr>\n",
       "    <tr>\n",
       "      <th>124541</th>\n",
       "      <td>TITO'S HANDMADE VODKA - 1.75L</td>\n",
       "      <td>LIQUOR</td>\n",
       "      <td>983020.00</td>\n",
       "    </tr>\n",
       "    <tr>\n",
       "      <th>117026</th>\n",
       "      <td>CORONA EXTRA LOOSE NR - 12OZ</td>\n",
       "      <td>BEER</td>\n",
       "      <td>973000.00</td>\n",
       "    </tr>\n",
       "  </tbody>\n",
       "</table>\n",
       "</div>"
      ],
      "text/plain": [
       "                         ARTICLE_NAME ARTICLE_GROUP     SALES\n",
       "122167         BOWMAN'S VODKA - 1.75L        LIQUOR 583890.00\n",
       "128210     CORONA EXTRA 4/6 NR - 12OZ          BEER 434480.00\n",
       "117267       HEINEKEN LOOSE NR - 12OZ          BEER 615000.00\n",
       "124541  TITO'S HANDMADE VODKA - 1.75L        LIQUOR 983020.00\n",
       "117026   CORONA EXTRA LOOSE NR - 12OZ          BEER 973000.00"
      ]
     },
     "execution_count": 63,
     "metadata": {},
     "output_type": "execute_result"
    }
   ],
   "source": [
    "# сравнение с истинными значениями\n",
    "df.loc[[122167,128210,117267,124541,117026]][['ARTICLE_NAME','ARTICLE_GROUP','SALES']]"
   ]
  },
  {
   "cell_type": "markdown",
   "metadata": {},
   "source": [
    "<a id='score_cell'>==========================================================</a>"
   ]
  },
  {
   "cell_type": "markdown",
   "metadata": {},
   "source": [
    "# Оценки модели"
   ]
  },
  {
   "cell_type": "code",
   "execution_count": 54,
   "metadata": {},
   "outputs": [
    {
     "name": "stdout",
     "output_type": "stream",
     "text": [
      "Коэффициент детерминации R^2: 0.9231909196622555\n",
      "Скорректированный R^2: 0.9230431210711065\n",
      "Средняя абсолютная ошибка MAE: 2184.0093161257564\n",
      "Средняя квадратическая ошибка MSE: 68774916.59070395\n",
      "Корень RMSE: 8293.064366728619\n",
      "\n",
      " Предложенная функция оценки metric: 28.11648750299452\n"
     ]
    }
   ],
   "source": [
    "print(\"Коэффициент детерминации R^2:\",metrics.r2_score(y_test, pred))\n",
    "print(\"Скорректированный R^2:\",1 - (1-metrics.r2_score(y_test, pred))*(len(y_test)-1)/(len(y_test)-X_test.shape[1]-1))\n",
    "print(\"Средняя абсолютная ошибка MAE:\",metrics.mean_absolute_error(y_test, pred))\n",
    "print(\"Средняя квадратическая ошибка MSE:\",metrics.mean_squared_error(y_test, pred))\n",
    "print(\"Корень RMSE:\",np.sqrt(metrics.mean_squared_error(y_test, pred)))\n",
    "#\n",
    "print(\"\\n Предложенная функция оценки metric:\",metric(y_test['SALES'].to_numpy(), pred) )"
   ]
  },
  {
   "cell_type": "code",
   "execution_count": 65,
   "metadata": {},
   "outputs": [
    {
     "data": {
      "text/plain": [
       "Text(0, 0.5, 'Estimated sales')"
      ]
     },
     "execution_count": 65,
     "metadata": {},
     "output_type": "execute_result"
    },
    {
     "data": {
      "image/png": "[encoded data removed]",
      "text/plain": [
       "<Figure size 1008x504 with 2 Axes>"
      ]
     },
     "metadata": {
      "needs_background": "light"
     },
     "output_type": "display_data"
    }
   ],
   "source": [
    "plt.figure(figsize(14,7))\n",
    "plt.subplot(121)\n",
    "pyplot.scatter(y_train, pipeline_gb.predict(X_train), color=\"red\", alpha=0.1)\n",
    "#pyplot.xlim(2.5,9.5)\n",
    "#pyplot.ylim(2.5,9.5)\n",
    "plot(range(1000000), color='black')\n",
    "grid()\n",
    "pyplot.title('Train set', fontsize=20)\n",
    "pyplot.xlabel('Sales', fontsize=14)\n",
    "pyplot.ylabel('Estimated sales', fontsize=14)\n",
    "\n",
    "plt.subplot(122)\n",
    "pyplot.scatter(y_test, pred, color=\"red\", alpha=0.1)\n",
    "#pyplot.xlim(2.5,9.5)\n",
    "#pyplot.ylim(2.5,9.5)\n",
    "plot(range(1000000), color='black')\n",
    "grid()\n",
    "pyplot.title('Test set', fontsize=20)\n",
    "pyplot.xlabel('Sales', fontsize=14)\n",
    "pyplot.ylabel('Estimated sales', fontsize=14)"
   ]
  }
 ],
 "metadata": {
  "kernelspec": {
   "display_name": "Python 3",
   "language": "python",
   "name": "python3"
  }
 },
 "nbformat": 4,
 "nbformat_minor": 4
}
