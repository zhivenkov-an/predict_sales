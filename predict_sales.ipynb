{
 "cells": [
  {
   "cell_type": "markdown",
   "metadata": {},
   "source": [
    "## Импорт библиотек"
   ]
  },
  {
   "cell_type": "code",
   "execution_count": 2,
   "metadata": {},
   "outputs": [],
   "source": [
    "import pandas as pd\n",
    "import seaborn as sns\n",
    "import matplotlib.pylab as plt\n",
    "from pylab import rcParams\n",
    "rcParams['figure.figsize'] = 20, 10"
   ]
  },
  {
   "cell_type": "code",
   "execution_count": 3,
   "metadata": {},
   "outputs": [
    {
     "data": {
      "text/html": [
       "<style>.container { width:95% !important; }</style>"
      ],
      "text/plain": [
       "<IPython.core.display.HTML object>"
      ]
     },
     "metadata": {},
     "output_type": "display_data"
    }
   ],
   "source": [
    "from IPython.core.display import display, HTML\n",
    "display(HTML(\"<style>.container { width:95% !important; }</style>\"))\n",
    "# параметры отображения pandas\n",
    "pd.set_option('display.max_colwidth', None)\n",
    "pd.set_option('display.float_format', '{:.2f}'.format)"
   ]
  },
  {
   "cell_type": "code",
   "execution_count": 4,
   "metadata": {},
   "outputs": [
    {
     "name": "stdout",
     "output_type": "stream",
     "text": [
      "Populating the interactive namespace from numpy and matplotlib\n"
     ]
    },
    {
     "name": "stderr",
     "output_type": "stream",
     "text": [
      "C:\\ProgramData\\Anaconda3\\lib\\site-packages\\IPython\\core\\magics\\pylab.py:160: UserWarning: pylab import has clobbered these variables: ['plt']\n",
      "`%matplotlib` prevents importing * from pylab and numpy\n",
      "  \"\\n`%matplotlib` prevents importing * from pylab and numpy\"\n"
     ]
    }
   ],
   "source": [
    "#увеличим дефолтный размер графиков\n",
    "from pylab import rcParams\n",
    "rcParams['figure.figsize'] = 8, 5\n",
    "%pylab inline"
   ]
  },
  {
   "cell_type": "code",
   "execution_count": 5,
   "metadata": {},
   "outputs": [],
   "source": [
    "import numpy as np\n",
    "from sklearn.preprocessing import OneHotEncoder"
   ]
  },
  {
   "cell_type": "code",
   "execution_count": 6,
   "metadata": {},
   "outputs": [],
   "source": [
    "from sklearn import metrics\n",
    "from sklearn.linear_model import LinearRegression\n",
    "from sklearn.metrics import mean_squared_error\n",
    "from sklearn.pipeline import Pipeline\n",
    "from sklearn.preprocessing import StandardScaler\n",
    "from sklearn.tree import DecisionTreeRegressor\n",
    "from sklearn.ensemble import RandomForestRegressor\n",
    "from sklearn.linear_model import LinearRegression\n",
    "#from xgboost import XGBRegressor # conda install -c conda-forge xgboost или # conda install -c anaconda py-xgboost\n",
    "from sklearn.ensemble import GradientBoostingClassifier, GradientBoostingRegressor\n",
    "from sklearn.neighbors import KNeighborsRegressor\n",
    "from sklearn.model_selection import cross_val_score\n"
   ]
  },
  {
   "cell_type": "code",
   "execution_count": 7,
   "metadata": {},
   "outputs": [],
   "source": [
    "# вспомогательная функция\n",
    "def code_mean(data, cat_feature, real_feature):\n",
    "    \"\"\"возвращает значение нового признака на основе вещественного значения другого\"\"\"\n",
    "    return (data[cat_feature].map(data.groupby(cat_feature)[real_feature].mean()))"
   ]
  },
  {
   "cell_type": "markdown",
   "metadata": {},
   "source": [
    "## Задача 1:\n",
    "- Проведите аналитику полученных данных \n",
    "- Подготовьте данные для регрессионной модели \n",
    "- Обучите регрессионную модель и осуществите прогноз на последний месяц для поля SALES \n",
    "- Оцените качество модели с помощью функции metric "
   ]
  },
  {
   "cell_type": "markdown",
   "metadata": {},
   "source": [
    "## Метрика для оценки Вашей модели"
   ]
  },
  {
   "cell_type": "code",
   "execution_count": 8,
   "metadata": {},
   "outputs": [],
   "source": [
    "def metric(y_true, y_pred):    \n",
    "    return np.sum(np.abs(y_true - y_pred)) / np.sum(y_pred) * 100"
   ]
  },
  {
   "cell_type": "markdown",
   "metadata": {},
   "source": [
    "## Данные"
   ]
  },
  {
   "cell_type": "code",
   "execution_count": 40,
   "metadata": {},
   "outputs": [],
   "source": [
    "df = pd.read_csv(r'.\\data\\data_regression_for_task.csv')"
   ]
  },
  {
   "cell_type": "code",
   "execution_count": 10,
   "metadata": {},
   "outputs": [
    {
     "data": {
      "text/html": [
       "<div>\n",
       "<style scoped>\n",
       "    .dataframe tbody tr th:only-of-type {\n",
       "        vertical-align: middle;\n",
       "    }\n",
       "\n",
       "    .dataframe tbody tr th {\n",
       "        vertical-align: top;\n",
       "    }\n",
       "\n",
       "    .dataframe thead th {\n",
       "        text-align: right;\n",
       "    }\n",
       "</style>\n",
       "<table border=\"1\" class=\"dataframe\">\n",
       "  <thead>\n",
       "    <tr style=\"text-align: right;\">\n",
       "      <th></th>\n",
       "      <th>YEAR</th>\n",
       "      <th>MONTH</th>\n",
       "      <th>CONTRAGENT</th>\n",
       "      <th>ARTICLE_CODE</th>\n",
       "      <th>ARTICLE_NAME</th>\n",
       "      <th>ARTICLE_GROUP</th>\n",
       "      <th>SALES</th>\n",
       "      <th>STORE_SALES</th>\n",
       "    </tr>\n",
       "  </thead>\n",
       "  <tbody>\n",
       "    <tr>\n",
       "      <th>0</th>\n",
       "      <td>2017</td>\n",
       "      <td>4</td>\n",
       "      <td>ROYAL WINE CORP</td>\n",
       "      <td>100200</td>\n",
       "      <td>GAMLA CAB - 750ML</td>\n",
       "      <td>WINE</td>\n",
       "      <td>0.00</td>\n",
       "      <td>0.00</td>\n",
       "    </tr>\n",
       "    <tr>\n",
       "      <th>1</th>\n",
       "      <td>2017</td>\n",
       "      <td>4</td>\n",
       "      <td>SANTA MARGHERITA USA INC</td>\n",
       "      <td>100749</td>\n",
       "      <td>SANTA MARGHERITA P/GRIG ALTO - 375ML</td>\n",
       "      <td>WINE</td>\n",
       "      <td>0.00</td>\n",
       "      <td>0.00</td>\n",
       "    </tr>\n",
       "    <tr>\n",
       "      <th>2</th>\n",
       "      <td>2017</td>\n",
       "      <td>4</td>\n",
       "      <td>JIM BEAM BRANDS CO</td>\n",
       "      <td>10103</td>\n",
       "      <td>KNOB CREEK BOURBON 9YR - 100P - 375ML</td>\n",
       "      <td>LIQUOR</td>\n",
       "      <td>0.00</td>\n",
       "      <td>0.00</td>\n",
       "    </tr>\n",
       "    <tr>\n",
       "      <th>3</th>\n",
       "      <td>2017</td>\n",
       "      <td>4</td>\n",
       "      <td>HEAVEN HILL DISTILLERIES INC</td>\n",
       "      <td>10120</td>\n",
       "      <td>J W DANT BOURBON 100P - 1.75L</td>\n",
       "      <td>LIQUOR</td>\n",
       "      <td>0.00</td>\n",
       "      <td>0.00</td>\n",
       "    </tr>\n",
       "    <tr>\n",
       "      <th>4</th>\n",
       "      <td>2017</td>\n",
       "      <td>4</td>\n",
       "      <td>ROYAL WINE CORP</td>\n",
       "      <td>101664</td>\n",
       "      <td>RAMON CORDOVA RIOJA - 750ML</td>\n",
       "      <td>WINE</td>\n",
       "      <td>0.00</td>\n",
       "      <td>0.00</td>\n",
       "    </tr>\n",
       "  </tbody>\n",
       "</table>\n",
       "</div>"
      ],
      "text/plain": [
       "   YEAR  MONTH                    CONTRAGENT ARTICLE_CODE  \\\n",
       "0  2017      4               ROYAL WINE CORP       100200   \n",
       "1  2017      4      SANTA MARGHERITA USA INC       100749   \n",
       "2  2017      4            JIM BEAM BRANDS CO        10103   \n",
       "3  2017      4  HEAVEN HILL DISTILLERIES INC        10120   \n",
       "4  2017      4               ROYAL WINE CORP       101664   \n",
       "\n",
       "                            ARTICLE_NAME ARTICLE_GROUP  SALES  STORE_SALES  \n",
       "0                      GAMLA CAB - 750ML          WINE   0.00         0.00  \n",
       "1   SANTA MARGHERITA P/GRIG ALTO - 375ML          WINE   0.00         0.00  \n",
       "2  KNOB CREEK BOURBON 9YR - 100P - 375ML        LIQUOR   0.00         0.00  \n",
       "3          J W DANT BOURBON 100P - 1.75L        LIQUOR   0.00         0.00  \n",
       "4            RAMON CORDOVA RIOJA - 750ML          WINE   0.00         0.00  "
      ]
     },
     "execution_count": 10,
     "metadata": {},
     "output_type": "execute_result"
    }
   ],
   "source": [
    "df.head(5)"
   ]
  },
  {
   "cell_type": "markdown",
   "metadata": {},
   "source": [
    "## Описание\n",
    "\n",
    "- YEAR: год продажи \n",
    "- MONTH: месяц продажи \n",
    "- CONTRAGENT: поставщик товарной позиции \n",
    "- ARTICLE_CODE: код товарной позиции \n",
    "- ARTICLE_NAME: название товарной позиции \n",
    "- ARTICLE_GROUP: название группы товарных позиций \n",
    "- SALES: продажи товарной позиции в этот месяц и год (целевая переменная) \n",
    "- STORE_SALES: продажи всего магазина \n"
   ]
  },
  {
   "cell_type": "markdown",
   "metadata": {},
   "source": [
    "## аналитика полученных данных"
   ]
  },
  {
   "cell_type": "code",
   "execution_count": 11,
   "metadata": {},
   "outputs": [
    {
     "name": "stdout",
     "output_type": "stream",
     "text": [
      "<class 'pandas.core.frame.DataFrame'>\n",
      "RangeIndex: 128355 entries, 0 to 128354\n",
      "Data columns (total 8 columns):\n",
      " #   Column         Non-Null Count   Dtype  \n",
      "---  ------         --------------   -----  \n",
      " 0   YEAR           128355 non-null  int64  \n",
      " 1   MONTH          128355 non-null  int64  \n",
      " 2   CONTRAGENT     128331 non-null  object \n",
      " 3   ARTICLE_CODE   128355 non-null  object \n",
      " 4   ARTICLE_NAME   128355 non-null  object \n",
      " 5   ARTICLE_GROUP  128354 non-null  object \n",
      " 6   SALES          128355 non-null  float64\n",
      " 7   STORE_SALES    128355 non-null  float64\n",
      "dtypes: float64(2), int64(2), object(4)\n",
      "memory usage: 7.8+ MB\n"
     ]
    }
   ],
   "source": [
    "df.info()"
   ]
  },
  {
   "cell_type": "code",
   "execution_count": 12,
   "metadata": {},
   "outputs": [
    {
     "data": {
      "text/html": [
       "<div>\n",
       "<style scoped>\n",
       "    .dataframe tbody tr th:only-of-type {\n",
       "        vertical-align: middle;\n",
       "    }\n",
       "\n",
       "    .dataframe tbody tr th {\n",
       "        vertical-align: top;\n",
       "    }\n",
       "\n",
       "    .dataframe thead th {\n",
       "        text-align: right;\n",
       "    }\n",
       "</style>\n",
       "<table border=\"1\" class=\"dataframe\">\n",
       "  <thead>\n",
       "    <tr style=\"text-align: right;\">\n",
       "      <th></th>\n",
       "      <th>YEAR</th>\n",
       "      <th>MONTH</th>\n",
       "      <th>CONTRAGENT</th>\n",
       "      <th>ARTICLE_CODE</th>\n",
       "      <th>ARTICLE_NAME</th>\n",
       "      <th>ARTICLE_GROUP</th>\n",
       "      <th>SALES</th>\n",
       "      <th>STORE_SALES</th>\n",
       "    </tr>\n",
       "  </thead>\n",
       "  <tbody>\n",
       "    <tr>\n",
       "      <th>count</th>\n",
       "      <td>128355.00</td>\n",
       "      <td>128355.00</td>\n",
       "      <td>128331</td>\n",
       "      <td>128355</td>\n",
       "      <td>128355</td>\n",
       "      <td>128354</td>\n",
       "      <td>128355.00</td>\n",
       "      <td>128355.00</td>\n",
       "    </tr>\n",
       "    <tr>\n",
       "      <th>unique</th>\n",
       "      <td>nan</td>\n",
       "      <td>nan</td>\n",
       "      <td>333</td>\n",
       "      <td>23556</td>\n",
       "      <td>23624</td>\n",
       "      <td>8</td>\n",
       "      <td>nan</td>\n",
       "      <td>nan</td>\n",
       "    </tr>\n",
       "    <tr>\n",
       "      <th>top</th>\n",
       "      <td>nan</td>\n",
       "      <td>nan</td>\n",
       "      <td>REPUBLIC NATIONAL DISTRIBUTING CO</td>\n",
       "      <td>76236</td>\n",
       "      <td>LA VIELLE FERME CDV RED - 750ML</td>\n",
       "      <td>WINE</td>\n",
       "      <td>nan</td>\n",
       "      <td>nan</td>\n",
       "    </tr>\n",
       "    <tr>\n",
       "      <th>freq</th>\n",
       "      <td>nan</td>\n",
       "      <td>nan</td>\n",
       "      <td>9847</td>\n",
       "      <td>10</td>\n",
       "      <td>19</td>\n",
       "      <td>79077</td>\n",
       "      <td>nan</td>\n",
       "      <td>nan</td>\n",
       "    </tr>\n",
       "    <tr>\n",
       "      <th>mean</th>\n",
       "      <td>2017.21</td>\n",
       "      <td>7.08</td>\n",
       "      <td>NaN</td>\n",
       "      <td>NaN</td>\n",
       "      <td>NaN</td>\n",
       "      <td>NaN</td>\n",
       "      <td>6563.04</td>\n",
       "      <td>22.62</td>\n",
       "    </tr>\n",
       "    <tr>\n",
       "      <th>std</th>\n",
       "      <td>0.40</td>\n",
       "      <td>3.65</td>\n",
       "      <td>NaN</td>\n",
       "      <td>NaN</td>\n",
       "      <td>NaN</td>\n",
       "      <td>NaN</td>\n",
       "      <td>28924.94</td>\n",
       "      <td>239.69</td>\n",
       "    </tr>\n",
       "    <tr>\n",
       "      <th>min</th>\n",
       "      <td>2017.00</td>\n",
       "      <td>1.00</td>\n",
       "      <td>NaN</td>\n",
       "      <td>NaN</td>\n",
       "      <td>NaN</td>\n",
       "      <td>NaN</td>\n",
       "      <td>-6490.00</td>\n",
       "      <td>-4996.00</td>\n",
       "    </tr>\n",
       "    <tr>\n",
       "      <th>25%</th>\n",
       "      <td>2017.00</td>\n",
       "      <td>5.00</td>\n",
       "      <td>NaN</td>\n",
       "      <td>NaN</td>\n",
       "      <td>NaN</td>\n",
       "      <td>NaN</td>\n",
       "      <td>0.00</td>\n",
       "      <td>0.00</td>\n",
       "    </tr>\n",
       "    <tr>\n",
       "      <th>50%</th>\n",
       "      <td>2017.00</td>\n",
       "      <td>8.00</td>\n",
       "      <td>NaN</td>\n",
       "      <td>NaN</td>\n",
       "      <td>NaN</td>\n",
       "      <td>NaN</td>\n",
       "      <td>330.00</td>\n",
       "      <td>1.00</td>\n",
       "    </tr>\n",
       "    <tr>\n",
       "      <th>75%</th>\n",
       "      <td>2017.00</td>\n",
       "      <td>10.00</td>\n",
       "      <td>NaN</td>\n",
       "      <td>NaN</td>\n",
       "      <td>NaN</td>\n",
       "      <td>NaN</td>\n",
       "      <td>3250.00</td>\n",
       "      <td>4.00</td>\n",
       "    </tr>\n",
       "    <tr>\n",
       "      <th>max</th>\n",
       "      <td>2018.00</td>\n",
       "      <td>12.00</td>\n",
       "      <td>NaN</td>\n",
       "      <td>NaN</td>\n",
       "      <td>NaN</td>\n",
       "      <td>NaN</td>\n",
       "      <td>1616600.00</td>\n",
       "      <td>16271.75</td>\n",
       "    </tr>\n",
       "  </tbody>\n",
       "</table>\n",
       "</div>"
      ],
      "text/plain": [
       "            YEAR     MONTH                         CONTRAGENT ARTICLE_CODE  \\\n",
       "count  128355.00 128355.00                             128331       128355   \n",
       "unique       nan       nan                                333        23556   \n",
       "top          nan       nan  REPUBLIC NATIONAL DISTRIBUTING CO        76236   \n",
       "freq         nan       nan                               9847           10   \n",
       "mean     2017.21      7.08                                NaN          NaN   \n",
       "std         0.40      3.65                                NaN          NaN   \n",
       "min      2017.00      1.00                                NaN          NaN   \n",
       "25%      2017.00      5.00                                NaN          NaN   \n",
       "50%      2017.00      8.00                                NaN          NaN   \n",
       "75%      2017.00     10.00                                NaN          NaN   \n",
       "max      2018.00     12.00                                NaN          NaN   \n",
       "\n",
       "                           ARTICLE_NAME ARTICLE_GROUP      SALES  STORE_SALES  \n",
       "count                            128355        128354  128355.00    128355.00  \n",
       "unique                            23624             8        nan          nan  \n",
       "top     LA VIELLE FERME CDV RED - 750ML          WINE        nan          nan  \n",
       "freq                                 19         79077        nan          nan  \n",
       "mean                                NaN           NaN    6563.04        22.62  \n",
       "std                                 NaN           NaN   28924.94       239.69  \n",
       "min                                 NaN           NaN   -6490.00     -4996.00  \n",
       "25%                                 NaN           NaN       0.00         0.00  \n",
       "50%                                 NaN           NaN     330.00         1.00  \n",
       "75%                                 NaN           NaN    3250.00         4.00  \n",
       "max                                 NaN           NaN 1616600.00     16271.75  "
      ]
     },
     "execution_count": 12,
     "metadata": {},
     "output_type": "execute_result"
    }
   ],
   "source": [
    "df.describe(include=['int64','float64','object'])"
   ]
  },
  {
   "cell_type": "markdown",
   "metadata": {},
   "source": [
    "#### <font color='red'> В исходном датасете есть выбросы и шумы. Есть пропуски в данных. Далее нужно будет посмотреть распределение по каждому признаку</font>"
   ]
  },
  {
   "cell_type": "markdown",
   "metadata": {},
   "source": [
    "### Ошибки в данных, которые виды из общего описания\n",
    "- 1 Есть отрицательные цены в продажах и магазинах\n",
    "- 2 Максимальные продажи, больше чем продажи магазина.\n",
    "- 3 Есть дубли в названиях ARTICLE_NAME для одинаковых ARTICLE_CODE"
   ]
  },
  {
   "cell_type": "markdown",
   "metadata": {},
   "source": [
    "### Подготовка данных"
   ]
  },
  {
   "cell_type": "code",
   "execution_count": 15,
   "metadata": {},
   "outputs": [
    {
     "name": "stdout",
     "output_type": "stream",
     "text": [
      "Начальное кол-во строк 128355\n"
     ]
    }
   ],
   "source": [
    "print('Начальное кол-во строк', df.shape[0])"
   ]
  },
  {
   "cell_type": "code",
   "execution_count": 48,
   "metadata": {},
   "outputs": [
    {
     "data": {
      "text/html": [
       "<div>\n",
       "<style scoped>\n",
       "    .dataframe tbody tr th:only-of-type {\n",
       "        vertical-align: middle;\n",
       "    }\n",
       "\n",
       "    .dataframe tbody tr th {\n",
       "        vertical-align: top;\n",
       "    }\n",
       "\n",
       "    .dataframe thead th {\n",
       "        text-align: right;\n",
       "    }\n",
       "</style>\n",
       "<table border=\"1\" class=\"dataframe\">\n",
       "  <thead>\n",
       "    <tr style=\"text-align: right;\">\n",
       "      <th></th>\n",
       "      <th></th>\n",
       "      <th>SALES</th>\n",
       "      <th>STORE_SALES</th>\n",
       "    </tr>\n",
       "    <tr>\n",
       "      <th>YEAR</th>\n",
       "      <th>MONTH</th>\n",
       "      <th></th>\n",
       "      <th></th>\n",
       "    </tr>\n",
       "  </thead>\n",
       "  <tbody>\n",
       "    <tr>\n",
       "      <th rowspan=\"10\" valign=\"top\">2017</th>\n",
       "      <th>2</th>\n",
       "      <td>77621100.00</td>\n",
       "      <td>367468.39</td>\n",
       "    </tr>\n",
       "    <tr>\n",
       "      <th>3</th>\n",
       "      <td>77621100.00</td>\n",
       "      <td>367468.39</td>\n",
       "    </tr>\n",
       "    <tr>\n",
       "      <th>4</th>\n",
       "      <td>77621100.00</td>\n",
       "      <td>367468.39</td>\n",
       "    </tr>\n",
       "    <tr>\n",
       "      <th>5</th>\n",
       "      <td>77621100.00</td>\n",
       "      <td>367468.39</td>\n",
       "    </tr>\n",
       "    <tr>\n",
       "      <th>6</th>\n",
       "      <td>78729830.00</td>\n",
       "      <td>385859.83</td>\n",
       "    </tr>\n",
       "    <tr>\n",
       "      <th>8</th>\n",
       "      <td>70696990.00</td>\n",
       "      <td>388848.98</td>\n",
       "    </tr>\n",
       "    <tr>\n",
       "      <th>9</th>\n",
       "      <td>73831850.00</td>\n",
       "      <td>311549.28</td>\n",
       "    </tr>\n",
       "    <tr>\n",
       "      <th>10</th>\n",
       "      <td>72740100.00</td>\n",
       "      <td>311675.41</td>\n",
       "    </tr>\n",
       "    <tr>\n",
       "      <th>11</th>\n",
       "      <td>79717560.00</td>\n",
       "      <td>347056.66</td>\n",
       "    </tr>\n",
       "    <tr>\n",
       "      <th>12</th>\n",
       "      <td>101861530.00</td>\n",
       "      <td>313711.55</td>\n",
       "    </tr>\n",
       "    <tr>\n",
       "      <th rowspan=\"2\" valign=\"top\">2018</th>\n",
       "      <th>1</th>\n",
       "      <td>60685250.00</td>\n",
       "      <td>260233.91</td>\n",
       "    </tr>\n",
       "    <tr>\n",
       "      <th>2</th>\n",
       "      <td>62748870.00</td>\n",
       "      <td>269917.60</td>\n",
       "    </tr>\n",
       "  </tbody>\n",
       "</table>\n",
       "</div>"
      ],
      "text/plain": [
       "                  SALES  STORE_SALES\n",
       "YEAR MONTH                          \n",
       "2017 2      77621100.00    367468.39\n",
       "     3      77621100.00    367468.39\n",
       "     4      77621100.00    367468.39\n",
       "     5      77621100.00    367468.39\n",
       "     6      78729830.00    385859.83\n",
       "     8      70696990.00    388848.98\n",
       "     9      73831850.00    311549.28\n",
       "     10     72740100.00    311675.41\n",
       "     11     79717560.00    347056.66\n",
       "     12    101861530.00    313711.55\n",
       "2018 1      60685250.00    260233.91\n",
       "     2      62748870.00    269917.60"
      ]
     },
     "execution_count": 48,
     "metadata": {},
     "output_type": "execute_result"
    }
   ],
   "source": []
  },
  {
   "cell_type": "code",
   "execution_count": 17,
   "metadata": {},
   "outputs": [
    {
     "data": {
      "text/html": [
       "<div>\n",
       "<style scoped>\n",
       "    .dataframe tbody tr th:only-of-type {\n",
       "        vertical-align: middle;\n",
       "    }\n",
       "\n",
       "    .dataframe tbody tr th {\n",
       "        vertical-align: top;\n",
       "    }\n",
       "\n",
       "    .dataframe thead th {\n",
       "        text-align: right;\n",
       "    }\n",
       "</style>\n",
       "<table border=\"1\" class=\"dataframe\">\n",
       "  <thead>\n",
       "    <tr style=\"text-align: right;\">\n",
       "      <th></th>\n",
       "      <th>YEAR</th>\n",
       "      <th>MONTH</th>\n",
       "      <th>SALES</th>\n",
       "      <th>STORE_SALES</th>\n",
       "    </tr>\n",
       "  </thead>\n",
       "  <tbody>\n",
       "    <tr>\n",
       "      <th>YEAR</th>\n",
       "      <td>1.00</td>\n",
       "      <td>-0.78</td>\n",
       "      <td>-0.01</td>\n",
       "      <td>-0.01</td>\n",
       "    </tr>\n",
       "    <tr>\n",
       "      <th>MONTH</th>\n",
       "      <td>-0.78</td>\n",
       "      <td>1.00</td>\n",
       "      <td>0.03</td>\n",
       "      <td>0.01</td>\n",
       "    </tr>\n",
       "    <tr>\n",
       "      <th>SALES</th>\n",
       "      <td>-0.01</td>\n",
       "      <td>0.03</td>\n",
       "      <td>1.00</td>\n",
       "      <td>0.46</td>\n",
       "    </tr>\n",
       "    <tr>\n",
       "      <th>STORE_SALES</th>\n",
       "      <td>-0.01</td>\n",
       "      <td>0.01</td>\n",
       "      <td>0.46</td>\n",
       "      <td>1.00</td>\n",
       "    </tr>\n",
       "  </tbody>\n",
       "</table>\n",
       "</div>"
      ],
      "text/plain": [
       "             YEAR  MONTH  SALES  STORE_SALES\n",
       "YEAR         1.00  -0.78  -0.01        -0.01\n",
       "MONTH       -0.78   1.00   0.03         0.01\n",
       "SALES       -0.01   0.03   1.00         0.46\n",
       "STORE_SALES -0.01   0.01   0.46         1.00"
      ]
     },
     "execution_count": 17,
     "metadata": {},
     "output_type": "execute_result"
    }
   ],
   "source": [
    "df.corr()"
   ]
  },
  {
   "cell_type": "markdown",
   "metadata": {},
   "source": [
    "### Продажи товаров коррелируют с общей продажей магазина. В реальности мы не будем знать продажи магазина в следующем периоде. Поэтому данную переменную использовать не сможем. \n",
    "### <font color='green'>Но мы будем знать продажи магазина в предыдущих периодах.</font>"
   ]
  },
  {
   "cell_type": "code",
   "execution_count": 44,
   "metadata": {},
   "outputs": [
    {
     "name": "stdout",
     "output_type": "stream",
     "text": [
      "Убрали отрицательные продажи 128300\n",
      "Убрали пустые продажи в магазинах 78397\n"
     ]
    }
   ],
   "source": [
    "# Вопрос к заказчику - Почему отрицательные цены? Почему при наличие продаж по товару, в целом по магазину стоит 0 ? Похоже на ошибку в данных.\n",
    "df = df[df['SALES'] >= 0]\n",
    "print('Убрали отрицательные продажи', df.shape[0])\n",
    "\n",
    "df = df[df['STORE_SALES'] > 0]\n",
    "print('Убрали пустые продажи в магазинах', df.shape[0])"
   ]
  },
  {
   "cell_type": "code",
   "execution_count": 47,
   "metadata": {},
   "outputs": [
    {
     "name": "stderr",
     "output_type": "stream",
     "text": [
      "C:\\ProgramData\\Anaconda3\\lib\\site-packages\\ipykernel_launcher.py:3: SettingWithCopyWarning: \n",
      "A value is trying to be set on a copy of a slice from a DataFrame.\n",
      "Try using .loc[row_indexer,col_indexer] = value instead\n",
      "\n",
      "See the caveats in the documentation: https://pandas.pydata.org/pandas-docs/stable/user_guide/indexing.html#returning-a-view-versus-a-copy\n",
      "  This is separate from the ipykernel package so we can avoid doing imports until\n",
      "C:\\ProgramData\\Anaconda3\\lib\\site-packages\\ipykernel_launcher.py:6: SettingWithCopyWarning: \n",
      "A value is trying to be set on a copy of a slice from a DataFrame.\n",
      "Try using .loc[row_indexer,col_indexer] = value instead\n",
      "\n",
      "See the caveats in the documentation: https://pandas.pydata.org/pandas-docs/stable/user_guide/indexing.html#returning-a-view-versus-a-copy\n",
      "  \n",
      "C:\\ProgramData\\Anaconda3\\lib\\site-packages\\ipykernel_launcher.py:9: SettingWithCopyWarning: \n",
      "A value is trying to be set on a copy of a slice from a DataFrame.\n",
      "Try using .loc[row_indexer,col_indexer] = value instead\n",
      "\n",
      "See the caveats in the documentation: https://pandas.pydata.org/pandas-docs/stable/user_guide/indexing.html#returning-a-view-versus-a-copy\n",
      "  if __name__ == '__main__':\n"
     ]
    }
   ],
   "source": [
    "# дополним данными по продажам за последние 3 месяца\n",
    "df_before = df[df['MONTH'] == 5]\n",
    "df_before['MONTH'] = 4\n",
    "df = df.append(df_before)\n",
    "df_before = df[df['MONTH'] == 5]\n",
    "df_before['MONTH'] = 3\n",
    "df = df.append(df_before)\n",
    "df_before = df[df['MONTH'] == 5]\n",
    "df_before['MONTH'] = 2\n",
    "df = df.append(df_before)"
   ]
  },
  {
   "cell_type": "code",
   "execution_count": 94,
   "metadata": {},
   "outputs": [],
   "source": [
    "# сортируем по товару и периоду\n",
    "df.sort_values(by=['ARTICLE_CODE','YEAR','MONTH'], inplace=True)\n",
    "df['MONTH'] = np.where(df['YEAR'] == 2018, df['MONTH'] + 12 , df['MONTH'])\n",
    "# временный сдвиг, чтобы соблюсти последовательность\n",
    "df['MONTH'] = np.where(df['MONTH'] < 8, df['MONTH'] + 1 , df['MONTH'])"
   ]
  },
  {
   "cell_type": "code",
   "execution_count": 95,
   "metadata": {},
   "outputs": [],
   "source": [
    "# вспомогательная функция по расчёту продаж в предыдущих периодах\n",
    "def calc_prev(df_calc, COLUMNS_NAME,  n_period = 1,):\n",
    "    df_calc['PREV_' + COLUMNS_NAME + '_' + str(n_period) ] = np.where(((df_calc['ARTICLE_CODE'] == df_calc['ARTICLE_CODE'].shift(n_period))\n",
    "                             & ((df_calc['MONTH'] == (df_calc['MONTH'].shift(n_period) + n_period ))   )\n",
    "                            ), df_calc[COLUMNS_NAME].shift(n_period), 0)\n",
    "    return df_calc\n",
    "df = calc_prev(df, 'SALES', 1)\n",
    "df = calc_prev(df, 'SALES', 2)\n",
    "df = calc_prev(df, 'SALES', 3)\n",
    "df = calc_prev(df, 'STORE_SALES', 1)\n",
    "df = calc_prev(df, 'STORE_SALES', 2)\n",
    "df = calc_prev(df, 'STORE_SALES', 3)"
   ]
  },
  {
   "cell_type": "code",
   "execution_count": 96,
   "metadata": {},
   "outputs": [],
   "source": [
    "# обратный сдвиг\n",
    "df['MONTH'] = np.where(df['MONTH'] < 8, df['MONTH'] - 1 , df['MONTH'])\n",
    "df['MONTH'] = np.where(df['YEAR'] == 2018, df['MONTH'] - 12 , df['MONTH'])"
   ]
  },
  {
   "cell_type": "code",
   "execution_count": 115,
   "metadata": {},
   "outputs": [],
   "source": [
    "# убираем добавленный месяцы\n",
    "df = df[~((df['YEAR'] == 2017) & (df['MONTH'].isin([2,3,4])))]\n",
    "#.groupby(['YEAR','MONTH'])[['SALES','STORE_SALES','PREV_SALES_1','PREV_SALES_2','PREV_SALES_3','PREV_STORE_SALES_1','PREV_STORE_SALES_2','PREV_STORE_SALES_3']].sum()"
   ]
  },
  {
   "cell_type": "code",
   "execution_count": 116,
   "metadata": {},
   "outputs": [
    {
     "data": {
      "text/html": [
       "<div>\n",
       "<style scoped>\n",
       "    .dataframe tbody tr th:only-of-type {\n",
       "        vertical-align: middle;\n",
       "    }\n",
       "\n",
       "    .dataframe tbody tr th {\n",
       "        vertical-align: top;\n",
       "    }\n",
       "\n",
       "    .dataframe thead th {\n",
       "        text-align: right;\n",
       "    }\n",
       "</style>\n",
       "<table border=\"1\" class=\"dataframe\">\n",
       "  <thead>\n",
       "    <tr style=\"text-align: right;\">\n",
       "      <th></th>\n",
       "      <th></th>\n",
       "      <th>SALES</th>\n",
       "      <th>STORE_SALES</th>\n",
       "      <th>PREV_SALES_1</th>\n",
       "      <th>PREV_SALES_2</th>\n",
       "      <th>PREV_SALES_3</th>\n",
       "      <th>PREV_STORE_SALES_1</th>\n",
       "      <th>PREV_STORE_SALES_2</th>\n",
       "      <th>PREV_STORE_SALES_3</th>\n",
       "    </tr>\n",
       "    <tr>\n",
       "      <th>YEAR</th>\n",
       "      <th>MONTH</th>\n",
       "      <th></th>\n",
       "      <th></th>\n",
       "      <th></th>\n",
       "      <th></th>\n",
       "      <th></th>\n",
       "      <th></th>\n",
       "      <th></th>\n",
       "      <th></th>\n",
       "    </tr>\n",
       "  </thead>\n",
       "  <tbody>\n",
       "    <tr>\n",
       "      <th rowspan=\"7\" valign=\"top\">2017</th>\n",
       "      <th>5</th>\n",
       "      <td>77621100.00</td>\n",
       "      <td>367468.39</td>\n",
       "      <td>77621100.00</td>\n",
       "      <td>77621100.00</td>\n",
       "      <td>77621100.00</td>\n",
       "      <td>367468.39</td>\n",
       "      <td>367468.39</td>\n",
       "      <td>367468.39</td>\n",
       "    </tr>\n",
       "    <tr>\n",
       "      <th>6</th>\n",
       "      <td>78729830.00</td>\n",
       "      <td>385859.83</td>\n",
       "      <td>72755900.00</td>\n",
       "      <td>72755900.00</td>\n",
       "      <td>72755900.00</td>\n",
       "      <td>361398.37</td>\n",
       "      <td>361398.37</td>\n",
       "      <td>361398.37</td>\n",
       "    </tr>\n",
       "    <tr>\n",
       "      <th>8</th>\n",
       "      <td>70696990.00</td>\n",
       "      <td>388848.98</td>\n",
       "      <td>74453930.00</td>\n",
       "      <td>70427280.00</td>\n",
       "      <td>70427280.00</td>\n",
       "      <td>376871.27</td>\n",
       "      <td>355942.91</td>\n",
       "      <td>355942.91</td>\n",
       "    </tr>\n",
       "    <tr>\n",
       "      <th>9</th>\n",
       "      <td>73831850.00</td>\n",
       "      <td>311549.28</td>\n",
       "      <td>67032420.00</td>\n",
       "      <td>71822540.00</td>\n",
       "      <td>68573010.00</td>\n",
       "      <td>382491.70</td>\n",
       "      <td>371725.55</td>\n",
       "      <td>351394.31</td>\n",
       "    </tr>\n",
       "    <tr>\n",
       "      <th>10</th>\n",
       "      <td>72740100.00</td>\n",
       "      <td>311675.41</td>\n",
       "      <td>70045740.00</td>\n",
       "      <td>65118580.00</td>\n",
       "      <td>70087140.00</td>\n",
       "      <td>305935.86</td>\n",
       "      <td>377932.31</td>\n",
       "      <td>368363.79</td>\n",
       "    </tr>\n",
       "    <tr>\n",
       "      <th>11</th>\n",
       "      <td>79717560.00</td>\n",
       "      <td>347056.66</td>\n",
       "      <td>68136490.00</td>\n",
       "      <td>67503150.00</td>\n",
       "      <td>64090460.00</td>\n",
       "      <td>302740.09</td>\n",
       "      <td>297815.23</td>\n",
       "      <td>371938.55</td>\n",
       "    </tr>\n",
       "    <tr>\n",
       "      <th>12</th>\n",
       "      <td>101861530.00</td>\n",
       "      <td>313711.55</td>\n",
       "      <td>74367530.00</td>\n",
       "      <td>65585470.00</td>\n",
       "      <td>65456860.00</td>\n",
       "      <td>339288.99</td>\n",
       "      <td>298871.44</td>\n",
       "      <td>295030.15</td>\n",
       "    </tr>\n",
       "    <tr>\n",
       "      <th rowspan=\"2\" valign=\"top\">2018</th>\n",
       "      <th>1</th>\n",
       "      <td>60685250.00</td>\n",
       "      <td>260233.91</td>\n",
       "      <td>95900340.00</td>\n",
       "      <td>71142650.00</td>\n",
       "      <td>64128640.00</td>\n",
       "      <td>305270.00</td>\n",
       "      <td>329973.73</td>\n",
       "      <td>294924.52</td>\n",
       "    </tr>\n",
       "    <tr>\n",
       "      <th>2</th>\n",
       "      <td>62748870.00</td>\n",
       "      <td>269917.60</td>\n",
       "      <td>57933090.00</td>\n",
       "      <td>93005670.00</td>\n",
       "      <td>69743190.00</td>\n",
       "      <td>255176.92</td>\n",
       "      <td>301294.92</td>\n",
       "      <td>326286.39</td>\n",
       "    </tr>\n",
       "  </tbody>\n",
       "</table>\n",
       "</div>"
      ],
      "text/plain": [
       "                  SALES  STORE_SALES  PREV_SALES_1  PREV_SALES_2  \\\n",
       "YEAR MONTH                                                         \n",
       "2017 5      77621100.00    367468.39   77621100.00   77621100.00   \n",
       "     6      78729830.00    385859.83   72755900.00   72755900.00   \n",
       "     8      70696990.00    388848.98   74453930.00   70427280.00   \n",
       "     9      73831850.00    311549.28   67032420.00   71822540.00   \n",
       "     10     72740100.00    311675.41   70045740.00   65118580.00   \n",
       "     11     79717560.00    347056.66   68136490.00   67503150.00   \n",
       "     12    101861530.00    313711.55   74367530.00   65585470.00   \n",
       "2018 1      60685250.00    260233.91   95900340.00   71142650.00   \n",
       "     2      62748870.00    269917.60   57933090.00   93005670.00   \n",
       "\n",
       "            PREV_SALES_3  PREV_STORE_SALES_1  PREV_STORE_SALES_2  \\\n",
       "YEAR MONTH                                                         \n",
       "2017 5       77621100.00           367468.39           367468.39   \n",
       "     6       72755900.00           361398.37           361398.37   \n",
       "     8       70427280.00           376871.27           355942.91   \n",
       "     9       68573010.00           382491.70           371725.55   \n",
       "     10      70087140.00           305935.86           377932.31   \n",
       "     11      64090460.00           302740.09           297815.23   \n",
       "     12      65456860.00           339288.99           298871.44   \n",
       "2018 1       64128640.00           305270.00           329973.73   \n",
       "     2       69743190.00           255176.92           301294.92   \n",
       "\n",
       "            PREV_STORE_SALES_3  \n",
       "YEAR MONTH                      \n",
       "2017 5               367468.39  \n",
       "     6               361398.37  \n",
       "     8               355942.91  \n",
       "     9               351394.31  \n",
       "     10              368363.79  \n",
       "     11              371938.55  \n",
       "     12              295030.15  \n",
       "2018 1               294924.52  \n",
       "     2               326286.39  "
      ]
     },
     "execution_count": 116,
     "metadata": {},
     "output_type": "execute_result"
    }
   ],
   "source": [
    "df.groupby(['YEAR','MONTH'])[['SALES','STORE_SALES','PREV_SALES_1','PREV_SALES_2','PREV_SALES_3','PREV_STORE_SALES_1','PREV_STORE_SALES_2','PREV_STORE_SALES_3']].sum()"
   ]
  },
  {
   "cell_type": "code",
   "execution_count": 60,
   "metadata": {},
   "outputs": [
    {
     "data": {
      "text/html": [
       "<div>\n",
       "<style scoped>\n",
       "    .dataframe tbody tr th:only-of-type {\n",
       "        vertical-align: middle;\n",
       "    }\n",
       "\n",
       "    .dataframe tbody tr th {\n",
       "        vertical-align: top;\n",
       "    }\n",
       "\n",
       "    .dataframe thead th {\n",
       "        text-align: right;\n",
       "    }\n",
       "</style>\n",
       "<table border=\"1\" class=\"dataframe\">\n",
       "  <thead>\n",
       "    <tr style=\"text-align: right;\">\n",
       "      <th></th>\n",
       "      <th></th>\n",
       "      <th>SALES</th>\n",
       "      <th>STORE_SALES</th>\n",
       "      <th>PREV_SALES</th>\n",
       "    </tr>\n",
       "    <tr>\n",
       "      <th>YEAR</th>\n",
       "      <th>MONTH</th>\n",
       "      <th></th>\n",
       "      <th></th>\n",
       "      <th></th>\n",
       "    </tr>\n",
       "  </thead>\n",
       "  <tbody>\n",
       "    <tr>\n",
       "      <th rowspan=\"10\" valign=\"top\">2017</th>\n",
       "      <th>2</th>\n",
       "      <td>77621100.00</td>\n",
       "      <td>367468.39</td>\n",
       "      <td>0.00</td>\n",
       "    </tr>\n",
       "    <tr>\n",
       "      <th>3</th>\n",
       "      <td>77621100.00</td>\n",
       "      <td>367468.39</td>\n",
       "      <td>77621100.00</td>\n",
       "    </tr>\n",
       "    <tr>\n",
       "      <th>4</th>\n",
       "      <td>77621100.00</td>\n",
       "      <td>367468.39</td>\n",
       "      <td>77621100.00</td>\n",
       "    </tr>\n",
       "    <tr>\n",
       "      <th>5</th>\n",
       "      <td>77621100.00</td>\n",
       "      <td>367468.39</td>\n",
       "      <td>77621100.00</td>\n",
       "    </tr>\n",
       "    <tr>\n",
       "      <th>6</th>\n",
       "      <td>78729830.00</td>\n",
       "      <td>385859.83</td>\n",
       "      <td>72755900.00</td>\n",
       "    </tr>\n",
       "    <tr>\n",
       "      <th>8</th>\n",
       "      <td>70696990.00</td>\n",
       "      <td>388848.98</td>\n",
       "      <td>74453930.00</td>\n",
       "    </tr>\n",
       "    <tr>\n",
       "      <th>9</th>\n",
       "      <td>73831850.00</td>\n",
       "      <td>311549.28</td>\n",
       "      <td>67032420.00</td>\n",
       "    </tr>\n",
       "    <tr>\n",
       "      <th>10</th>\n",
       "      <td>72740100.00</td>\n",
       "      <td>311675.41</td>\n",
       "      <td>70045740.00</td>\n",
       "    </tr>\n",
       "    <tr>\n",
       "      <th>11</th>\n",
       "      <td>79717560.00</td>\n",
       "      <td>347056.66</td>\n",
       "      <td>68136490.00</td>\n",
       "    </tr>\n",
       "    <tr>\n",
       "      <th>12</th>\n",
       "      <td>101861530.00</td>\n",
       "      <td>313711.55</td>\n",
       "      <td>74367530.00</td>\n",
       "    </tr>\n",
       "    <tr>\n",
       "      <th rowspan=\"2\" valign=\"top\">2018</th>\n",
       "      <th>13</th>\n",
       "      <td>60685250.00</td>\n",
       "      <td>260233.91</td>\n",
       "      <td>95900340.00</td>\n",
       "    </tr>\n",
       "    <tr>\n",
       "      <th>14</th>\n",
       "      <td>62748870.00</td>\n",
       "      <td>269917.60</td>\n",
       "      <td>57933090.00</td>\n",
       "    </tr>\n",
       "  </tbody>\n",
       "</table>\n",
       "</div>"
      ],
      "text/plain": [
       "                  SALES  STORE_SALES  PREV_SALES\n",
       "YEAR MONTH                                      \n",
       "2017 2      77621100.00    367468.39        0.00\n",
       "     3      77621100.00    367468.39 77621100.00\n",
       "     4      77621100.00    367468.39 77621100.00\n",
       "     5      77621100.00    367468.39 77621100.00\n",
       "     6      78729830.00    385859.83 72755900.00\n",
       "     8      70696990.00    388848.98 74453930.00\n",
       "     9      73831850.00    311549.28 67032420.00\n",
       "     10     72740100.00    311675.41 70045740.00\n",
       "     11     79717560.00    347056.66 68136490.00\n",
       "     12    101861530.00    313711.55 74367530.00\n",
       "2018 13     60685250.00    260233.91 95900340.00\n",
       "     14     62748870.00    269917.60 57933090.00"
      ]
     },
     "execution_count": 60,
     "metadata": {},
     "output_type": "execute_result"
    }
   ],
   "source": [
    "df.groupby(['YEAR','MONTH'])[['SALES','STORE_SALES','PREV_SALES']].sum()"
   ]
  },
  {
   "cell_type": "markdown",
   "metadata": {},
   "source": [
    "### Визуальный анализ"
   ]
  },
  {
   "cell_type": "code",
   "execution_count": 37,
   "metadata": {},
   "outputs": [
    {
     "data": {
      "text/plain": [
       "<seaborn.axisgrid.PairGrid at 0x14aba308>"
      ]
     },
     "execution_count": 37,
     "metadata": {},
     "output_type": "execute_result"
    },
    {
     "data": {
      "image/png": "[encoded data removed]",
      "text/plain": [
       "<Figure size 720x720 with 20 Axes>"
      ]
     },
     "metadata": {
      "needs_background": "light"
     },
     "output_type": "display_data"
    }
   ],
   "source": [
    "# построим парные диаграммы зависимости вещественных признаков\n",
    "cols = df.select_dtypes(exclude=['object']).columns\n",
    "sns.pairplot(df[cols])"
   ]
  },
  {
   "cell_type": "markdown",
   "metadata": {},
   "source": [
    "### Выводы из парных графиков\n",
    "- При нулевых продажах SALES, магазин может продавать другие позиции\n",
    "- Есть сезонность продаж, по месяцам\n",
    "- нет данных по июню 7-ому месяцу, в 2017 \n"
   ]
  },
  {
   "cell_type": "code",
   "execution_count": 25,
   "metadata": {},
   "outputs": [
    {
     "data": {
      "text/plain": [
       "YEAR           2017.22\n",
       "MONTH             7.12\n",
       "ARTICLE_CODE       inf\n",
       "SALES          5533.48\n",
       "STORE_SALES       4.00\n",
       "dtype: float64"
      ]
     },
     "execution_count": 25,
     "metadata": {},
     "output_type": "execute_result"
    }
   ],
   "source": [
    "df[df['STORE_SALES'] == 4].mean()"
   ]
  },
  {
   "cell_type": "code",
   "execution_count": 39,
   "metadata": {},
   "outputs": [
    {
     "data": {
      "text/plain": [
       "Text(0.5, 1.0, 'Распределение продаж магазинов')"
      ]
     },
     "execution_count": 39,
     "metadata": {},
     "output_type": "execute_result"
    },
    {
     "data": {
      "image/png": "[encoded data removed]",
      "text/plain": [
       "<Figure size 432x288 with 1 Axes>"
      ]
     },
     "metadata": {
      "needs_background": "light"
     },
     "output_type": "display_data"
    }
   ],
   "source": [
    "sns.distplot(df[df['STORE_SALES']< 10000]['STORE_SALES'], kde=False).set_title(\"Распределение продаж магазинов\")"
   ]
  },
  {
   "cell_type": "code",
   "execution_count": 21,
   "metadata": {},
   "outputs": [
    {
     "data": {
      "text/plain": [
       "<seaborn.axisgrid.JointGrid at 0xd828bc8>"
      ]
     },
     "execution_count": 21,
     "metadata": {},
     "output_type": "execute_result"
    },
    {
     "data": {
      "image/png": "[encoded data removed]",
      "text/plain": [
       "<Figure size 432x432 with 3 Axes>"
      ]
     },
     "metadata": {
      "needs_background": "light"
     },
     "output_type": "display_data"
    }
   ],
   "source": [
    "sns.jointplot(data=df[df['YEAR'] == 2017], x=\"MONTH\", y=\"STORE_SALES\")"
   ]
  },
  {
   "cell_type": "markdown",
   "metadata": {},
   "source": [
    "### зависимость категориальных признаков "
   ]
  },
  {
   "cell_type": "code",
   "execution_count": 18,
   "metadata": {},
   "outputs": [
    {
     "data": {
      "text/plain": [
       "Text(0.5, 1.0, 'Зависимость продаж от группы')"
      ]
     },
     "execution_count": 18,
     "metadata": {},
     "output_type": "execute_result"
    },
    {
     "data": {
      "image/png": "[encoded data removed]",
      "text/plain": [
       "<Figure size 432x288 with 1 Axes>"
      ]
     },
     "metadata": {
      "needs_background": "light"
     },
     "output_type": "display_data"
    }
   ],
   "source": [
    "sns.boxplot(y='ARTICLE_GROUP', x='SALES', data=df, orient='h').set_title(\"Зависимость продаж от группы\")"
   ]
  },
  {
   "cell_type": "code",
   "execution_count": 19,
   "metadata": {},
   "outputs": [],
   "source": [
    "df.dropna(inplace=True)"
   ]
  },
  {
   "cell_type": "code",
   "execution_count": 20,
   "metadata": {},
   "outputs": [
    {
     "data": {
      "text/html": [
       "<div>\n",
       "<style scoped>\n",
       "    .dataframe tbody tr th:only-of-type {\n",
       "        vertical-align: middle;\n",
       "    }\n",
       "\n",
       "    .dataframe tbody tr th {\n",
       "        vertical-align: top;\n",
       "    }\n",
       "\n",
       "    .dataframe thead th {\n",
       "        text-align: right;\n",
       "    }\n",
       "</style>\n",
       "<table border=\"1\" class=\"dataframe\">\n",
       "  <thead>\n",
       "    <tr style=\"text-align: right;\">\n",
       "      <th></th>\n",
       "      <th>YEAR</th>\n",
       "      <th>MONTH</th>\n",
       "      <th>CONTRAGENT</th>\n",
       "      <th>ARTICLE_CODE</th>\n",
       "      <th>ARTICLE_NAME</th>\n",
       "      <th>ARTICLE_GROUP</th>\n",
       "      <th>SALES</th>\n",
       "      <th>STORE_SALES</th>\n",
       "    </tr>\n",
       "  </thead>\n",
       "  <tbody>\n",
       "    <tr>\n",
       "      <th>0</th>\n",
       "      <td>2017</td>\n",
       "      <td>4</td>\n",
       "      <td>ROYAL WINE CORP</td>\n",
       "      <td>100200</td>\n",
       "      <td>GAMLA CAB - 750ML</td>\n",
       "      <td>WINE</td>\n",
       "      <td>0.00</td>\n",
       "      <td>0.00</td>\n",
       "    </tr>\n",
       "    <tr>\n",
       "      <th>1</th>\n",
       "      <td>2017</td>\n",
       "      <td>4</td>\n",
       "      <td>SANTA MARGHERITA USA INC</td>\n",
       "      <td>100749</td>\n",
       "      <td>SANTA MARGHERITA P/GRIG ALTO - 375ML</td>\n",
       "      <td>WINE</td>\n",
       "      <td>0.00</td>\n",
       "      <td>0.00</td>\n",
       "    </tr>\n",
       "    <tr>\n",
       "      <th>2</th>\n",
       "      <td>2017</td>\n",
       "      <td>4</td>\n",
       "      <td>JIM BEAM BRANDS CO</td>\n",
       "      <td>10103</td>\n",
       "      <td>KNOB CREEK BOURBON 9YR - 100P - 375ML</td>\n",
       "      <td>LIQUOR</td>\n",
       "      <td>0.00</td>\n",
       "      <td>0.00</td>\n",
       "    </tr>\n",
       "  </tbody>\n",
       "</table>\n",
       "</div>"
      ],
      "text/plain": [
       "   YEAR  MONTH                CONTRAGENT ARTICLE_CODE  \\\n",
       "0  2017      4           ROYAL WINE CORP       100200   \n",
       "1  2017      4  SANTA MARGHERITA USA INC       100749   \n",
       "2  2017      4        JIM BEAM BRANDS CO        10103   \n",
       "\n",
       "                            ARTICLE_NAME ARTICLE_GROUP  SALES  STORE_SALES  \n",
       "0                      GAMLA CAB - 750ML          WINE   0.00         0.00  \n",
       "1   SANTA MARGHERITA P/GRIG ALTO - 375ML          WINE   0.00         0.00  \n",
       "2  KNOB CREEK BOURBON 9YR - 100P - 375ML        LIQUOR   0.00         0.00  "
      ]
     },
     "execution_count": 20,
     "metadata": {},
     "output_type": "execute_result"
    }
   ],
   "source": [
    "df.head(3)"
   ]
  },
  {
   "cell_type": "code",
   "execution_count": 100,
   "metadata": {},
   "outputs": [],
   "source": [
    "# Переводим категориальные признаки ARTICLE_GROUP Группа товаров и CONTRAGENT контрагент в бинарные признаки. 1 да, 0 нет.\n",
    "onehot_df = pd.get_dummies(df[['ARTICLE_GROUP']])\n",
    "df = pd.concat([df,onehot_df], axis = 1)"
   ]
  },
  {
   "cell_type": "code",
   "execution_count": 101,
   "metadata": {},
   "outputs": [
    {
     "data": {
      "text/html": [
       "<div>\n",
       "<style scoped>\n",
       "    .dataframe tbody tr th:only-of-type {\n",
       "        vertical-align: middle;\n",
       "    }\n",
       "\n",
       "    .dataframe tbody tr th {\n",
       "        vertical-align: top;\n",
       "    }\n",
       "\n",
       "    .dataframe thead th {\n",
       "        text-align: right;\n",
       "    }\n",
       "</style>\n",
       "<table border=\"1\" class=\"dataframe\">\n",
       "  <thead>\n",
       "    <tr style=\"text-align: right;\">\n",
       "      <th></th>\n",
       "      <th>YEAR</th>\n",
       "      <th>MONTH</th>\n",
       "      <th>CONTRAGENT</th>\n",
       "      <th>ARTICLE_CODE</th>\n",
       "      <th>ARTICLE_NAME</th>\n",
       "      <th>ARTICLE_GROUP</th>\n",
       "      <th>SALES</th>\n",
       "      <th>STORE_SALES</th>\n",
       "      <th>PREV_SALES</th>\n",
       "      <th>PREV_SALES_1</th>\n",
       "      <th>PREV_SALES_2</th>\n",
       "      <th>PREV_SALES_3</th>\n",
       "      <th>PREV_STORE_SALES_1</th>\n",
       "      <th>PREV_STORE_SALES_2</th>\n",
       "      <th>PREV_STORE_SALES_3</th>\n",
       "      <th>ARTICLE_GROUP_BEER</th>\n",
       "      <th>ARTICLE_GROUP_KEGS</th>\n",
       "      <th>ARTICLE_GROUP_LIQUOR</th>\n",
       "      <th>ARTICLE_GROUP_NON-ALCOHOL</th>\n",
       "      <th>ARTICLE_GROUP_WINE</th>\n",
       "    </tr>\n",
       "  </thead>\n",
       "  <tbody>\n",
       "    <tr>\n",
       "      <th>5202</th>\n",
       "      <td>2017</td>\n",
       "      <td>2</td>\n",
       "      <td>CONSTANTINE WINES INC</td>\n",
       "      <td>100003</td>\n",
       "      <td>LA CETTO ZINFANDEL - 750ML</td>\n",
       "      <td>WINE</td>\n",
       "      <td>0.00</td>\n",
       "      <td>1.00</td>\n",
       "      <td>0.00</td>\n",
       "      <td>0.00</td>\n",
       "      <td>0.00</td>\n",
       "      <td>0.00</td>\n",
       "      <td>0.00</td>\n",
       "      <td>0.00</td>\n",
       "      <td>0.00</td>\n",
       "      <td>0</td>\n",
       "      <td>0</td>\n",
       "      <td>0</td>\n",
       "      <td>0</td>\n",
       "      <td>1</td>\n",
       "    </tr>\n",
       "    <tr>\n",
       "      <th>5202</th>\n",
       "      <td>2017</td>\n",
       "      <td>3</td>\n",
       "      <td>CONSTANTINE WINES INC</td>\n",
       "      <td>100003</td>\n",
       "      <td>LA CETTO ZINFANDEL - 750ML</td>\n",
       "      <td>WINE</td>\n",
       "      <td>0.00</td>\n",
       "      <td>1.00</td>\n",
       "      <td>0.00</td>\n",
       "      <td>0.00</td>\n",
       "      <td>0.00</td>\n",
       "      <td>0.00</td>\n",
       "      <td>1.00</td>\n",
       "      <td>0.00</td>\n",
       "      <td>0.00</td>\n",
       "      <td>0</td>\n",
       "      <td>0</td>\n",
       "      <td>0</td>\n",
       "      <td>0</td>\n",
       "      <td>1</td>\n",
       "    </tr>\n",
       "  </tbody>\n",
       "</table>\n",
       "</div>"
      ],
      "text/plain": [
       "      YEAR  MONTH             CONTRAGENT ARTICLE_CODE  \\\n",
       "5202  2017      2  CONSTANTINE WINES INC       100003   \n",
       "5202  2017      3  CONSTANTINE WINES INC       100003   \n",
       "\n",
       "                    ARTICLE_NAME ARTICLE_GROUP  SALES  STORE_SALES  \\\n",
       "5202  LA CETTO ZINFANDEL - 750ML          WINE   0.00         1.00   \n",
       "5202  LA CETTO ZINFANDEL - 750ML          WINE   0.00         1.00   \n",
       "\n",
       "      PREV_SALES  PREV_SALES_1  PREV_SALES_2  PREV_SALES_3  \\\n",
       "5202        0.00          0.00          0.00          0.00   \n",
       "5202        0.00          0.00          0.00          0.00   \n",
       "\n",
       "      PREV_STORE_SALES_1  PREV_STORE_SALES_2  PREV_STORE_SALES_3  \\\n",
       "5202                0.00                0.00                0.00   \n",
       "5202                1.00                0.00                0.00   \n",
       "\n",
       "      ARTICLE_GROUP_BEER  ARTICLE_GROUP_KEGS  ARTICLE_GROUP_LIQUOR  \\\n",
       "5202                   0                   0                     0   \n",
       "5202                   0                   0                     0   \n",
       "\n",
       "      ARTICLE_GROUP_NON-ALCOHOL  ARTICLE_GROUP_WINE  \n",
       "5202                          0                   1  \n",
       "5202                          0                   1  "
      ]
     },
     "execution_count": 101,
     "metadata": {},
     "output_type": "execute_result"
    }
   ],
   "source": [
    "df.head(2)"
   ]
  },
  {
   "cell_type": "code",
   "execution_count": 102,
   "metadata": {},
   "outputs": [],
   "source": [
    "# Переводим признак кода товара (или наименование товара в вещественный признак, привязанный к средней цене товара)\n",
    "# Если заполнять признаковую матрицу для каждого товара, то получается слишком большая матрица. Возможное решение - закодировать средней ценой товара. Новый признак будет упорядочивать товары по дороговизне \n",
    "df['ARTICLE_CODE_digitized'] = code_mean(df, 'ARTICLE_CODE' , 'SALES')\n",
    "df['CONTRAGENT_digitized'] = code_mean(df, 'CONTRAGENT', 'SALES')"
   ]
  },
  {
   "cell_type": "code",
   "execution_count": 104,
   "metadata": {},
   "outputs": [],
   "source": [
    "#df.drop(columns=['PREV_SALES'],inplace = True)"
   ]
  },
  {
   "cell_type": "code",
   "execution_count": 117,
   "metadata": {},
   "outputs": [
    {
     "name": "stdout",
     "output_type": "stream",
     "text": [
      "<class 'pandas.core.frame.DataFrame'>\n",
      "Int64Index: 78397 entries, 5202 to 45870\n",
      "Data columns (total 21 columns):\n",
      " #   Column                     Non-Null Count  Dtype  \n",
      "---  ------                     --------------  -----  \n",
      " 0   YEAR                       78397 non-null  int64  \n",
      " 1   MONTH                      78397 non-null  int64  \n",
      " 2   CONTRAGENT                 78397 non-null  object \n",
      " 3   ARTICLE_CODE               78397 non-null  object \n",
      " 4   ARTICLE_NAME               78397 non-null  object \n",
      " 5   ARTICLE_GROUP              78396 non-null  object \n",
      " 6   SALES                      78397 non-null  float64\n",
      " 7   STORE_SALES                78397 non-null  float64\n",
      " 8   PREV_SALES_1               78397 non-null  float64\n",
      " 9   PREV_SALES_2               78397 non-null  float64\n",
      " 10  PREV_SALES_3               78397 non-null  float64\n",
      " 11  PREV_STORE_SALES_1         78397 non-null  float64\n",
      " 12  PREV_STORE_SALES_2         78397 non-null  float64\n",
      " 13  PREV_STORE_SALES_3         78397 non-null  float64\n",
      " 14  ARTICLE_GROUP_BEER         78397 non-null  uint8  \n",
      " 15  ARTICLE_GROUP_KEGS         78397 non-null  uint8  \n",
      " 16  ARTICLE_GROUP_LIQUOR       78397 non-null  uint8  \n",
      " 17  ARTICLE_GROUP_NON-ALCOHOL  78397 non-null  uint8  \n",
      " 18  ARTICLE_GROUP_WINE         78397 non-null  uint8  \n",
      " 19  ARTICLE_CODE_digitized     78397 non-null  float64\n",
      " 20  CONTRAGENT_digitized       78397 non-null  float64\n",
      "dtypes: float64(10), int64(2), object(4), uint8(5)\n",
      "memory usage: 10.5+ MB\n"
     ]
    }
   ],
   "source": [
    "df.info()"
   ]
  },
  {
   "cell_type": "code",
   "execution_count": 118,
   "metadata": {},
   "outputs": [
    {
     "name": "stdout",
     "output_type": "stream",
     "text": [
      "<class 'pandas.core.frame.DataFrame'>\n",
      "Int64Index: 78397 entries, 5202 to 45870\n",
      "Data columns (total 17 columns):\n",
      " #   Column                     Non-Null Count  Dtype  \n",
      "---  ------                     --------------  -----  \n",
      " 0   YEAR                       78397 non-null  int64  \n",
      " 1   MONTH                      78397 non-null  int64  \n",
      " 2   SALES                      78397 non-null  float64\n",
      " 3   STORE_SALES                78397 non-null  float64\n",
      " 4   PREV_SALES_1               78397 non-null  float64\n",
      " 5   PREV_SALES_2               78397 non-null  float64\n",
      " 6   PREV_SALES_3               78397 non-null  float64\n",
      " 7   PREV_STORE_SALES_1         78397 non-null  float64\n",
      " 8   PREV_STORE_SALES_2         78397 non-null  float64\n",
      " 9   PREV_STORE_SALES_3         78397 non-null  float64\n",
      " 10  ARTICLE_GROUP_BEER         78397 non-null  uint8  \n",
      " 11  ARTICLE_GROUP_KEGS         78397 non-null  uint8  \n",
      " 12  ARTICLE_GROUP_LIQUOR       78397 non-null  uint8  \n",
      " 13  ARTICLE_GROUP_NON-ALCOHOL  78397 non-null  uint8  \n",
      " 14  ARTICLE_GROUP_WINE         78397 non-null  uint8  \n",
      " 15  ARTICLE_CODE_digitized     78397 non-null  float64\n",
      " 16  CONTRAGENT_digitized       78397 non-null  float64\n",
      "dtypes: float64(10), int64(2), uint8(5)\n",
      "memory usage: 8.1 MB\n"
     ]
    }
   ],
   "source": [
    "# Берём все колонки, кроме object (текстовых категориальных признаков)\n",
    "df_sales = df.select_dtypes(exclude=['object'])\n",
    "df_sales.info()"
   ]
  },
  {
   "cell_type": "code",
   "execution_count": 119,
   "metadata": {
    "scrolled": true
   },
   "outputs": [
    {
     "data": {
      "text/html": [
       "<div>\n",
       "<style scoped>\n",
       "    .dataframe tbody tr th:only-of-type {\n",
       "        vertical-align: middle;\n",
       "    }\n",
       "\n",
       "    .dataframe tbody tr th {\n",
       "        vertical-align: top;\n",
       "    }\n",
       "\n",
       "    .dataframe thead th {\n",
       "        text-align: right;\n",
       "    }\n",
       "</style>\n",
       "<table border=\"1\" class=\"dataframe\">\n",
       "  <thead>\n",
       "    <tr style=\"text-align: right;\">\n",
       "      <th></th>\n",
       "      <th>YEAR</th>\n",
       "      <th>MONTH</th>\n",
       "      <th>SALES</th>\n",
       "      <th>STORE_SALES</th>\n",
       "      <th>PREV_SALES_1</th>\n",
       "      <th>PREV_SALES_2</th>\n",
       "      <th>PREV_SALES_3</th>\n",
       "      <th>PREV_STORE_SALES_1</th>\n",
       "      <th>PREV_STORE_SALES_2</th>\n",
       "      <th>PREV_STORE_SALES_3</th>\n",
       "      <th>ARTICLE_GROUP_BEER</th>\n",
       "      <th>ARTICLE_GROUP_KEGS</th>\n",
       "      <th>ARTICLE_GROUP_LIQUOR</th>\n",
       "      <th>ARTICLE_GROUP_NON-ALCOHOL</th>\n",
       "      <th>ARTICLE_GROUP_WINE</th>\n",
       "      <th>ARTICLE_CODE_digitized</th>\n",
       "      <th>CONTRAGENT_digitized</th>\n",
       "    </tr>\n",
       "  </thead>\n",
       "  <tbody>\n",
       "    <tr>\n",
       "      <th>5202</th>\n",
       "      <td>2017</td>\n",
       "      <td>5</td>\n",
       "      <td>0.00</td>\n",
       "      <td>1.00</td>\n",
       "      <td>0.00</td>\n",
       "      <td>0.00</td>\n",
       "      <td>0.00</td>\n",
       "      <td>1.00</td>\n",
       "      <td>1.00</td>\n",
       "      <td>1.00</td>\n",
       "      <td>0</td>\n",
       "      <td>0</td>\n",
       "      <td>0</td>\n",
       "      <td>0</td>\n",
       "      <td>1</td>\n",
       "      <td>0.00</td>\n",
       "      <td>1203.02</td>\n",
       "    </tr>\n",
       "    <tr>\n",
       "      <th>5203</th>\n",
       "      <td>2017</td>\n",
       "      <td>5</td>\n",
       "      <td>0.00</td>\n",
       "      <td>1.00</td>\n",
       "      <td>0.00</td>\n",
       "      <td>0.00</td>\n",
       "      <td>0.00</td>\n",
       "      <td>1.00</td>\n",
       "      <td>1.00</td>\n",
       "      <td>1.00</td>\n",
       "      <td>0</td>\n",
       "      <td>0</td>\n",
       "      <td>0</td>\n",
       "      <td>0</td>\n",
       "      <td>1</td>\n",
       "      <td>0.00</td>\n",
       "      <td>1203.02</td>\n",
       "    </tr>\n",
       "    <tr>\n",
       "      <th>59261</th>\n",
       "      <td>2017</td>\n",
       "      <td>10</td>\n",
       "      <td>0.00</td>\n",
       "      <td>1.00</td>\n",
       "      <td>0.00</td>\n",
       "      <td>0.00</td>\n",
       "      <td>0.00</td>\n",
       "      <td>0.00</td>\n",
       "      <td>0.00</td>\n",
       "      <td>0.00</td>\n",
       "      <td>0</td>\n",
       "      <td>0</td>\n",
       "      <td>0</td>\n",
       "      <td>0</td>\n",
       "      <td>1</td>\n",
       "      <td>0.00</td>\n",
       "      <td>1203.02</td>\n",
       "    </tr>\n",
       "    <tr>\n",
       "      <th>72880</th>\n",
       "      <td>2017</td>\n",
       "      <td>11</td>\n",
       "      <td>0.00</td>\n",
       "      <td>1.00</td>\n",
       "      <td>0.00</td>\n",
       "      <td>0.00</td>\n",
       "      <td>0.00</td>\n",
       "      <td>0.00</td>\n",
       "      <td>0.00</td>\n",
       "      <td>0.00</td>\n",
       "      <td>0</td>\n",
       "      <td>0</td>\n",
       "      <td>0</td>\n",
       "      <td>0</td>\n",
       "      <td>1</td>\n",
       "      <td>0.00</td>\n",
       "      <td>1628.06</td>\n",
       "    </tr>\n",
       "    <tr>\n",
       "      <th>87412</th>\n",
       "      <td>2017</td>\n",
       "      <td>12</td>\n",
       "      <td>0.00</td>\n",
       "      <td>1.00</td>\n",
       "      <td>0.00</td>\n",
       "      <td>0.00</td>\n",
       "      <td>0.00</td>\n",
       "      <td>1.00</td>\n",
       "      <td>0.00</td>\n",
       "      <td>0.00</td>\n",
       "      <td>0</td>\n",
       "      <td>0</td>\n",
       "      <td>0</td>\n",
       "      <td>0</td>\n",
       "      <td>1</td>\n",
       "      <td>0.00</td>\n",
       "      <td>1628.06</td>\n",
       "    </tr>\n",
       "  </tbody>\n",
       "</table>\n",
       "</div>"
      ],
      "text/plain": [
       "       YEAR  MONTH  SALES  STORE_SALES  PREV_SALES_1  PREV_SALES_2  \\\n",
       "5202   2017      5   0.00         1.00          0.00          0.00   \n",
       "5203   2017      5   0.00         1.00          0.00          0.00   \n",
       "59261  2017     10   0.00         1.00          0.00          0.00   \n",
       "72880  2017     11   0.00         1.00          0.00          0.00   \n",
       "87412  2017     12   0.00         1.00          0.00          0.00   \n",
       "\n",
       "       PREV_SALES_3  PREV_STORE_SALES_1  PREV_STORE_SALES_2  \\\n",
       "5202           0.00                1.00                1.00   \n",
       "5203           0.00                1.00                1.00   \n",
       "59261          0.00                0.00                0.00   \n",
       "72880          0.00                0.00                0.00   \n",
       "87412          0.00                1.00                0.00   \n",
       "\n",
       "       PREV_STORE_SALES_3  ARTICLE_GROUP_BEER  ARTICLE_GROUP_KEGS  \\\n",
       "5202                 1.00                   0                   0   \n",
       "5203                 1.00                   0                   0   \n",
       "59261                0.00                   0                   0   \n",
       "72880                0.00                   0                   0   \n",
       "87412                0.00                   0                   0   \n",
       "\n",
       "       ARTICLE_GROUP_LIQUOR  ARTICLE_GROUP_NON-ALCOHOL  ARTICLE_GROUP_WINE  \\\n",
       "5202                      0                          0                   1   \n",
       "5203                      0                          0                   1   \n",
       "59261                     0                          0                   1   \n",
       "72880                     0                          0                   1   \n",
       "87412                     0                          0                   1   \n",
       "\n",
       "       ARTICLE_CODE_digitized  CONTRAGENT_digitized  \n",
       "5202                     0.00               1203.02  \n",
       "5203                     0.00               1203.02  \n",
       "59261                    0.00               1203.02  \n",
       "72880                    0.00               1628.06  \n",
       "87412                    0.00               1628.06  "
      ]
     },
     "execution_count": 119,
     "metadata": {},
     "output_type": "execute_result"
    }
   ],
   "source": [
    "#df_sales['PERIOD_SORT'] = (df_sales['YEAR'].sub(2016).mul(100) + df_sales['MONTH']) \n",
    "df_sales.head()"
   ]
  },
  {
   "cell_type": "code",
   "execution_count": 120,
   "metadata": {},
   "outputs": [
    {
     "data": {
      "text/html": [
       "<div>\n",
       "<style scoped>\n",
       "    .dataframe tbody tr th:only-of-type {\n",
       "        vertical-align: middle;\n",
       "    }\n",
       "\n",
       "    .dataframe tbody tr th {\n",
       "        vertical-align: top;\n",
       "    }\n",
       "\n",
       "    .dataframe thead th {\n",
       "        text-align: right;\n",
       "    }\n",
       "</style>\n",
       "<table border=\"1\" class=\"dataframe\">\n",
       "  <thead>\n",
       "    <tr style=\"text-align: right;\">\n",
       "      <th></th>\n",
       "      <th>YEAR</th>\n",
       "      <th>MONTH</th>\n",
       "      <th>SALES</th>\n",
       "      <th>STORE_SALES</th>\n",
       "    </tr>\n",
       "  </thead>\n",
       "  <tbody>\n",
       "    <tr>\n",
       "      <th>0</th>\n",
       "      <td>2017</td>\n",
       "      <td>5</td>\n",
       "      <td>77621100.00</td>\n",
       "      <td>367468.39</td>\n",
       "    </tr>\n",
       "    <tr>\n",
       "      <th>1</th>\n",
       "      <td>2017</td>\n",
       "      <td>6</td>\n",
       "      <td>78729830.00</td>\n",
       "      <td>385859.83</td>\n",
       "    </tr>\n",
       "    <tr>\n",
       "      <th>2</th>\n",
       "      <td>2017</td>\n",
       "      <td>8</td>\n",
       "      <td>70696990.00</td>\n",
       "      <td>388848.98</td>\n",
       "    </tr>\n",
       "    <tr>\n",
       "      <th>3</th>\n",
       "      <td>2017</td>\n",
       "      <td>9</td>\n",
       "      <td>73831850.00</td>\n",
       "      <td>311549.28</td>\n",
       "    </tr>\n",
       "    <tr>\n",
       "      <th>4</th>\n",
       "      <td>2017</td>\n",
       "      <td>10</td>\n",
       "      <td>72740100.00</td>\n",
       "      <td>311675.41</td>\n",
       "    </tr>\n",
       "    <tr>\n",
       "      <th>5</th>\n",
       "      <td>2017</td>\n",
       "      <td>11</td>\n",
       "      <td>79717560.00</td>\n",
       "      <td>347056.66</td>\n",
       "    </tr>\n",
       "    <tr>\n",
       "      <th>6</th>\n",
       "      <td>2017</td>\n",
       "      <td>12</td>\n",
       "      <td>101861530.00</td>\n",
       "      <td>313711.55</td>\n",
       "    </tr>\n",
       "    <tr>\n",
       "      <th>7</th>\n",
       "      <td>2018</td>\n",
       "      <td>1</td>\n",
       "      <td>60685250.00</td>\n",
       "      <td>260233.91</td>\n",
       "    </tr>\n",
       "    <tr>\n",
       "      <th>8</th>\n",
       "      <td>2018</td>\n",
       "      <td>2</td>\n",
       "      <td>62748870.00</td>\n",
       "      <td>269917.60</td>\n",
       "    </tr>\n",
       "  </tbody>\n",
       "</table>\n",
       "</div>"
      ],
      "text/plain": [
       "   YEAR  MONTH        SALES  STORE_SALES\n",
       "0  2017      5  77621100.00    367468.39\n",
       "1  2017      6  78729830.00    385859.83\n",
       "2  2017      8  70696990.00    388848.98\n",
       "3  2017      9  73831850.00    311549.28\n",
       "4  2017     10  72740100.00    311675.41\n",
       "5  2017     11  79717560.00    347056.66\n",
       "6  2017     12 101861530.00    313711.55\n",
       "7  2018      1  60685250.00    260233.91\n",
       "8  2018      2  62748870.00    269917.60"
      ]
     },
     "execution_count": 120,
     "metadata": {},
     "output_type": "execute_result"
    }
   ],
   "source": [
    "df_sales.groupby(['YEAR','MONTH'])[['SALES','STORE_SALES']].sum().reset_index()"
   ]
  },
  {
   "cell_type": "code",
   "execution_count": 121,
   "metadata": {},
   "outputs": [],
   "source": [
    "def train_test_split_manual(X, target, columns_sort, values_sort):\n",
    "    X_test = X[X[columns_sort[0]].isin(values_sort[0])][X[columns_sort[1]].isin(values_sort[1])]\n",
    "    y_test = X_test[[target]] \n",
    "    X_test.drop(columns=[target], inplace=True)\n",
    "    \n",
    "    X_train = X[~X[columns_sort[1]].isin(values_sort[1])]\n",
    "    y_train = X_train[[target]]\n",
    "    X_train.drop(columns=[target], inplace=True)\n",
    "    return  X_train, X_test, y_train, y_test"
   ]
  },
  {
   "cell_type": "code",
   "execution_count": 122,
   "metadata": {},
   "outputs": [
    {
     "name": "stderr",
     "output_type": "stream",
     "text": [
      "C:\\ProgramData\\Anaconda3\\lib\\site-packages\\ipykernel_launcher.py:2: UserWarning: Boolean Series key will be reindexed to match DataFrame index.\n",
      "  \n",
      "C:\\ProgramData\\Anaconda3\\lib\\site-packages\\pandas\\core\\frame.py:3997: SettingWithCopyWarning: \n",
      "A value is trying to be set on a copy of a slice from a DataFrame\n",
      "\n",
      "See the caveats in the documentation: https://pandas.pydata.org/pandas-docs/stable/user_guide/indexing.html#returning-a-view-versus-a-copy\n",
      "  errors=errors,\n"
     ]
    }
   ],
   "source": [
    "# Разделение выборки на train и test с сортировкой по дате\n",
    "# 'STORE_SALES',\n",
    "X_train, X_test, y_train, y_test = train_test_split_manual(df_sales.drop(columns=['STORE_SALES'], axis=1), 'SALES', ['YEAR','MONTH'], [[2018],[2]])"
   ]
  },
  {
   "cell_type": "code",
   "execution_count": 123,
   "metadata": {},
   "outputs": [
    {
     "data": {
      "text/plain": [
       "Index(['YEAR', 'MONTH', 'PREV_SALES_1', 'PREV_SALES_2', 'PREV_SALES_3',\n",
       "       'PREV_STORE_SALES_1', 'PREV_STORE_SALES_2', 'PREV_STORE_SALES_3',\n",
       "       'ARTICLE_GROUP_BEER', 'ARTICLE_GROUP_KEGS', 'ARTICLE_GROUP_LIQUOR',\n",
       "       'ARTICLE_GROUP_NON-ALCOHOL', 'ARTICLE_GROUP_WINE',\n",
       "       'ARTICLE_CODE_digitized', 'CONTRAGENT_digitized'],\n",
       "      dtype='object')"
      ]
     },
     "execution_count": 123,
     "metadata": {},
     "output_type": "execute_result"
    }
   ],
   "source": [
    "X_train.columns"
   ]
  },
  {
   "cell_type": "code",
   "execution_count": 124,
   "metadata": {},
   "outputs": [
    {
     "data": {
      "text/html": [
       "<div>\n",
       "<style scoped>\n",
       "    .dataframe tbody tr th:only-of-type {\n",
       "        vertical-align: middle;\n",
       "    }\n",
       "\n",
       "    .dataframe tbody tr th {\n",
       "        vertical-align: top;\n",
       "    }\n",
       "\n",
       "    .dataframe thead th {\n",
       "        text-align: right;\n",
       "    }\n",
       "</style>\n",
       "<table border=\"1\" class=\"dataframe\">\n",
       "  <thead>\n",
       "    <tr style=\"text-align: right;\">\n",
       "      <th></th>\n",
       "      <th>YEAR</th>\n",
       "      <th>MONTH</th>\n",
       "      <th>PREV_SALES_1</th>\n",
       "      <th>PREV_SALES_2</th>\n",
       "      <th>PREV_SALES_3</th>\n",
       "      <th>PREV_STORE_SALES_1</th>\n",
       "      <th>PREV_STORE_SALES_2</th>\n",
       "      <th>PREV_STORE_SALES_3</th>\n",
       "      <th>ARTICLE_CODE_digitized</th>\n",
       "      <th>CONTRAGENT_digitized</th>\n",
       "    </tr>\n",
       "  </thead>\n",
       "  <tbody>\n",
       "    <tr>\n",
       "      <th>count</th>\n",
       "      <td>70065.00</td>\n",
       "      <td>70065.00</td>\n",
       "      <td>70065.00</td>\n",
       "      <td>70065.00</td>\n",
       "      <td>70065.00</td>\n",
       "      <td>70065.00</td>\n",
       "      <td>70065.00</td>\n",
       "      <td>70065.00</td>\n",
       "      <td>70065.00</td>\n",
       "      <td>70065.00</td>\n",
       "    </tr>\n",
       "    <tr>\n",
       "      <th>mean</th>\n",
       "      <td>2017.12</td>\n",
       "      <td>7.83</td>\n",
       "      <td>8567.95</td>\n",
       "      <td>8020.79</td>\n",
       "      <td>7894.67</td>\n",
       "      <td>39.13</td>\n",
       "      <td>39.41</td>\n",
       "      <td>39.48</td>\n",
       "      <td>8685.32</td>\n",
       "      <td>8761.17</td>\n",
       "    </tr>\n",
       "    <tr>\n",
       "      <th>std</th>\n",
       "      <td>0.32</td>\n",
       "      <td>3.36</td>\n",
       "      <td>37061.31</td>\n",
       "      <td>35356.25</td>\n",
       "      <td>35482.50</td>\n",
       "      <td>322.45</td>\n",
       "      <td>330.15</td>\n",
       "      <td>335.46</td>\n",
       "      <td>34638.89</td>\n",
       "      <td>14794.49</td>\n",
       "    </tr>\n",
       "    <tr>\n",
       "      <th>min</th>\n",
       "      <td>2017.00</td>\n",
       "      <td>1.00</td>\n",
       "      <td>0.00</td>\n",
       "      <td>0.00</td>\n",
       "      <td>0.00</td>\n",
       "      <td>0.00</td>\n",
       "      <td>0.00</td>\n",
       "      <td>0.00</td>\n",
       "      <td>0.00</td>\n",
       "      <td>0.00</td>\n",
       "    </tr>\n",
       "    <tr>\n",
       "      <th>25%</th>\n",
       "      <td>2017.00</td>\n",
       "      <td>6.00</td>\n",
       "      <td>0.00</td>\n",
       "      <td>0.00</td>\n",
       "      <td>0.00</td>\n",
       "      <td>0.00</td>\n",
       "      <td>0.00</td>\n",
       "      <td>0.00</td>\n",
       "      <td>0.00</td>\n",
       "      <td>544.67</td>\n",
       "    </tr>\n",
       "    <tr>\n",
       "      <th>50%</th>\n",
       "      <td>2017.00</td>\n",
       "      <td>9.00</td>\n",
       "      <td>0.00</td>\n",
       "      <td>0.00</td>\n",
       "      <td>0.00</td>\n",
       "      <td>2.00</td>\n",
       "      <td>2.00</td>\n",
       "      <td>2.00</td>\n",
       "      <td>80.00</td>\n",
       "      <td>1628.06</td>\n",
       "    </tr>\n",
       "    <tr>\n",
       "      <th>75%</th>\n",
       "      <td>2017.00</td>\n",
       "      <td>11.00</td>\n",
       "      <td>4050.00</td>\n",
       "      <td>3320.00</td>\n",
       "      <td>2820.00</td>\n",
       "      <td>9.00</td>\n",
       "      <td>9.00</td>\n",
       "      <td>8.00</td>\n",
       "      <td>5175.00</td>\n",
       "      <td>16891.49</td>\n",
       "    </tr>\n",
       "    <tr>\n",
       "      <th>max</th>\n",
       "      <td>2018.00</td>\n",
       "      <td>12.00</td>\n",
       "      <td>1616600.00</td>\n",
       "      <td>1249000.00</td>\n",
       "      <td>1249000.00</td>\n",
       "      <td>16271.75</td>\n",
       "      <td>16271.75</td>\n",
       "      <td>16271.75</td>\n",
       "      <td>985250.00</td>\n",
       "      <td>365882.56</td>\n",
       "    </tr>\n",
       "  </tbody>\n",
       "</table>\n",
       "</div>"
      ],
      "text/plain": [
       "          YEAR    MONTH  PREV_SALES_1  PREV_SALES_2  PREV_SALES_3  \\\n",
       "count 70065.00 70065.00      70065.00      70065.00      70065.00   \n",
       "mean   2017.12     7.83       8567.95       8020.79       7894.67   \n",
       "std       0.32     3.36      37061.31      35356.25      35482.50   \n",
       "min    2017.00     1.00          0.00          0.00          0.00   \n",
       "25%    2017.00     6.00          0.00          0.00          0.00   \n",
       "50%    2017.00     9.00          0.00          0.00          0.00   \n",
       "75%    2017.00    11.00       4050.00       3320.00       2820.00   \n",
       "max    2018.00    12.00    1616600.00    1249000.00    1249000.00   \n",
       "\n",
       "       PREV_STORE_SALES_1  PREV_STORE_SALES_2  PREV_STORE_SALES_3  \\\n",
       "count            70065.00            70065.00            70065.00   \n",
       "mean                39.13               39.41               39.48   \n",
       "std                322.45              330.15              335.46   \n",
       "min                  0.00                0.00                0.00   \n",
       "25%                  0.00                0.00                0.00   \n",
       "50%                  2.00                2.00                2.00   \n",
       "75%                  9.00                9.00                8.00   \n",
       "max              16271.75            16271.75            16271.75   \n",
       "\n",
       "       ARTICLE_CODE_digitized  CONTRAGENT_digitized  \n",
       "count                70065.00              70065.00  \n",
       "mean                  8685.32               8761.17  \n",
       "std                  34638.89              14794.49  \n",
       "min                      0.00                  0.00  \n",
       "25%                      0.00                544.67  \n",
       "50%                     80.00               1628.06  \n",
       "75%                   5175.00              16891.49  \n",
       "max                 985250.00             365882.56  "
      ]
     },
     "execution_count": 124,
     "metadata": {},
     "output_type": "execute_result"
    }
   ],
   "source": [
    "X_train.describe(include=['int64','float64','object'])"
   ]
  },
  {
   "cell_type": "code",
   "execution_count": 125,
   "metadata": {},
   "outputs": [
    {
     "data": {
      "text/plain": [
       "YEAR  MONTH\n",
       "2018  2        8332\n",
       "Name: ARTICLE_GROUP_BEER, dtype: int64"
      ]
     },
     "execution_count": 125,
     "metadata": {},
     "output_type": "execute_result"
    }
   ],
   "source": [
    "X_test.groupby(['YEAR','MONTH'])['ARTICLE_GROUP_BEER'].count()"
   ]
  },
  {
   "cell_type": "code",
   "execution_count": 126,
   "metadata": {},
   "outputs": [
    {
     "name": "stdout",
     "output_type": "stream",
     "text": [
      "<class 'pandas.core.frame.DataFrame'>\n",
      "Int64Index: 8332 entries, 115256 to 128352\n",
      "Data columns (total 1 columns):\n",
      " #   Column  Non-Null Count  Dtype  \n",
      "---  ------  --------------  -----  \n",
      " 0   SALES   8332 non-null   float64\n",
      "dtypes: float64(1)\n",
      "memory usage: 130.2 KB\n"
     ]
    }
   ],
   "source": [
    "y_test.info()"
   ]
  },
  {
   "cell_type": "code",
   "execution_count": 127,
   "metadata": {},
   "outputs": [
    {
     "data": {
      "text/plain": [
       "LinearRegression(copy_X=True, fit_intercept=True, n_jobs=None, normalize=False)"
      ]
     },
     "execution_count": 127,
     "metadata": {},
     "output_type": "execute_result"
    }
   ],
   "source": [
    "# предсказание продаж линейной регрессией\n",
    "lm = LinearRegression()\n",
    "lm.fit(X_train, y_train)"
   ]
  },
  {
   "cell_type": "code",
   "execution_count": 128,
   "metadata": {},
   "outputs": [
    {
     "data": {
      "text/plain": [
       "9813.600347920179"
      ]
     },
     "execution_count": 128,
     "metadata": {},
     "output_type": "execute_result"
    }
   ],
   "source": [
    "np.sqrt(mean_squared_error(lm.predict(X_train), y_train))"
   ]
  },
  {
   "cell_type": "code",
   "execution_count": 129,
   "metadata": {},
   "outputs": [
    {
     "data": {
      "text/plain": [
       "8790.183543852156"
      ]
     },
     "execution_count": 129,
     "metadata": {},
     "output_type": "execute_result"
    }
   ],
   "source": [
    "lm.predict(X_train).mean()"
   ]
  },
  {
   "cell_type": "code",
   "execution_count": 130,
   "metadata": {},
   "outputs": [
    {
     "data": {
      "text/plain": [
       "SALES   8790.18\n",
       "dtype: float64"
      ]
     },
     "execution_count": 130,
     "metadata": {},
     "output_type": "execute_result"
    }
   ],
   "source": [
    "y_train.mean()"
   ]
  },
  {
   "cell_type": "code",
   "execution_count": 131,
   "metadata": {},
   "outputs": [
    {
     "data": {
      "text/plain": [
       "12100.991475799947"
      ]
     },
     "execution_count": 131,
     "metadata": {},
     "output_type": "execute_result"
    }
   ],
   "source": [
    "np.sqrt(mean_squared_error(lm.predict(X_test), y_test))"
   ]
  },
  {
   "cell_type": "code",
   "execution_count": 132,
   "metadata": {},
   "outputs": [
    {
     "data": {
      "text/plain": [
       "8157.679360146798"
      ]
     },
     "execution_count": 132,
     "metadata": {},
     "output_type": "execute_result"
    }
   ],
   "source": [
    "lm.predict(X_test).mean()"
   ]
  },
  {
   "cell_type": "code",
   "execution_count": 133,
   "metadata": {},
   "outputs": [
    {
     "data": {
      "text/plain": [
       "SALES   7531.07\n",
       "dtype: float64"
      ]
     },
     "execution_count": 133,
     "metadata": {},
     "output_type": "execute_result"
    }
   ],
   "source": [
    "y_test.mean()"
   ]
  },
  {
   "cell_type": "markdown",
   "metadata": {},
   "source": [
    "## Истинные продажи и их предсказания линейной моделью:"
   ]
  },
  {
   "cell_type": "code",
   "execution_count": 134,
   "metadata": {},
   "outputs": [
    {
     "data": {
      "text/plain": [
       "Text(0, 0.5, 'Estimated sales')"
      ]
     },
     "execution_count": 134,
     "metadata": {},
     "output_type": "execute_result"
    },
    {
     "data": {
      "image/png": "[encoded data removed]",
      "text/plain": [
       "<Figure size 1008x504 with 2 Axes>"
      ]
     },
     "metadata": {
      "needs_background": "light"
     },
     "output_type": "display_data"
    }
   ],
   "source": [
    "plt.figure(figsize(14,7))\n",
    "plt.subplot(121)\n",
    "pyplot.scatter(y_train, lm.predict(X_train), color=\"red\", alpha=0.1)\n",
    "#pyplot.xlim(2.5,9.5)\n",
    "#pyplot.ylim(2.5,9.5)\n",
    "plot(range(1200000), color='black')\n",
    "grid()\n",
    "pyplot.title('Train set', fontsize=20)\n",
    "pyplot.xlabel('Sales', fontsize=14)\n",
    "pyplot.ylabel('Estimated sales', fontsize=14)\n",
    "\n",
    "plt.subplot(122)\n",
    "pyplot.scatter(y_test, lm.predict(X_test), color=\"red\", alpha=0.1)\n",
    "#pyplot.xlim(2.5,9.5)\n",
    "#pyplot.ylim(2.5,9.5)\n",
    "plot(range(1200000), color='black')\n",
    "grid()\n",
    "pyplot.title('Test set', fontsize=20)\n",
    "pyplot.xlabel('Sales', fontsize=14)\n",
    "pyplot.ylabel('Estimated sales', fontsize=14)"
   ]
  },
  {
   "cell_type": "code",
   "execution_count": 135,
   "metadata": {},
   "outputs": [
    {
     "name": "stderr",
     "output_type": "stream",
     "text": [
      "C:\\ProgramData\\Anaconda3\\lib\\site-packages\\sklearn\\pipeline.py:354: DataConversionWarning: A column-vector y was passed when a 1d array was expected. Please change the shape of y to (n_samples,), for example using ravel().\n",
      "  self._final_estimator.fit(Xt, y, **fit_params)\n",
      "C:\\ProgramData\\Anaconda3\\lib\\site-packages\\sklearn\\ensemble\\_gb.py:1454: DataConversionWarning: A column-vector y was passed when a 1d array was expected. Please change the shape of y to (n_samples, ), for example using ravel().\n",
      "  y = column_or_1d(y, warn=True)\n"
     ]
    }
   ],
   "source": [
    "# Список моделей\n",
    "pipeline_lr=Pipeline([(\"scalar1\",StandardScaler()),\n",
    "                     (\"lr_classifier\",LinearRegression())])\n",
    "\n",
    "pipeline_dt=Pipeline([(\"scalar2\",StandardScaler()),\n",
    "                     (\"dt_classifier\",DecisionTreeRegressor())])\n",
    "\n",
    "pipeline_rf=Pipeline([(\"scalar3\",StandardScaler()),\n",
    "                     (\"rf_classifier\",RandomForestRegressor())])\n",
    "\n",
    "\n",
    "pipeline_kn=Pipeline([(\"scalar4\",StandardScaler()),\n",
    "                     (\"kn_classifier\",KNeighborsRegressor())])\n",
    "\n",
    "\n",
    "pipeline_gb=Pipeline([(\"scalar5\",StandardScaler()),\n",
    "                     (\"gb_classifier\",GradientBoostingRegressor())])\n",
    "\n",
    "\n",
    "pipelines = [pipeline_lr, pipeline_dt, pipeline_rf, pipeline_kn, pipeline_gb]\n",
    "\n",
    "# Dictionary of pipelines and model types for ease of reference\n",
    "pipe_dict = {0: \"LinearRegression\", 1: \"DecisionTree\", 2: \"RandomForest\",3: \"KNeighbors\",4: \"GradientBoosting\"}\n",
    "\n",
    "# Обучаем каждую модель\n",
    "for pipe in pipelines:\n",
    "    pipe.fit(X_train, y_train)"
   ]
  },
  {
   "cell_type": "code",
   "execution_count": 136,
   "metadata": {},
   "outputs": [
    {
     "name": "stdout",
     "output_type": "stream",
     "text": [
      "LinearRegression:\t -1.8653234286907926e+28 \n",
      "DecisionTree:\t -167 522 570.67372686 \n"
     ]
    },
    {
     "name": "stderr",
     "output_type": "stream",
     "text": [
      "C:\\ProgramData\\Anaconda3\\lib\\site-packages\\sklearn\\pipeline.py:354: DataConversionWarning: A column-vector y was passed when a 1d array was expected. Please change the shape of y to (n_samples,), for example using ravel().\n",
      "  self._final_estimator.fit(Xt, y, **fit_params)\n",
      "C:\\ProgramData\\Anaconda3\\lib\\site-packages\\sklearn\\pipeline.py:354: DataConversionWarning: A column-vector y was passed when a 1d array was expected. Please change the shape of y to (n_samples,), for example using ravel().\n",
      "  self._final_estimator.fit(Xt, y, **fit_params)\n"
     ]
    },
    {
     "name": "stdout",
     "output_type": "stream",
     "text": [
      "RandomForest:\t -101 368 254.55596104 \n",
      "KNeighbors:\t -159 535 884.7492694 \n"
     ]
    },
    {
     "name": "stderr",
     "output_type": "stream",
     "text": [
      "C:\\ProgramData\\Anaconda3\\lib\\site-packages\\sklearn\\ensemble\\_gb.py:1454: DataConversionWarning: A column-vector y was passed when a 1d array was expected. Please change the shape of y to (n_samples, ), for example using ravel().\n",
      "  y = column_or_1d(y, warn=True)\n",
      "C:\\ProgramData\\Anaconda3\\lib\\site-packages\\sklearn\\ensemble\\_gb.py:1454: DataConversionWarning: A column-vector y was passed when a 1d array was expected. Please change the shape of y to (n_samples, ), for example using ravel().\n",
      "  y = column_or_1d(y, warn=True)\n"
     ]
    },
    {
     "name": "stdout",
     "output_type": "stream",
     "text": [
      "GradientBoosting:\t -95 164 627.64865002 \n"
     ]
    }
   ],
   "source": [
    "cv_results_rms = []\n",
    "for i, model in enumerate(pipelines):\n",
    "    cv_score = cross_val_score(model, X_train,y_train,scoring=\"neg_mean_squared_error\", cv=2)\n",
    "    cv_results_rms.append(cv_score)\n",
    "    print(\"%s:\\t %s \" % (pipe_dict[i], '{0:,}'.format(cv_score.mean()).replace(',', ' ')))"
   ]
  },
  {
   "cell_type": "code",
   "execution_count": 141,
   "metadata": {},
   "outputs": [
    {
     "data": {
      "text/plain": [
       "array([  -86.70388682,   -86.70388682,   -86.70388682, ...,\n",
       "       81025.37336816, 11535.88111091,   -86.70388682])"
      ]
     },
     "execution_count": 141,
     "metadata": {},
     "output_type": "execute_result"
    }
   ],
   "source": [
    "pred = pipeline_gb.predict(X_test)"
   ]
  },
  {
   "cell_type": "code",
   "execution_count": 147,
   "metadata": {},
   "outputs": [
    {
     "name": "stdout",
     "output_type": "stream",
     "text": [
      "Коэффициент детерминации R^2: 0.918091321976413\n",
      "Скорректированный R^2: 0.917943579050685\n",
      "Средняя абсолютная ошибка MAE: 2299.7576418334606\n",
      "Средняя квадратическая ошибка MSE: 73341100.7442932\n",
      "Корень RMSE: 8563.941892860623\n",
      "\n",
      " Предложенная функция оценки metric: 29.52088561751312\n"
     ]
    }
   ],
   "source": [
    "# Оценки модели\n",
    "print(\"Коэффициент детерминации R^2:\",metrics.r2_score(y_test, pred))\n",
    "print(\"Скорректированный R^2:\",1 - (1-metrics.r2_score(y_test, pred))*(len(y_test)-1)/(len(y_test)-X_test.shape[1]-1))\n",
    "print(\"Средняя абсолютная ошибка MAE:\",metrics.mean_absolute_error(y_test, pred))\n",
    "print(\"Средняя квадратическая ошибка MSE:\",metrics.mean_squared_error(y_test, pred))\n",
    "print(\"Корень RMSE:\",np.sqrt(metrics.mean_squared_error(y_test, pred)))\n",
    "#\n",
    "print(\"\\n Предложенная функция оценки metric:\",metric(y_test['SALES'].to_numpy(), pred) )"
   ]
  },
  {
   "cell_type": "code",
   "execution_count": 150,
   "metadata": {},
   "outputs": [
    {
     "data": {
      "text/plain": [
       "Text(0, 0.5, 'Estimated sales')"
      ]
     },
     "execution_count": 150,
     "metadata": {},
     "output_type": "execute_result"
    },
    {
     "data": {
      "image/png": "[encoded data removed]",
      "text/plain": [
       "<Figure size 1008x504 with 2 Axes>"
      ]
     },
     "metadata": {
      "needs_background": "light"
     },
     "output_type": "display_data"
    }
   ],
   "source": [
    "plt.figure(figsize(14,7))\n",
    "plt.subplot(121)\n",
    "pyplot.scatter(y_train, pipeline_gb.predict(X_train), color=\"red\", alpha=0.1)\n",
    "#pyplot.xlim(2.5,9.5)\n",
    "#pyplot.ylim(2.5,9.5)\n",
    "plot(range(1000000), color='black')\n",
    "grid()\n",
    "pyplot.title('Train set', fontsize=20)\n",
    "pyplot.xlabel('Sales', fontsize=14)\n",
    "pyplot.ylabel('Estimated sales', fontsize=14)\n",
    "\n",
    "plt.subplot(122)\n",
    "pyplot.scatter(y_test, pipeline_gb.predict(X_test), color=\"red\", alpha=0.1)\n",
    "#pyplot.xlim(2.5,9.5)\n",
    "#pyplot.ylim(2.5,9.5)\n",
    "plot(range(1000000), color='black')\n",
    "grid()\n",
    "pyplot.title('Test set', fontsize=20)\n",
    "pyplot.xlabel('Sales', fontsize=14)\n",
    "pyplot.ylabel('Estimated sales', fontsize=14)"
   ]
  },
  {
   "cell_type": "code",
   "execution_count": null,
   "metadata": {},
   "outputs": [],
   "source": []
  }
 ],
 "metadata": {
  "kernelspec": {
   "display_name": "Python 3",
   "language": "python",
   "name": "python3"
  },
  "language_info": {
   "codemirror_mode": {
    "name": "ipython",
    "version": 3
   },
   "file_extension": ".py",
   "mimetype": "text/x-python",
   "name": "python",
   "nbconvert_exporter": "python",
   "pygments_lexer": "ipython3",
   "version": "3.7.6"
  }
 },
 "nbformat": 4,
 "nbformat_minor": 4
}
